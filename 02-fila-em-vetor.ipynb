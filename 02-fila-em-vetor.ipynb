{
 "cells": [
  {
   "cell_type": "markdown",
   "metadata": {},
   "source": [
    "# Fila em vetor\n",
    "\n",
    "Implementação de fila em vetor.\n",
    "\n",
    "## Índice\n",
    "\n",
    "1. **[Declarações](#Declarações)** <br>\n",
    "2. **[Exemplos](#Exemplos)** <br>\n",
    "3. **[Exercício: atendimento prioritário](#Exercício:-atendimento-prioritário)** <br>\n",
    "4. **[Exercício: preenchimento por inundação (1-d)](#Exercício:-preenchimento-por-inundação-(1-d))** <br>"
   ]
  },
  {
   "cell_type": "markdown",
   "metadata": {},
   "source": [
    "## Declarações"
   ]
  },
  {
   "cell_type": "code",
   "execution_count": 1,
   "metadata": {},
   "outputs": [],
   "source": [
    "namespace structures {\n",
    "\n",
    "template<typename T>\n",
    "//! classe ArrayQueue\n",
    "class ArrayQueue {\n",
    " public:\n",
    "    //! construtor padrao\n",
    "    ArrayQueue();\n",
    "    //! construtor com parametro\n",
    "    explicit ArrayQueue(std::size_t max);\n",
    "    //! destrutor padrao\n",
    "    ~ArrayQueue();\n",
    "    //! metodo enfileirar\n",
    "    void enqueue(const T& data);\n",
    "    //! metodo desenfileirar\n",
    "    T dequeue();\n",
    "    //! metodo retorna o ultimo\n",
    "    T& back();\n",
    "    //! metodo limpa a fila\n",
    "    void clear();\n",
    "    //! metodo retorna tamanho atual\n",
    "    std::size_t size();\n",
    "    //! metodo retorna tamanho maximo\n",
    "    std::size_t max_size();\n",
    "    //! metodo verifica se vazio\n",
    "    bool empty();\n",
    "    //! metodo verifica se esta cheio\n",
    "    bool full();\n",
    "\n",
    " private:\n",
    "    T* contents;\n",
    "    std::size_t size_;\n",
    "    std::size_t max_size_;\n",
    "    int begin_;  // indice do inicio (para fila circular)\n",
    "    int end_;  // indice do fim (para fila circular)\n",
    "    static const auto DEFAULT_SIZE = 10u;\n",
    "};\n",
    "\n",
    "}  // namespace structures"
   ]
  },
  {
   "cell_type": "markdown",
   "metadata": {},
   "source": [
    "## Exemplos"
   ]
  },
  {
   "cell_type": "code",
   "execution_count": 2,
   "metadata": {},
   "outputs": [
    {
     "name": "stdout",
     "output_type": "stream",
     "text": [
      "11\n",
      "22\n",
      "33\n"
     ]
    }
   ],
   "source": [
    "#include <iostream>\n",
    "#pragma cling load(\"libs/libarray_queue.so\")\n",
    "\n",
    "structures::ArrayQueue<int> fila(5);\n",
    "fila.enqueue(11);\n",
    "fila.enqueue(22);\n",
    "fila.enqueue(33);\n",
    "fila.enqueue(44);\n",
    "fila.enqueue(55);\n",
    "std::cout << fila.dequeue() << std::endl;\n",
    "std::cout << fila.dequeue() << std::endl;\n",
    "std::cout << fila.dequeue() << std::endl;\n",
    "fila.enqueue(66);\n",
    "fila.enqueue(77);"
   ]
  },
  {
   "cell_type": "markdown",
   "metadata": {},
   "source": [
    "![Fila em vetor](figs/fila-em-vetor.png)"
   ]
  },
  {
   "cell_type": "markdown",
   "metadata": {},
   "source": [
    "## Exercício: atendimento prioritário"
   ]
  },
  {
   "cell_type": "markdown",
   "metadata": {},
   "source": [
    "Considerando a fila em vetor (circular) acima, implemente uma funcionalidade de aplicação (sem alterar a classe `ArrayQueue`) para a inserção de um `novo` elemento (inteiro) no início da fila (de modo que tenha a mais alta prioridade de atendimento)."
   ]
  },
  {
   "cell_type": "code",
   "execution_count": 3,
   "metadata": {},
   "outputs": [],
   "source": [
    "void atendimento_prioritario(structures::ArrayQueue<int>& fila, int novo) {\n",
    "    int aux;\n",
    "    structures::ArrayQueue<int> fila_aux(fila.max_size());\n",
    "    while (!fila.empty()) {  // passa todos para uma fila auxiliar\n",
    "        aux = fila.dequeue();\n",
    "        fila_aux.enqueue(aux);\n",
    "    }\n",
    "    fila.enqueue(novo);  // insere novo na fila original\n",
    "    while (!fila_aux.empty()) {  // recompoe fila com elementos originais\n",
    "        aux = fila_aux.dequeue();\n",
    "        fila.enqueue(aux);\n",
    "    }    \n",
    "}"
   ]
  },
  {
   "cell_type": "code",
   "execution_count": 4,
   "metadata": {},
   "outputs": [
    {
     "name": "stdout",
     "output_type": "stream",
     "text": [
      "77\n",
      "11\n"
     ]
    }
   ],
   "source": [
    "structures::ArrayQueue<int> fila_pri(5);\n",
    "fila_pri.enqueue(11);\n",
    "fila_pri.enqueue(22);\n",
    "fila_pri.enqueue(33);\n",
    "atendimento_prioritario(fila_pri, 77);\n",
    "std::cout << fila_pri.dequeue() << std::endl;\n",
    "std::cout << fila_pri.dequeue() << std::endl;"
   ]
  },
  {
   "cell_type": "markdown",
   "metadata": {},
   "source": [
    "**Observação:** esta solução, do lado da aplicação, é ineficiente (por quê?); como exercício, adicione um método ao objeto `ArrayQueue` para \"atendimento prioritário\" que não faça movimentação de dados; para uma solução completa, também é possível associar um atributo ou conjunto de atributos de cada dado de modo que o mesmo se posicione na fila conforme sua prioridade."
   ]
  },
  {
   "cell_type": "markdown",
   "metadata": {},
   "source": [
    "## Exercício: preenchimento por inundação (1-d)"
   ]
  },
  {
   "cell_type": "code",
   "execution_count": 5,
   "metadata": {},
   "outputs": [],
   "source": [
    "int* floodfill1d(int vetor[], int tamanho, int semente) {\n",
    "    int posicao;\n",
    "    int rotulo = vetor[semente];\n",
    "    structures::ArrayQueue<int> fila(100);\n",
    "    int *vetor_saida = new int[tamanho];\n",
    "    for (int i=0; i < tamanho; i++) {\n",
    "        vetor_saida[i] = 0;\n",
    "    }\n",
    "    vetor_saida[semente] = 1;\n",
    "    fila.enqueue(semente);\n",
    "    while (!fila.empty()) {\n",
    "        posicao = fila.dequeue();\n",
    "        if (posicao > 0 && vetor_saida[posicao-1] != 1 && vetor[posicao-1] == rotulo) {\n",
    "            // vizinho da esquerda esta' no dominio, nao foi visitado e tem mesmo rotulo\n",
    "            vetor_saida[posicao-1] = 1;\n",
    "            fila.enqueue(posicao-1);\n",
    "        }\n",
    "        if (posicao < tamanho-1 && vetor_saida[posicao+1] != 1 && vetor[posicao+1] == rotulo) {\n",
    "            // vizinho da direita esta' no dominio, nao foi visitado e tem mesmo rotulo\n",
    "            vetor_saida[posicao+1] = 1;\n",
    "            fila.enqueue(posicao+1);\n",
    "        }\n",
    "    }\n",
    "    return vetor_saida;\n",
    "}"
   ]
  },
  {
   "cell_type": "code",
   "execution_count": 6,
   "metadata": {},
   "outputs": [],
   "source": [
    "void imprime_vetor(int vetor[], int tamanho) {\n",
    "    for (int i=0; i < tamanho; i++) {\n",
    "        std::cout << vetor[i] << ' ';\n",
    "    }\n",
    "    std::cout << std::endl;\n",
    "}"
   ]
  },
  {
   "cell_type": "code",
   "execution_count": 7,
   "metadata": {},
   "outputs": [
    {
     "name": "stdout",
     "output_type": "stream",
     "text": [
      "Entrada:\n",
      "0 1 1 0 1 1 1 1 0 1 \n",
      "\n",
      "Semente: 5\n",
      "\n",
      "Saida:\n",
      "0 0 0 0 1 1 1 1 0 0 \n"
     ]
    }
   ],
   "source": [
    "const int tam1 = 10;\n",
    "int sem1 = 5;\n",
    "int vetor1[tam1] = {0,1,1,0,1,1,1,1,0,1};\n",
    "int *vetor1_saida = floodfill1d(vetor1, tam1, sem1);\n",
    "std::cout << \"Entrada:\\n\";\n",
    "imprime_vetor(vetor1, tam1);\n",
    "std::cout << \"\\nSemente: \" << sem1 << \"\\n\\n\";\n",
    "std::cout << \"Saida:\\n\";\n",
    "imprime_vetor(vetor1_saida, tam1);"
   ]
  }
 ],
 "metadata": {
  "kernelspec": {
   "display_name": "C++14",
   "language": "C++14",
   "name": "xcpp14"
  },
  "language_info": {
   "codemirror_mode": "text/x-c++src",
   "file_extension": ".cpp",
   "mimetype": "text/x-c++src",
   "name": "c++",
   "version": "14"
  }
 },
 "nbformat": 4,
 "nbformat_minor": 2
}
