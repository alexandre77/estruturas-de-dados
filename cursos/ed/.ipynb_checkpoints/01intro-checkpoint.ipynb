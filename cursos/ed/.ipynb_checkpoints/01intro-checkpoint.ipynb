{
 "cells": [
  {
   "cell_type": "markdown",
   "metadata": {},
   "source": [
    "## Classe\n",
    "\n",
    "Exemplo de uso de classe"
   ]
  },
  {
   "cell_type": "code",
   "execution_count": 1,
   "metadata": {},
   "outputs": [],
   "source": [
    "#include <iostream>\n",
    "\n",
    "class MyClass {\n",
    "  public:\n",
    "    void foo();\n",
    "    float bar;\n",
    "};"
   ]
  },
  {
   "cell_type": "code",
   "execution_count": 2,
   "metadata": {},
   "outputs": [],
   "source": [
    "void MyClass::foo() {\n",
    "    std::cout << \"Hello World!\" << std::endl;\n",
    "}"
   ]
  },
  {
   "cell_type": "code",
   "execution_count": 3,
   "metadata": {},
   "outputs": [],
   "source": [
    "int main() {\n",
    "    MyClass* a = new MyClass();\n",
    "    a->foo();\n",
    "    return 0;\n",
    "}"
   ]
  },
  {
   "cell_type": "code",
   "execution_count": 4,
   "metadata": {},
   "outputs": [
    {
     "name": "stdout",
     "output_type": "stream",
     "text": [
      "Hello World!\n",
      "Hello World!\n",
      "Hello World!\n"
     ]
    },
    {
     "data": {
      "text/plain": [
       "@0x7fd0a7a45028"
      ]
     },
     "execution_count": 4,
     "metadata": {},
     "output_type": "execute_result"
    }
   ],
   "source": [
    "MyClass A;\n",
    "A.foo();\n",
    "\n",
    "MyClass* a;\n",
    "a = new MyClass();\n",
    "a->foo();\n",
    "(*a).foo();\n",
    "\n",
    "a;\n",
    "A"
   ]
  },
  {
   "cell_type": "markdown",
   "metadata": {},
   "source": [
    "# Template\n",
    "\n",
    "Exemplo de uso de template."
   ]
  },
  {
   "cell_type": "code",
   "execution_count": 1,
   "metadata": {},
   "outputs": [],
   "source": [
    "#include <iostream>\n",
    "\n",
    "template <class T>\n",
    "class MyClass2 {\n",
    "  public:\n",
    "    MyClass2(T bar) {\n",
    "        std::cout << \"Hello World!\" << std::endl << bar << std::endl;\n",
    "    }\n",
    "    void foo(T bar) {\n",
    "        std::cout<<\"Hello World!\"<<std::endl << bar << std::endl;\n",
    "    }\n",
    "};"
   ]
  },
  {
   "cell_type": "code",
   "execution_count": 2,
   "metadata": {},
   "outputs": [
    {
     "name": "stdout",
     "output_type": "stream",
     "text": [
      "Hello World!\n",
      "101\n",
      "Hello World!\n",
      "102\n",
      "Hello World!\n",
      "101.01\n",
      "Hello World!\n",
      "102.02\n"
     ]
    }
   ],
   "source": [
    "MyClass2<int>* a = new MyClass2<int>(101);\n",
    "a->foo(102);\n",
    "\n",
    "MyClass2<float>* b = new MyClass2<float>(101.01);\n",
    "b->foo(102.02);"
   ]
  },
  {
   "cell_type": "code",
   "execution_count": 3,
   "metadata": {},
   "outputs": [
    {
     "name": "stdout",
     "output_type": "stream",
     "text": [
      "Hello World!\n",
      "201\n",
      "Hello World!\n",
      "202\n"
     ]
    }
   ],
   "source": [
    "MyClass2<int> A(201);\n",
    "A.foo(202);"
   ]
  },
  {
   "cell_type": "markdown",
   "metadata": {},
   "source": [
    "## Continuar daqui... !!!"
   ]
  },
  {
   "cell_type": "code",
   "execution_count": 1,
   "metadata": {},
   "outputs": [],
   "source": [
    "#include <string>\n",
    "#include <fstream>\n",
    "#include \"xcpp/xdisplay.hpp\"\n",
    "#include \"xeus/xjson.hpp\"\n",
    "\n",
    "namespace ht {\n",
    "    struct html {\n",
    "        inline html(const std::string& filename) {\n",
    "            std::ifstream myfile(filename);\n",
    "            m_buffer << myfile.rdbuf();\n",
    "        }\n",
    "        // inline html(const std::string& content) {\n",
    "        //    m_content = content;\n",
    "        // }\n",
    "        std::stringstream m_buffer;\n",
    "    };\n",
    "    xeus::xjson mime_bundle_repr(const html& a) {\n",
    "        auto bundle = xeus::xjson::object();\n",
    "        bundle[\"text/html\"] = a.m_buffer.str();\n",
    "        return bundle;\n",
    "    }\n",
    "}\n",
    "\n",
    "ht::html circle(\"fig/circle.svg\");"
   ]
  },
  {
   "cell_type": "code",
   "execution_count": 2,
   "metadata": {},
   "outputs": [
    {
     "data": {
      "text/html": [
       "<?xml version=\"1.0\" encoding=\"UTF-8\" standalone=\"no\"?>\n",
       "<!-- Created with Inkscape (http://www.inkscape.org/) -->\n",
       "\n",
       "<svg\n",
       "   xmlns:dc=\"http://purl.org/dc/elements/1.1/\"\n",
       "   xmlns:cc=\"http://creativecommons.org/ns#\"\n",
       "   xmlns:rdf=\"http://www.w3.org/1999/02/22-rdf-syntax-ns#\"\n",
       "   xmlns:svg=\"http://www.w3.org/2000/svg\"\n",
       "   xmlns=\"http://www.w3.org/2000/svg\"\n",
       "   xmlns:sodipodi=\"http://sodipodi.sourceforge.net/DTD/sodipodi-0.dtd\"\n",
       "   xmlns:inkscape=\"http://www.inkscape.org/namespaces/inkscape\"\n",
       "   width=\"43.01873mm\"\n",
       "   height=\"43.01873mm\"\n",
       "   viewBox=\"0 0 152.42857 152.42857\"\n",
       "   id=\"svg2\"\n",
       "   version=\"1.1\"\n",
       "   inkscape:version=\"0.91 r13725\"\n",
       "   sodipodi:docname=\"circle.svg\">\n",
       "  <defs\n",
       "     id=\"defs4\" />\n",
       "  <sodipodi:namedview\n",
       "     id=\"base\"\n",
       "     pagecolor=\"#ffffff\"\n",
       "     bordercolor=\"#666666\"\n",
       "     borderopacity=\"1.0\"\n",
       "     inkscape:pageopacity=\"0.0\"\n",
       "     inkscape:pageshadow=\"2\"\n",
       "     inkscape:zoom=\"0.35\"\n",
       "     inkscape:cx=\"249.78571\"\n",
       "     inkscape:cy=\"131.92857\"\n",
       "     inkscape:document-units=\"px\"\n",
       "     inkscape:current-layer=\"layer1\"\n",
       "     showgrid=\"false\"\n",
       "     fit-margin-top=\"0\"\n",
       "     fit-margin-left=\"0\"\n",
       "     fit-margin-right=\"0\"\n",
       "     fit-margin-bottom=\"0\"\n",
       "     inkscape:window-width=\"1375\"\n",
       "     inkscape:window-height=\"876\"\n",
       "     inkscape:window-x=\"65\"\n",
       "     inkscape:window-y=\"24\"\n",
       "     inkscape:window-maximized=\"1\" />\n",
       "  <metadata\n",
       "     id=\"metadata7\">\n",
       "    <rdf:RDF>\n",
       "      <cc:Work\n",
       "         rdf:about=\"\">\n",
       "        <dc:format>image/svg+xml</dc:format>\n",
       "        <dc:type\n",
       "           rdf:resource=\"http://purl.org/dc/dcmitype/StillImage\" />\n",
       "        <dc:title></dc:title>\n",
       "      </cc:Work>\n",
       "    </rdf:RDF>\n",
       "  </metadata>\n",
       "  <g\n",
       "     inkscape:label=\"Camada 1\"\n",
       "     inkscape:groupmode=\"layer\"\n",
       "     id=\"layer1\"\n",
       "     transform=\"translate(-125.21429,-169.00506)\">\n",
       "    <circle\n",
       "       style=\"fill:#ff0000;fill-rule:evenodd;stroke:#000000;stroke-width:1px;stroke-linecap:butt;stroke-linejoin:miter;stroke-opacity:1\"\n",
       "       id=\"path3336\"\n",
       "       cx=\"201.42857\"\n",
       "       cy=\"245.21935\"\n",
       "       r=\"75.714287\" />\n",
       "  </g>\n",
       "</svg>\n"
      ]
     },
     "metadata": {},
     "output_type": "display_data"
    }
   ],
   "source": [
    "// xcpp::display(rect, \"some_display_id\");\n",
    "xcpp::display(circle, \"some_display_id\");"
   ]
  },
  {
   "cell_type": "markdown",
   "metadata": {},
   "source": [
    "## Polymorphism"
   ]
  },
  {
   "cell_type": "code",
   "execution_count": 18,
   "metadata": {},
   "outputs": [],
   "source": [
    "class Bar : public Foo\n",
    "{\n",
    "public:\n",
    "\n",
    "    virtual ~Bar() {}\n",
    "    \n",
    "    virtual void print(double value) const\n",
    "    {\n",
    "        std::cout << \"Bar value = \" << 2 * value << std::endl;\n",
    "    }\n",
    "};"
   ]
  },
  {
   "cell_type": "code",
   "execution_count": 19,
   "metadata": {},
   "outputs": [
    {
     "name": "stdout",
     "output_type": "stream",
     "text": [
      "Bar value = 2.4\n"
     ]
    }
   ],
   "source": [
    "Foo* bar2 = new Bar;\n",
    "bar2->print(1.2);\n",
    "delete bar2;"
   ]
  },
  {
   "cell_type": "markdown",
   "metadata": {},
   "source": [
    "## Templates"
   ]
  },
  {
   "cell_type": "code",
   "execution_count": 20,
   "metadata": {},
   "outputs": [],
   "source": [
    "#include <typeinfo>\n",
    "\n",
    "template <class T>\n",
    "class FooT\n",
    "{\n",
    "public:\n",
    "    \n",
    "    explicit FooT(const T& t) : m_t(t) {}\n",
    "    \n",
    "    void print() const\n",
    "    {\n",
    "        std::cout << typeid(T).name() << \" m_t = \" << m_t << std::endl;\n",
    "    }\n",
    "    \n",
    "private:\n",
    "    \n",
    "    T m_t;\n",
    "};\n",
    "\n",
    "template <>\n",
    "class FooT<int>\n",
    "{\n",
    "public:\n",
    "    \n",
    "    explicit FooT(const int& t) : m_t(t) {}\n",
    "    \n",
    "    void print() const\n",
    "    {\n",
    "        std::cout << \"m_t = \" << m_t << std::endl;\n",
    "    }\n",
    "    \n",
    "private:\n",
    "    \n",
    "    int m_t;\n",
    "};"
   ]
  },
  {
   "cell_type": "code",
   "execution_count": 21,
   "metadata": {},
   "outputs": [
    {
     "name": "stdout",
     "output_type": "stream",
     "text": [
      "d m_t = 1.2\n"
     ]
    }
   ],
   "source": [
    "FooT<double> foot1(1.2);\n",
    "foot1.print();"
   ]
  },
  {
   "cell_type": "code",
   "execution_count": 22,
   "metadata": {},
   "outputs": [
    {
     "name": "stdout",
     "output_type": "stream",
     "text": [
      "m_t = 4\n"
     ]
    }
   ],
   "source": [
    "FooT<int> foot2(4);\n",
    "foot2.print();"
   ]
  }
 ],
 "metadata": {
  "kernelspec": {
   "display_name": "C++14",
   "language": "C++14",
   "name": "xcpp14"
  },
  "language_info": {
   "codemirror_mode": "text/x-c++src",
   "file_extension": ".cpp",
   "mimetype": "text/x-c++src",
   "name": "c++",
   "version": "14"
  }
 },
 "nbformat": 4,
 "nbformat_minor": 2
}
