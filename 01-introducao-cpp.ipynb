{
 "cells": [
  {
   "cell_type": "markdown",
   "metadata": {},
   "source": [
    "# Aula 01 - Introdução à C++ (parte 1)\n",
    "\n",
    "- Pré-requisito: disciplina de orientação a objetos\n",
    "- Referência: baseado no *wikilivro* [Programar em C++](https://pt.wikibooks.org/wiki/Programar_em_C%2B%2B)\n",
    "- Repositório: [github estruturas-de-dados](https://github.com/alexandre77/estruturas-de-dados)\n",
    "\n",
    "## Índice\n",
    "\n",
    "1. **[Introdução](#Introdução)** <br>\n",
    "2. **[Olá, mundo!](#Olá,-mundo!)** <br>\n",
    "3. **[Variáveis e constantes](#Variáveis-e-constantes)** <br>\n",
    "4. **[Ponteiros](#Ponteiros)** <br>\n",
    "5. **[Vetores](#Vetores)** <br>\n",
    "6. **[Exemplos](#Exemplos)** <br>"
   ]
  },
  {
   "cell_type": "markdown",
   "metadata": {},
   "source": [
    "## Introdução"
   ]
  },
  {
   "cell_type": "markdown",
   "metadata": {},
   "source": [
    "### Objetivo\n",
    "Este material tem por objetivo apresentar os fundamentos desta linguagem, de modo que o estudante possa desenvolver diferentes tipos de softwares em alto e baixo nível para os diversos ambientes existentes, desde aplicações para GNU/Linux ou Windows até programas para microcontroladores, além de fornecer a base para os estudos avançados de C++. Espera-se que este material aborde:\n",
    "\n",
    "- Aspectos teóricos\n",
    "- Aspectos práticos\n",
    "- Os erros comuns\n",
    "\n",
    "Para tanto, cada tópico deverá ter uma explicação teórica, citar os erros mais comuns e exercícios.\n",
    "\n",
    "### Por que C++?\n",
    "Imagine que um programa para fazer a máquina de um pequeno relógio de pulso funcionar deva ser feito, então você pensa:\n",
    "\n",
    "- Bom, isso pode ser feito com Assembly...\n",
    "- Porém, pensando melhor, você decide mudar de linguagem quando você pondera.\n",
    "- O problema maior é que se eu tiver que mudar o processador do relógio, vou ter que refazer o programa. É melhor usar linguagem \"C\".\n",
    "- Depois você termina por avaliar outra possibilidade:\n",
    "- Bem, se eu já estou pensando em \"C\" é melhor usar \"C++\", depois vai ser mais fácil de entender o código, reaproveitar em outras coisas e ainda vai ser mais fácil de expandir para outros modelos de relógio.\n",
    "\n",
    "E assim é o que podemos perceber como C++ é poderosa, flexível e abrangente. Ela pode ser usada para programar qualquer tipo de hardware, desde os mais simples até os mais complexos. Além disso, C++ é uma linguagem que gera programas em código de máquina, que funcionam com ou sem a participação de sistemas operacionais no dispositivo.\n",
    "\n",
    "Alguns profissionais afirmam que C++ é a linguagem mais poderosa que existe. Veja algumas de suas características:\n",
    "\n",
    "- É um superconjunto da linguagem C, e contém vários melhoramentos;\n",
    "- Deu origem a grandes linguagens como Java e D;\n",
    "- É a porta para a programação orientada a objetos;\n",
    "- C++ pode virtualmente ser efetivamente aplicado a qualquer tarefa de programação;\n",
    "- Há vários compiladores para diversas plataformas, tornando a linguagem uma opção para programas multiplataforma.\n",
    "\n",
    "A linguagem C++ é utilizada em projetos como:\n",
    "\n",
    "- Compiladores;\n",
    "- Editores;\n",
    "- Ferramentas de programação;\n",
    "- Jogos;\n",
    "- Programas de redes.\n",
    "\n",
    "Padronização:\n",
    "\n",
    "| Ano  | Padronização       | Nome informal |\n",
    "|------|--------------------|----------------|\n",
    "| 1998 | ISO/IEC 14882:1998 | C++98          |\n",
    "| 2003 | ISO/IEC 14882:2003 | C++03          |\n",
    "| 2011 | ISO/IEC 14882:2011 | C++11          |\n",
    "| 2014 | ISO/IEC 14882:2014 | C++14          |\n",
    "| 2017 | ISO/IEC 14882:2017 | C++17          |\n",
    "| 2020 | a ser determinado  | C++20          |\n",
    "\n",
    "C++ é considerada uma linguagem que está entre linguagem de alto nível (em inglês, *high level language*) e linguagem de baixo nível (em inglês, *low level language*). Dito de outra forma, é uma linguagem que está próxima da linguagem humana (linguagem de alto nível), mas ao mesmo tempo permite estar próximo da maneira como o computador processa, próximo do Assembly (uma linguagem de baixo nível).\n",
    "\n",
    "### Diferenças entre C e C++\n",
    "\n",
    "Quem sabe programar em C++, é capaz de programar C, devido à semelhança entre as linguagens e o fato do C++ ser uma extensão do C. Contudo o C não é completamente um subconjunto do C++. Grande parte de código C pode ser perfeitamente compilado em C++, mas existem algumas pequenas diferenças sintáticas e semânticas entre as linguagens que tornam alguns trechos de código C válidos em código C++ inválido, ou códigos que exibem comportamentos diferentes em cada linguagem.\n",
    "\n",
    "Algumas diferenças básicas:\n",
    "\n",
    "- O C permite a conversão implícita entre o tipo de dado `void *` para ponteiros para outros tipos, algo que o C++ não permite;\n",
    "- O C permite que constantes de caracteres sejam inseridas em chamadas de funções com parâmetros tipo `char *`, em C++ é preciso declarar o parâmetro como `const char *;`.\n",
    "\n",
    "Além destas pequenas diferenças, C++ tem um conjunto de características que a torna fundamentalmente diferente de \"C\". Esse conjunto torna possível programar em C++ de um modo totalmente diferente do modo de programar da linguagem \"C\". O que traz a diferença é o modo da orientação na montagem do código.\n",
    "\n",
    "Chamamos o modo de programar em \"C\" de orientado a procedimentos e chamamos o modo do \"C++\" de orientado a objetos. Muitas pessoas confundem as coisas quando começam a programar usando um compilador C++, pois esta linguagem permite programar nos dois modos. Essa é uma das características que a torna mais flexível.\n",
    "\n",
    "Apesar de C++ permitir programar em modo orientado a procedimentos, podemos dizer que, nestes casos, estamos programando em \"C\", usando um compilador C++. Quando usamos C++, programamos em modo orientado a objetos. Devido a estas características, o C++ permite programar em modo misto, ou seja, escrevendo partes do código orientadas a procedimentos e outras orientadas a objetos. Usar estes dois modos de programar ao mesmo tempo é uma das facilidades que o C++ permite, enquanto que outras linguagens orientadas a objetos como Java, Eifel, etc, não permitem. "
   ]
  },
  {
   "cell_type": "markdown",
   "metadata": {},
   "source": [
    "## Olá, mundo!"
   ]
  },
  {
   "cell_type": "markdown",
   "metadata": {},
   "source": [
    "### Introdução\n",
    "\n",
    "#### Pensando no código\n",
    "Considerando o conjunto de operações e eventos que nosso programa deve executar temos diversas maneiras de criar o código, porém o mais difícil é criar um código eficiente, rápido e compacto. Na verdade, diversos fatores podem interferir nestes aspectos da programação, entre eles, a escolha do compilador, o método de estruturar o código, a orientação do mesmo, etc... Em termos gerais, um código torna-se mais próximo do ideal a medida que suas partes tornam-se mais simples de se analisar e quando todos os processos estão bem definidos e especializados. Quando temos um código que contém muito mais exceções do que regras, este precisa de uma reestruturação.\n",
    "\n",
    "Podemos definir C++ como um \"superconjunto\" da linguagem C, ou seja, uma linguagem com mais funcionalidades que a linguagem C. Embora este seja o ponto de vista de quem já tem um conhecimento da linguagem C, ela é muito mais que isto. Podemos mudar completamente a forma de criar o programa quando usamos os recursos avançados da linguagem, as estruturas de decisão (por exemplo, `if-else` ou `switch`) podem ser simplificadas e a organização do código pode ser bem mais globalizada e genérica, possibilitando a reutilização do código em diversas situações diferentes.\n",
    "\n",
    "#### Um pouco sobre orientação a objetos\n",
    "A programação orientada a objetos é um paradigma de programação que visa organização, produtividade e sustentabilidade.\n",
    "\n",
    "A apresentação dos conceitos de orientação a objetos é bastante abrangente, o que implica na abordagem de diversos aspectos, como modelagem, estudo de performance de modelos, aplicabilidade de técnicas, estruturação de objetos, otimização, manutenção do código, entre outros. Por este motivo, nosso objetivo aqui não é apresentar a orientação a objetos em sua totalidade. Para um estudo mais detalhado do tema sugerimos o livro POO, que trata especificamente deste tema. O objetivo aqui é apresentar como a orientação a objetos se aplica na linguagem C++, porém os conceitos aqui apresentados devem ser suficientes para a estruturação de programas de bom nível.\n",
    "\n",
    "A ideia principal por trás do modelo de programação orientado a objetos está em transformar entidades do mundo real em identificadores dentro do programa (objetos), trabalhando-os como entidades da linguagem que possuem características e operações próprias. Esta abordagem transforma o programa em um meio de simulação de situações virtuais por meio de entidades de código que têm comportamento predefinido. Esta abstração é uma aliada do programador por permitir idealizar sistemas mais sofisticados de uma maneira bastante intuitiva.\n",
    "\n",
    "Todas as linguagens orientadas a objetos contêm os princípios de:\n",
    "\n",
    "- **Encapsulamento**\n",
    "  - É um mecanismo para esconder os detalhes envolvidos no processamento de uma ação. Por exemplo, quando usamos um telefone, não precisamos lidar diretamente com o circuito interno; a interface do telefone cuida desse problema.\n",
    "- **Polimorfismo**\n",
    "  - Isso permite o uso de uma única interface ― uma única forma de uso ― para objetos de tipos diferentes; em particular, a mesma interface para objetos de uma classe e objetos de classes derivadas dessa.\n",
    "- **Herança**\n",
    "  - Como o nome sugere, isso permite que uma classe herde de outra suas características, podendo também introduzir suas próprias ou alterar as características herdadas. O uso de herança acaba poupando trabalho e melhorando a organização do código.\n",
    "\n",
    "#### Objetos\n",
    "Objeto é, genericamente, uma entidade de armazenamento e manipulação de dados. O mesmo deve ser criado para processar os dados que armazena e recebe, sendo sensível a entradas do programa principal para fornecer as saídas esperadas pelo mesmo. Por estes motivos o objeto deve ser pensado como uma entidade de dados autônoma, encarregada de processar todos os dados que mantém.\n",
    "\n",
    "Da mesma forma que podemos usar tipos de dados nativos da linguagem podemos criar nossos tipos de dados. Na linguagem C podemos criar tipos de dados compostos que chamamos de **estruturas**, estes são criados com a palavra chave `struct`. C++ possibilita o uso de estruturas de dados e introduz um novo tipo chamado de **classe**. Como o nome sugere, uma classe refere-se a um conjunto de características dadas a um grupo de \"indivíduos\", ou seja, grupo de objetos. Por este motivo, classe é a definição de tipo de objeto.\n",
    "\n",
    "Em C++, as classes de objetos são criadas através da palavra chave `class`. Tal processo segue a sequência:\n",
    "\n",
    "- Definir os dados e procedimentos que a classe deve conter;\n",
    "- Criar a classe de objetos;\n",
    "- Declarar (instanciar) o objeto.\n",
    "\n",
    "A definição de uma classe de objetos deve ser feita de forma a tornar, preferencialmente, todos os dados protegidos de interferências de códigos externos ao objeto. Por este motivo um objeto deve ser uma parte do código do programa com uma certa autonomia. Este deve ter controle sobre seus dados e ser capaz de provê-los e lidar com eventos a eles relacionados. Dentro de seu escopo de responsabilidades, a entidade deve essencialmente \"ter vida própria\". "
   ]
  },
  {
   "cell_type": "markdown",
   "metadata": {},
   "source": [
    "### Olá, Mundo!\n",
    "É comum, no aprendizado de uma linguagem de programação, que seu primeiro programa faça com que o computador exiba \"Olá, mundo!\". Em C++, este primeiro programa já introduz muitos conceitos sobre a linguagem. Veja o código do nosso primeiro programa:"
   ]
  },
  {
   "cell_type": "code",
   "execution_count": 1,
   "metadata": {},
   "outputs": [],
   "source": [
    "#include <iostream>\n",
    "\n",
    "int main() {\n",
    "  std::cout << \"Olá, mundo!\"; \n",
    "  return 0;\n",
    "}"
   ]
  },
  {
   "cell_type": "markdown",
   "metadata": {},
   "source": [
    "Assim como, para começar a dirigir, não é necessário saber toda a mecânica do carro, para programar não precisamos logo de início nos prender a todos os detalhes. No programa acima, vamos dar atenção apenas à instrução `cout`: "
   ]
  },
  {
   "cell_type": "code",
   "execution_count": 2,
   "metadata": {},
   "outputs": [
    {
     "name": "stdout",
     "output_type": "stream",
     "text": [
      "Olá, mundo!"
     ]
    }
   ],
   "source": [
    "std::cout << \"Olá, mundo!\";"
   ]
  },
  {
   "cell_type": "markdown",
   "metadata": {},
   "source": [
    "- Instrução `std::cout << \"Olá, mundo!\";`\n",
    "\n",
    "A palavra `cout` vem de *Console OUT* (saída do console), onde geralmente temos a saída no monitor. O `cout` é seguido do operador `<<` e da frase que se quer informar entre aspas: \"Olá, mundo!\". Intuitivamente, isso nos leva a ideia de que a sequência de caracteres será levada ao `cout`. O `std::` posicionado antes indica que `cout` está no contexto deste *namespace*. Uma alternativa seria carregar este *namespace* antes. O código se tornaria o seguinte:\n",
    "\n",
    "   ```cpp\n",
    "   using namespace std;\n",
    "   cout << \"Olá, mundo!\";```\n",
    "\n",
    "- Instrução `return 0;`\n",
    "\n",
    "Este comando termina o programa, retornando um inteiro, conforme a especificação padrão da função `main`. Estudaremos melhor no capítulo sobre funções e retornos. "
   ]
  },
  {
   "cell_type": "markdown",
   "metadata": {},
   "source": [
    "### Entrada de dados e comentários no código\n",
    "\n",
    "Comentário é um recurso muito útil em programação. Ele permite que o programador adicione texto ao programa para facilitar o entendimento do programa por parte de outros programadores, ou até dele mesmo. Os comentários são usados para explicar trechos de código, adicionar cláusulas e qualquer texto em geral.\n",
    "\n",
    "Vamos agora para um trecho de programa mais completo com entrada de dados e comentários dentro do código: "
   ]
  },
  {
   "cell_type": "code",
   "execution_count": 3,
   "metadata": {},
   "outputs": [
    {
     "name": "stdout",
     "output_type": "stream",
     "text": [
      "Digite um número: \n",
      "\n",
      "11\n",
      "\n",
      "Você digitou o número: 11\n"
     ]
    }
   ],
   "source": [
    "// Este é um comentário de uma linha\n",
    "\n",
    "/*\n",
    "  Este é \n",
    "  um comentário\n",
    "  de várias\n",
    "  linhas \n",
    "*/\n",
    "\n",
    "using namespace std;\n",
    "\n",
    "int x;\n",
    "cout << \"Digite um número: \";\n",
    "cin >> x;\n",
    "cout << \"\\nVocê digitou o número: \" << x << endl;"
   ]
  },
  {
   "cell_type": "markdown",
   "metadata": {},
   "source": [
    "#### Comentários no programa\n",
    "\n",
    "Observemos esta linha:\n",
    "\n",
    "```cpp\n",
    "// Este é um comentário de uma linha```\n",
    "\n",
    "Trata-se de comando para o preprocessador (ou precompilador).\n",
    "\n",
    "O que é o preprocessador? Durante o processo de montagem do programa em formato binário existem três fases principais: O preprocessamento, a compilação e a fase de ligação (link). O preprocessador é um programa invocado pelo compilador para remover comentários e substituir certas partes do programa conforme a necessidade do código criado pelo programador.\n",
    "\n",
    "O preprocessador faz algumas alterações no texto fonte, que basicamente consistem em eliminar pedaços de código e/ou substituí-los por outros (*copy-paste*). Enfim, o mesmo altera o código fonte contendo comandos iniciados com `#` e outros comandos específicos, por outro código sem comandos de preprocessamento, puramente em linguagem C++.\n",
    "\n",
    "Ao analisar o código, o preprocessador encontra a sequência `//` e vai eliminar o texto que está a seguir até ao fim da linha.\n",
    "\n",
    "Mais uma forma de adicionar comentários:\n",
    "\n",
    "```cpp\n",
    "/*\n",
    " Este é \n",
    " um comentário\n",
    " de várias\n",
    " linhas \n",
    "*/ ```\n",
    "\n",
    "A linguagem C++ permite também fazer comentários por mais do que uma linha. Chama-se comentário por bloco e o que faz é eliminar tudo o que encontrar entre a sequência inicial `/*` e o final `*/`.\n",
    "\n",
    "A vantagem de termos esta possibilidade é poder comentar o nosso código. Existem algumas regras de boa conduta para comentários que foram criadas por pessoas que já têm muito tempo nisto:\n",
    "\n",
    "- Criar, logo no topo, um comentário a dizer o que é o nosso programa, e o que faz numa forma geral;\n",
    "- Fazer comentários a cada função que aparece no código a explicar;\n",
    "- Comentar linhas mais obscuras, mais difíceis de entender."
   ]
  },
  {
   "cell_type": "markdown",
   "metadata": {},
   "source": [
    "#### Incluindo cabeçalhos\n",
    "\n",
    "**`#include <iostream>`**\n",
    "\n",
    "O símbolo `#` é uma chamada de atenção ao compilador a dizer que aquela linha é para o preprocessador, depois temos o \"include\" (que basicamente diz para incluir código). Incluir o quê?\n",
    "\n",
    "Deve incluir o arquivo `iostream`. (*i*n+*o*ut+*stream*, \"fluxo de entrada e saída\", padrão) (na maioria das vezes, como entrada padrão temos o teclado e como saída temos o monitor) (este arquivo contém declarações das funções e definições que o nosso código fonte irá necessitar)\n",
    "\n",
    "Este código que será incluído é chamado de cabeçalho devido a uma característica evidente, o fato de ser código de declaração inicial do programa, que deve estar no topo do arquivo.\n",
    "\n",
    "Existem outros arquivos (ficheiros cabeçalho), o `iostream` é para fluxos de entrada e saída, mas temos muitos mais para matemática, manipulação de tempo, tratamento de caracteres, etc...\n",
    "\n",
    "Na maioria das vezes, os arquivos de cabeçalho fazem parte de uma biblioteca. Podemos ver na parte dos anexos, algumas bibliotecas que existem juntamente com as funções de cada uma. Nós próprios podemos criar uma biblioteca com código e nosso próprio cabeçalho. E até podemos comprar bibliotecas existentes comercialmente, através de empresas especializadas em desenvolvimento, que também terão seus arquivos de cabeçalhos.\n",
    "\n",
    "Mas, o que são bibliotecas? São arquivos com um conjunto de códigos que alguém fez antes. As que enunciamos antes são as \"standard\", são aquelas que têm as funcionalidades básicas, pertencentes aos padrões da linguagem. Repare-se que precisamos da biblioteca até para escrever na tela (*stream* + *out*) que nos permite utilizar o `cout`.\n",
    "\n",
    "O arquivo `iostream` está envolvido em `<` `>`, isto significa que o preprocessador deve procurar o arquivo no diretório usual (que é onde o compilador usa como padrão para os \"includes\"). Se tivéssemos o arquivo `iostream` envolvido em `\"` `\"` significaria que o preprocessador deveria procurá-lo dentro de uma lista de diretórios de inclusão, \"includes\", iniciando pelo diretório atual.\n",
    "\n",
    "As bibliotecas são compostas por duas partes: um índice de todas as funções e definições e declarações, o cabeçalho, e depois a definição de todas as funções existentes no índice, arquivos de código.\n",
    "\n",
    "As diretivas de preprocessamento não terminam com o ponto e vírgula como nas instruções. "
   ]
  },
  {
   "cell_type": "markdown",
   "metadata": {},
   "source": [
    "#### Usando `namespace`\n",
    "\n",
    "**`using namespace std;`**\n",
    "\n",
    "Observando esta linha, alguns tradicionais programadores, em linguagem C, têm uma novidade: *namespaces* são espaços de nomes dentro do código, eles funcionam, entre outras coisas, como um meio de evitar duplicação de nomes dentro de um projeto extenso, que geralmente contam com inúmeros arquivos.\n",
    "\n",
    "O C++ usa os *namespaces* para organizar os diferentes nomes usados nos programas. Cada nome usado no arquivo biblioteca \"standard iostream\" faz parte do \"namespace\" chamado de `std`.\n",
    "\n",
    "O objeto de saída padrão, `cout`, está definido dentro do \"namespace\" `std`, ele é um objeto da classe \"ostream\" \"output stream\", para acessá-lo temos que referenciá-lo como \"std::cout\". Para evitar que tenhamos que informar \"std::\" todas as vezes que precisarmos usar os recursos deste \"namespace\", podemos informar que estamos usando-o dentro do arquivo atual, conforme vemos na linha declarada no início deste tópico.\n",
    "\n",
    "O \"namespace\" permite que as variáveis sejam localizadas em certas regiões do código. Declarar o \"namespace std\" permite que todos os objetos e funções da biblioteca \"standard input-output\" possam ser usados sem qualquer qualificações específicas, desta maneira, não é mais necessário o uso de \"std::\"."
   ]
  },
  {
   "cell_type": "markdown",
   "metadata": {},
   "source": [
    "#### Função `main()`\n",
    "\n",
    "**`int main() { //corpo da função }`**\n",
    "\n",
    "Como na linguagem C, a função principal de entrada do programa a partir do sistema operacional é a função `main()`. Por isso mesmo ela é obrigatória em qualquer programa. Se não existisse uma \"main function\", não haveria entrada para que o sistema iniciasse o programa.\n",
    "\n",
    "Todas as funções são declaradas e usadas com o operador `(` `)`, assim é que o compilador reconhece que estas são funções. A ideia de ter funções é permitir o encapsulamento de uma ideia ou operação, dar um nome a isso e depois chamar essa operação de várias partes do programa simplesmente usando o seu nome. As funções declaradas como membros de uma classe de objetos podem ser chamadas de métodos.\n",
    "\n",
    "Do ponto de vista funcional, um código dentro de uma função executa operações em outra parte do programa, que não é aquela de onde foi chamada, por este motivo as mesmas contam com um mecanismo de passagem de dados, ao declarar uma função indicamos quais os dados que entram e o que ela deve fornecer a quem lhe chamou. Pode-se dizer que, tal qual uma função matemática, a função em C/C++ poderá ser substituída, depois de sua execução, pelo valor que ela **retorna**, este valor será especificado antes do nome da função na declaração da mesma, conforme vemos no início deste tópico.\n",
    "\n",
    "O `int` significa que a função vai retornar um inteiro. Seguem alguns tipos de dados:\n",
    "\n",
    "- **`int`** que é a abreviatura de inteiro;\n",
    "- **`char`** que é a abreviatura de caratere;\n",
    "- **`float`** que é a abreviatura de \"floating point number\", ou seja, uma representação para número real.\n",
    "\n",
    "Vejamos um exemplo:\n",
    "\n",
    "Quando criamos uma função `soma()`, obviamente só para ilustração pois isso não é necessário, podemos fazer: "
   ]
  },
  {
   "cell_type": "code",
   "execution_count": 4,
   "metadata": {},
   "outputs": [],
   "source": [
    "int soma(int a, int b) {\n",
    "    return a + b;\n",
    "}"
   ]
  },
  {
   "cell_type": "markdown",
   "metadata": {},
   "source": [
    "Agora imagine que tenhamos que somar 7 e 3, colocando o resultado em outra variável chamada valor, para isto faremos: "
   ]
  },
  {
   "cell_type": "code",
   "execution_count": 5,
   "metadata": {},
   "outputs": [
    {
     "name": "stdout",
     "output_type": "stream",
     "text": [
      "10"
     ]
    }
   ],
   "source": [
    "int valor = soma(7, 3);\n",
    "cout << valor;"
   ]
  },
  {
   "cell_type": "markdown",
   "metadata": {},
   "source": [
    "#### Final de instruções por `;`\n",
    "\n",
    "O ponto e vírgula funciona como ponto final, separa as instruções e contextos. Repare que apenas as funções, ou melhor, as definições de funções e as diretivas de preprocessamento é que não têm o \";\"\n",
    "\n",
    "É importante notar que o código poderia ser todo escrito quase numa linha tipo:\n",
    "\n",
    "```cpp\n",
    "int main() {int a; cout << \"Olá, mundo! Digite um número:\\n\"; cin >> a;cout <<\n",
    " \"Você digitou o número: \" << a <<\"\\n\";return 0;}```\n",
    "\n",
    "É realmente o \";\" que faz a terminação das instruções.\n",
    "\n",
    "Ao encontrar as chaves \"{}\", o compilador reconhece como um delimitador de bloco, ou \"body\", corpo. O corpo de uma função ou bloco de código começa com \"{\" e termina com \"}\", como temos as instruções agrupadas, já não há necessidade de colocar o \";\" no final para indicar onde é o fim do bloco.\n",
    "\n",
    "No nosso exemplo, existem duas instruções no corpo da função. As instruções são executadas por ordem: do topo até ao fim a menos que existam funções que alterem o fluxo da leitura ou que existam códigos de controle de execução \"**execution control codes**\", que alteram o caminho de execução. "
   ]
  },
  {
   "cell_type": "markdown",
   "metadata": {},
   "source": [
    "#### Entrada e saída (`cin`/`cout`)\n",
    "\n",
    "**`cout << \"Olá, mundo! Digite um número:\\n\";`**\n",
    "\n",
    "- (c+out): Podemos utilizar este objeto porque pusemos o *header* e o *namespace std*. As informações serão direcionadas através do `iostream`, um subsistema de entrada e saída da biblioteca padrão. O que este objeto nos permite é enviar o que temos entre aspas para a saída (*out*), que é o monitor neste caso.\n",
    "\n",
    "Quem já conhece a linguagem C, certamente está familiarizado com os *streams* da biblioteca padrão, o \"stdin\", o \"stdout\" e o \"stderr\"... A linguagem C++ implementa os mesmos dispositivos sob a forma de objetos.\n",
    "\n",
    "O `cout` envia dados para o \"**standard output device**\", que é usualmente o monitor, a abstração do elemento de saída padrão é observada na presença de um objeto que representa a saída física de dados para o meio externo.\n",
    "\n",
    "Observa-se que temos o operador `<<`, neste caso podemos verificar mais uma das funcionalidades da linguagem, pois este operador é usado para deslocamento de bits na sua funcionalidade padrão, neste caso a sua função foi substituída por outra, transferir os dados a sua direita para o \"output stream\" do seu lado esquerdo.\n",
    "\n",
    "O `cout` é um objeto da biblioteca \"standard C++\" que tem como uma de suas funções imprimir strings no \"standard output\" (que normalmente é a tela).\n",
    "\n",
    "Da mesma forma que podemos formatar o texto enviado a saída padrão na linguagem C, também podemos fazê-lo com os objetos do C++, por exemplo, se acrescentássemos \"**<< hex <<**\" entre uma variável e a saída: "
   ]
  },
  {
   "cell_type": "code",
   "execution_count": 6,
   "metadata": {},
   "outputs": [
    {
     "name": "stdout",
     "output_type": "stream",
     "text": [
      "a"
     ]
    }
   ],
   "source": [
    "cout << hex << valor;"
   ]
  },
  {
   "cell_type": "markdown",
   "metadata": {},
   "source": [
    "O resultado seria impresso em hexadecimal;\n",
    "\n",
    "Para entrada de dados, temos:"
   ]
  },
  {
   "cell_type": "code",
   "execution_count": 7,
   "metadata": {},
   "outputs": [
    {
     "name": "stdout",
     "output_type": "stream",
     "text": [
      "150\n"
     ]
    }
   ],
   "source": [
    "int numero;\n",
    "cin >> numero;"
   ]
  },
  {
   "cell_type": "markdown",
   "metadata": {},
   "source": [
    "O que esta linha faz é colocar o valor que foi digitado numa área de memória que foi chamada de \"numero\".\n",
    "\n",
    "Da mesma forma que o cout existe para saída de dados, temos outro objeto para entrada através do teclado, este objeto é chamado de \"**C**onsole **IN**\" - `cin`, seguindo a mesma analogia. Observe que o operador `>>` é usado para dar ideia de que os dados estão vindo do `cin` para a variável \"numero\". "
   ]
  },
  {
   "cell_type": "code",
   "execution_count": 9,
   "metadata": {},
   "outputs": [
    {
     "name": "stdout",
     "output_type": "stream",
     "text": [
      "Você digitou o número: 150\n"
     ]
    }
   ],
   "source": [
    "cout << \"Você digitou o número: \" << dec << numero << \"\\n\";"
   ]
  },
  {
   "cell_type": "markdown",
   "metadata": {},
   "source": [
    "Aqui voltamos a utilizar o objeto cout primeiro para imprimir, na tela, a frase \"Você digitou o número: \", depois vai buscar o valor que está naquela área de memória a que chamamos de \"numero\" e, por fim, coloca um caractere de mudança de linha através de \"\\n\", em C++ podemos usar um finalizador de linha chamado `endl`, o uso do mesmo é mais eficiente pois descarrega os dados do *stream* logo após a finalização da linha. "
   ]
  },
  {
   "cell_type": "markdown",
   "metadata": {},
   "source": [
    "#### Retornando valor\n",
    "\n",
    "**`return 0;`**\n",
    "\n",
    "Faz com que a função retorne o valor zero. Como esta função é a principal do programa, por onde o sistema operacional iniciou a execução do mesmo, este retorno é recebido pelo sistema. É comum que valores diferentes de zero sejam interpretados como erro do programa.\n",
    "\n",
    "Esta instrução manda retornar o valor zero para o sistema operacional (Windows, Unix, ...). Este zero representa dizer que o programa finalizou normalmente. Pode acontecer que o programa não finalize como seria de esperar, ocorrendo um *crash* (ou porque ficou com falta de memória). O sistema operacional necessita lidar com estas terminações anormais de uma forma diferente das normais. Por isso é que o programa diz ao sistema operacional que terminou normalmente."
   ]
  },
  {
   "cell_type": "markdown",
   "metadata": {},
   "source": [
    "## Variáveis e constantes"
   ]
  },
  {
   "cell_type": "markdown",
   "metadata": {},
   "source": [
    "### Constantes\n",
    "\n",
    "Compatível com a linguagem C, o C++ mantém as constantes básicas e introduz algumas novas funcionalidades possibilitadas pelo modificador `const`.\n",
    "\n",
    "\n",
    "O uso do modificador `const` tem duas funções principais:\n",
    "\n",
    "1. Resguarda da inviolabilidade de valores apontados por ponteiros;\n",
    "2. Auxílio na compreensão das características de funções, durante a implementação.\n",
    "\n",
    "\n",
    "#### Simbólicas\n",
    "\n",
    "Constantes simbólicas podem ser criadas com as diretivas do preprocessador `#define`. Neste modo os valores, de fato, não são interpretados imediatamente pelo compilador, antes são identificados e substituidos pelo preprocessador no estágio anterior à compilação. Por exemplo:\n",
    "\n",
    "```cpp\n",
    "#define BUFFER_LENGTH 2048\n",
    "\n",
    "...\n",
    "...\n",
    "...\n",
    "\n",
    "char data[BUFFER_LENGTH];\n",
    "```\n",
    "\n",
    "Observe que o valor 2048 será usado logo abaixo no código, depois que o preprocessador substituir a constante simbólica `BUFFER_LENGTH` pelo valor que lhe foi atribuído.\n",
    "\n",
    "Note que as constantes são escritas com todas as letras maiúsculas, isso não é uma regra, mas ajuda a identificar o que é constante simbólica dentro do programa, sendo adotado pela maioria dos desenvolvedores como uma boa prática de programação.\n",
    "\n",
    "Neste caso, podemos definir valores simbólicos compostos, por exemplo:\n",
    "\n",
    "```cpp\n",
    "#define BUFFER_LENGTH 2048\n",
    "#define N_BUFFERS 100\n",
    "#define MASTER_LENGTH (BUFFER_LENGTH * N_BUFFERS)\n",
    "...\n",
    "...\n",
    "...\n",
    "\n",
    "char screen[MASTER_LENGTH];\n",
    "```\n",
    "\n",
    "Os valores podem ser simbólicos em formato de código, o que permite criar programas com melhor legibilidade. Para isso podemos colocar expressões com funcionalidades bem definidas substituídas por nomes que as identifiquem. Por exemplo:\n",
    "\n",
    "```cpp\n",
    "float a[3];\n",
    "\n",
    "#define PRINT_VECTOR cout << a[0] << \" , \" << a[1] << \" , \" << a[2] << endl\n",
    "...\n",
    "...\n",
    "\n",
    "PRINT_VECTOR;\n",
    "```\n",
    "\n",
    "Desta forma, todas as vezes que quisermos mostrar o valor do vetor de três coordenadas podemos usar a constante `PRINT_VECTOR`.\n",
    "\n",
    "#### Literais\n",
    "\n",
    "Constantes literais podem ser declaradas da mesma forma que na linguagem \"C\", ou seja, podemos definir valores fixos em qualquer parte do programa, expressando-os diretamente no código através de seu valor significativo. Por exemplo, podemos definir números:\n",
    "\n",
    "```cpp\n",
    "256 //decimal\n",
    "0400 //octal\n",
    "0x100 //hexadecimal\n",
    "```\n",
    "\n",
    "Também podemos definir valores para caracteres ou cadeias de caracteres, como segue:\n",
    "\n",
    "```cpp\n",
    "'a'             // um caractere\n",
    "\"abc\"           // uma cadeia de caracteres\n",
    "\"\\xF3\\x23\\x12\"  // uma cadeia de caracteres representada por seus valores em hexadecimal\n",
    "```\n",
    "\n",
    "Temos ainda a possibilidade de declarar constantes compostas por valores e operadores:\n",
    "\n",
    "```cpp\n",
    "(4.23e14 * (12.75 + 12976.18/36)) // constante composta\n",
    "```\n",
    "\n",
    "#### Enumerações\n",
    "\n",
    "Valores enumerados são muito recorrentes nos ambientes de programação, por isso podemos contar com a declaração de enum em C++ também, o que segue a mesma sintaxe que temos em \"C\":\n",
    "\n",
    "```cpp\n",
    "enum seq {A,B,C,D};\n",
    "\n",
    "seq x;\n",
    "```\n",
    "\n",
    "ou ainda:\n",
    "\n",
    "```cpp\n",
    "enum nomes {LANY=100,SANDRA=200,MARCIA=300,RODRIGO=400};\n",
    "\n",
    "nomes x;\n",
    "```\n",
    "\n",
    "Porém, observamos uma diferença: a palavra `enum` pode ser dispensada na declaração da variável, enquanto que, em C, é obrigatório, apesar desta pequena diferença a funcionalidade do recurso é a mesma, ou seja, pode-se definir variáveis que assumem estritamente os valores presentes na declaração de enumeração.\n",
    "\n",
    "Este recurso torna-se útil na padronização de valores a serem usados como entrada de funções, por exemplo. Pode ser considerada como uma funcionalidade mnemônica, seu uso não altera o código final caso modifiquemos o programa para que use variáveis inteiras ou strings de mesmo valor do enum.\n",
    "\n",
    "A seguinte sintaxe:\n",
    "\n",
    "```cpp\n",
    "seq x = 3;\n",
    "```\n",
    "\n",
    "Não é permitida, mesmo que o valor presente no `enum` seja avaliado como 3 pelo compilador em tempo de compilação. Isso pode parecer confuso, mas lembre-se de que os valores serão atribuidos pelo compilador, logo isso evita que o mesmo programa seja compilado em ambientes diferentes e tenha comportamento diferente. "
   ]
  },
  {
   "cell_type": "markdown",
   "metadata": {},
   "source": [
    "### Variáveis\n",
    "\n",
    "As variáveis no C++ podem ser usadas da mesma forma que na linguagem \"C\", porém algumas poucas diferenças podem ser destacadas, principalmente aquelas que trazem, à linguagem C++, características próprias da orientação a objetos.\n",
    "\n",
    "#### Tipos\n",
    "\n",
    "Como na linguagem \"C\", os tipos nativos do compilador em uso são referenciados por:\n",
    "\n",
    "- **`char`**\n",
    "- **`int`**\n",
    "- **`float`**\n",
    "- **`double`**\n",
    "\n",
    "Que correspondem a números com tamanho relativos, com os significados respectivos: caractere, inteiro, ponto flutuante e ponto flutuante de dupla precisão. De qualquer forma a extensão dos mesmos depende da máquina que se pretende programar. Considerando que nem sempre teremos que programar apenas computadores, poderemos ter extensões bem distintas dependendo do hardware a ser programado, por exemplo, computadores domésticos tipicamente tem processadores de 32 ou 64 bits hoje em dia, enquanto que dispositivos embarcados podem ter processadores de 8, 16 ou 32 bits. Portanto, o compilador para cada caso atribui faixas diferentes para cada tipo em cada situação.\n",
    "\n",
    "A linguagem C++ introduz o tipo **`bool`**, que representa o valor booleano, falso ou verdadeiro, o que não existe na linguagem \"C\", porém seu tamanho na memória depende da capacidade de otimização do compilador usado. Tipicamente os compiladores para computadores usam uma variável do tamanho de **`char`** para representar o valor, o que poderia ser considerado um desperdício, mas devido à abundância de memória não chega a ser inadequado. Porém em sistemas pequenos há compiladores que armazenam o valor booleano em apenas um bit. Obviamente, se o processador possuir recursos de manipulação de bits isso é muito útil e pode ser usado como um fator de melhoria da qualidade do software desenvolvido. Em outros ambientes, onde a manipulação de bits traga prejuízo para o desempenho usa-se a estratégia padrão de desperdiçar um pouco de espaço em favor de uma agilidade maior nas operações. Portanto, embora as variações de utilização do espaço sejam muitas, o compilador sempre fará a mais apropriada para cada ambiente de utilização da linguagem.\n",
    "Modificadores\n",
    "\n",
    "O C++ conta com os modificadores de amplitude (`short`, `long`) presentes na linguagem \"C\" e modificadores de acesso, alguns exclusivos do C++, que estão diretamente ligados a características da POO (programação orientada a objetos). Desta forma descreveremos apenas os tipos relevantes exclusivamente para a programação na linguagem escopo do livro presente sem nos aprofundarmos na teoria por trás dos mesmos. A prática do uso dos mesmos é melhor indicada como meio de aprofundamento do tema.\n",
    "\n",
    "Assim contamos com os modificadores da linguagem \"C\":\n",
    "\n",
    "- **`static`**\n",
    "- **`short`**\n",
    "- **`long`**\n",
    "- **`unsigned`**\n",
    "- **`signed`**\n",
    "\n",
    "#### **`const`**\n",
    "\n",
    "A linguagem C++ introduz um novo modificador chamado `const`, que tem comportamento variado dependendo do local onde está sendo declarado. Sua função, basicamente, é estabelecer um vínculo entre declaração e obrigatoriedade da coerência no uso do símbolo declarado.\n",
    "\n",
    "A princípio, quando declaramos uma constante com este modificador fazemos com que seja obrigatório o uso do símbolo de forma que o mesmo não possa ter seu valor alterado. Assim, se fizermos:\n",
    "\n",
    "```cpp\n",
    "const int x = 4;\n",
    "```\n",
    "\n",
    "O inteiro `x` não poderá deixar de ter valor igual a 4. Qualquer tentativa de modificar o valor da constante ao longo do programa será reportada como erro pelo compilador. Porém podemos considerar esta funcionalidade como óbvia e trivial, ainda temos o uso do modificador de uma forma mais proveitosa, na passagem de parâmetros para funções, por exemplo:\n",
    "\n",
    "```cpp\n",
    "void inhibitX(const int *x) {\n",
    "    ...\n",
    "    ...\n",
    "    BASEADDRESS = z*((*x) - 23p*71);\n",
    "    ...\n",
    "    ...\n",
    "}\n",
    "```\n",
    "\n",
    "Neste caso, a função acima recebe um valor inteiro através de um ponteiro, que não obrigatoriamente precisa ser constante no escopo fora da função, porém dentro da mesma a variável será constante. Fazendo este simples procedimento teremos como fazer com que um símbolo seja variável fora da função e constante dentro da mesma, de forma que dentro do escopo da mesma só façamos leituras do seu valor. O artifício cria duas consequëncias importantes: a primeira é a melhor legibilidade do código, visto que ao usarmos uma função teremos certeza de que os valores não serão alterados dentro da função; a segunda é que poderemos evitar erros inadvertidos de atribuição de valores à variável quando da construção da função.\n",
    "\n",
    "#### **`volatile`**\n",
    "\n",
    "Uma variável \"volátil\", como a própria expressão sugere, é uma variável que pode ser modificada sem o conhecimento do programa principal, mesmo que esta ainda esteja declarada dentro do escopo onde o programa está sendo executado. Isso está relacionado, principalmente a processos concorrentes e \"threads\", estes podem alterar o conteúdo da variável em eventos fora da previsibilidade do tempo de compilação. Em outras palavras, o compilador não pode prever com segurança se pode otimizar trechos de programa onde esta variável se encontra.\n",
    "\n",
    "A palavra reservada `volatile` é destinada as situações onde uma variável pode ter seu valor alterado por fatores diversos, e portanto, não pode ser otimizada. Usando-a o programador informa ao compilador que não deve interferir na forma com que o programa foi escrito para acesso a esta variável. Desta forma impede que erros inseridos por otimização estejam presentes na versão final do executável.\n",
    "\n",
    "O uso desta palavra implica em mudança no comportamento do compilador durante a interpretação do código. As classes de objetos do tipo voláteis só poderão ser acessadas por rotinas que declarem aceitar como entrada dados voláteis, da mesma forma que apenas objetos voláteis podem acessar variáveis voláteis. Esta \"amarração\" faz com que o uso de tais variáveis se torne mais seguro.\n",
    "\n",
    "Podemos declarar variáveis voláteis da seguinte forma:\n",
    "\n",
    "```cpp\n",
    "volatile int x;\n",
    "```\n",
    "\n",
    "Enquanto que para funções que acessam tais variáveis teremos consequências visíveis na montagem do código, por exemplo, se tivermos o seguinte trecho de programa:\n",
    "\n",
    "```cpp\n",
    "int x = 1265;\n",
    "\n",
    "void main_loop() {\n",
    "    while (x == 1265) {\n",
    "        // fazer alguma coisa\n",
    "    }\n",
    "}\n",
    "```\n",
    "\n",
    "Poderemos ter uma otimização gerada pelo compilador como segue:\n",
    "\n",
    "```cpp\n",
    "int x = 1265;\n",
    "\n",
    "void main_loop_optimized() {\n",
    "    while (true) {\n",
    "        // fazer alguma coisa\n",
    "    }\n",
    "}\n",
    "```\n",
    "\n",
    "Considerando que em um programa que foi desenhado para ambiente multitarefa isso não pode ser considerado verdadeiro, pois o programa pode estar esperando que uma das tarefas modifique o estado da variável para prosseguir seu curso, a otimização acima será um desastre, uma vez que a função acima jamais será encerrada.\n",
    "\n",
    "Para evitar isso fazemos:\n",
    "\n",
    "```cpp\n",
    "volatile int x = 1265;\n",
    "\n",
    "void main_loop() {\n",
    "    while (x == 1265) {\n",
    "        // fazer alguma coisa\n",
    "    }\n",
    "}\n",
    "```\n",
    "\n",
    "E o compilador não poderá mais avaliar que o valor de `x` pode ser otimizado para o valor corrente, pois informamos na declaração que o valor da variável pode ser alterado sem seu conhecimento. Desta forma o mesmo não alterará o algoritmo e fará o teste da variável dentro do `while`.\n",
    "\n",
    "#### Nomeando tipos\n",
    "\n",
    "A linguagem \"C\" possui recursos de nomeação de tipos simples e compostos através das palavras chaves `typedef` e `struct`. Adicionada a estas, o C++ acrescenta a palavra chave `class`. Vejamos como devemos definir um novo tipo através desta palavra chave.\n",
    "\n",
    "A palavra `class` atribui a um conjunto de tipos de dados o estado de modelo de objeto. Este conceito é fundamental para o modo avançado de programar usando o C++. Com este identificador declaramos objetos, da mesma forma que declaramos estruturas.\n",
    "\n",
    "Uma classe pode ser definida em um cabeçalho \"header\", da seguinte forma:\n",
    "\n",
    "```cpp\n",
    "class nome_da_classe {\n",
    "    <tipo_1> variavel_1;\n",
    "    <tipo_2> variavel_2;\n",
    "    .\n",
    "    .\n",
    "    .\n",
    "    <tipo_n> variavel_n;\n",
    "    ...\n",
    "    <tipo_n> nome_funcao(<tipo_1> variavel_1, <tipo_2> variavel_2, <tipo_3> variavel_3, ...);\n",
    "};\n",
    "```\n",
    "\n",
    "O mais interessante de observar é a presença de uma função dentro da declaração acima. Então poderíamos perguntar: Por que colocar uma função dentro de um tipo? A resposta é simples: Para manipular os dados dentro do tipo! Não apenas por esta característica, mas por várias outras que abordaremos nos capítulos seguintes, o tipo `class` é extremamente flexível e poderoso.\n",
    "\n",
    "É importante ressaltar que em C++ a declaração do identificador: `enum`, `struct`, `class`, etc... é dispensado quando se declara uma variável ou objeto para o referido tipo. Desta forma podemos ter também as seguintes declarações como válidas, além do uso padrão da linguagem \"C\":\n",
    "\n",
    "```cpp\n",
    "struct data { \n",
    "    int a; \n",
    "    int b; \n",
    "    int c; \n",
    "};\n",
    "\n",
    "class object {\n",
    "    int a;\n",
    "    char b; \n",
    "    long w;\n",
    "    float p;\n",
    "    data getData();\n",
    "};\n",
    "\n",
    "...\n",
    "\n",
    "void func() {\n",
    "    data x;\n",
    "    object y;\n",
    "    ...\n",
    "    x = y.getData();\n",
    "}\n",
    "```\n",
    "\n",
    "Como podemos ver na função acima se a variável `x` for declarada para uma estrutura `data`, o uso da palavra `struct` não é obrigatório, assim como também não o é para outros tipos de dados compostos."
   ]
  },
  {
   "cell_type": "markdown",
   "metadata": {},
   "source": [
    "## Ponteiros"
   ]
  },
  {
   "cell_type": "markdown",
   "metadata": {},
   "source": [
    "Em linguagem \"C\", podemos definir variáveis ponteiro, ou seja, variáveis que armazenam o endereço de outras variáveis. Este recurso é largamente explorado pela linguagem, embora que deva ser usado com cautela por iniciantes devido ao seu poder destrutivo. Como linguagem \"irmã mais nova\" o C++ também permite o uso de ponteiros, o que a distingue de muitas outras linguagens orientadas a objeto. Embora seja muito difundida a ideia da criação de linguagens que não suportem acesso a ponteiros, basicamente pressupondo que todos os programadores são inexperientes, a falta deste recurso limita as capacidades de interação de programas com o hardware. Em outras palavras, a falta de um meio de manipular ponteiros faz a linguagem limitada ou dependente de fabricantes de bibliotecas que acessem o hardware.\n",
    "\n",
    "A disponibilidade do uso de ponteiros em C++ agrega um poder a mais ao conjunto da linguagem, porém implica a necessidade de cautela na elaboração de programas que usam deste recurso. Certamente, nem todos os programadores precisam ser considerados inaptos, a priori, através da supressão ou inserção de complicadores de recursos criados explicitamente para forçá-los a não usar dos recursos. Por isso, a linguagem C++ disponibiliza o recurso para quem deseja utilizá-lo e também apresenta diversos outros recursos que são alternativas ao uso de ponteiros quando eles não são imprescindíveis. "
   ]
  },
  {
   "cell_type": "markdown",
   "metadata": {},
   "source": [
    "### O operador `*`\n",
    "\n",
    "O operador `*`, chamado de apontador, funciona em C++ da mesma forma que em C. Considerando que tenhamos uma variável ponteiro `p`:\n",
    "\n",
    "- Em `p`, armazena-se o endereço de memória que queiramos manipular. Na maioria das vezes, obtemos o endereço de outra variável e colocamos em `p`;\n",
    "- Se `p` é um ponteiro, `*p` é o valor apontado por `p`, ou seja, o valor que está armazenado no endereço de memória que queremos ler ou alterar.\n",
    "\n",
    "Na declaração de variáveis, uma variável declarada com `*` é um ponteiro.\n",
    "\n",
    "Exemplo:\n",
    "\n",
    "```cpp\n",
    "int *px;\n",
    "```\n",
    "\n",
    "Muitas vezes, iniciantes podem se sentir confusos porque quando declaramos um ponteiro usamos o `*` e quando atribuímos endereços a ele não usamos o `*`. A conceituação básica é a seguinte:\n",
    "\n",
    "- Declaramos o ponteiro **com** `*`, para que o compilador identifique que a variável é um ponteiro;\n",
    "- Usamos o ponteiro **sem** `*`, para acessar o endereço que ele aponta na memória;\n",
    "- Usamos o ponteiro **com** `*`, para acessar o valor do dado armazenado na posição de memória."
   ]
  },
  {
   "cell_type": "markdown",
   "metadata": {},
   "source": [
    "### Operador `&`\n",
    "\n",
    "Na linguagem \"C\", o operador `&` tem três funções básicas, funciona como operador da função lógica **AND**, como operador binário **bit-a bit AND** e como operador de leitura de endereços. Para operações com vetores, isso é usado da seguinte forma:\n",
    "\n",
    "```cpp\n",
    "int a = 12;\n",
    "int *pa;\n",
    "// ...\n",
    "pa = &a;\n",
    "// ...\n",
    "*pa = 100;\n",
    "```\n",
    "\n",
    "Ou seja, declaramos a variável `a`, depois declaramos um ponteiro `pa` e, através do operador `&`, obtemos o endereço de `a` e atribuímos o valor 100 à variável usando o ponteiro ao invés da variável `a`. Desta forma alteramos o valor de a indiretamente.\n",
    "\n",
    "Um outro uso de `&` (que não tem similar em \"C\") pode ser visto mais adiante, em **referências de dados** e **passagem de parâmetros**, mas, para isto, é necessário estudar funções."
   ]
  },
  {
   "cell_type": "markdown",
   "metadata": {},
   "source": [
    "### Operador `this`\n",
    "\n",
    "Imagine que tenhamos criado um objeto qualquer de uma classe X, se quisermos ter acesso ao ponteiro que contém a posição de memória onde está armazenado este objeto basta chamar o ponteiro \"this\". O ponteiro \"this\" é uma das características dos objetos em C++ e algumas outras linguagens que suportam orientação a objetos. Ele é um membro inerente a todos os objetos que instanciamos em programas escritos em C++.\n",
    "\n",
    "Faremos uma breve explanação a respeito de objetos para esclarecer este tópico. Objetos são parecidos com estruturas, uma diferença básica é que estes possuem \"habilidades específicas\" representadas por funções que estão dentro do seu escopo. Vejamos um exemplo:\n",
    "\n",
    "```cpp\n",
    "struct Data {\n",
    "    int x, y;\n",
    "    int get_x() {return x;}\n",
    "    int get_y() {return y;}\n",
    "    void set_x(int a) {x = a;}\n",
    "    void set_y(int b) {y = b;}\n",
    "};\n",
    "```\n",
    "\n",
    "Observe que a estrutura acima apresenta dois inteiros e duas funções para cada um deles, uma que atribui o valor e outra que lê o valor de uma das mesmas. Detalhes das implicações a respeito desse modo de operar os valores serão dados nos capítulos seguintes que tratam de objetos. Por ora vamos nos ater a um conceito fundamental importante para a noção de ponteiros em C++, a identidade de um objeto.\n",
    "\n",
    "Veja, temos uma estrutura de dados que está na memória, os dados estão lá (variáveis `x` e `y`), porém as funções não estarão lá, pois se tivéssemos que copiar uma função para cada estrutura que criássemos o programa tomaria um tamanho monstruoso. O que se faz é apenas guardar o endereço da estrutura em um ponteiro especial, o ponteiro `this`. Assim, o compilador poderá criar uma única cópia de função para todas as estruturas que criarmos e depois quando a função quiser manipular os dados de uma estrutura em particular, o fará através do ponteiro `this`.\n",
    "\n",
    "Examinemos os detalhes mais de perto... Digamos que instanciemos um objeto \"A\" da classe Data:\n",
    "\n",
    "```cpp\n",
    "Data A;\n",
    "\n",
    "A.set_x(2);\n",
    "A.set_y(7);\n",
    "```\n",
    "\n",
    "\n",
    "Para acessar estas funções, o compilador fará:\n",
    "\n",
    "```cpp\n",
    "Data A;\n",
    "\n",
    "A.set_x(2);\n",
    "// {   Data *this = &A;\n",
    "//     this->x = 2;\n",
    "// }\n",
    " A.set_y(7);\n",
    "// {   Data *this = &A;\n",
    "//     this->y = 7;\n",
    "// }\n",
    "```\n",
    "\n",
    "Desta forma podemos perceber como diferentes conjuntos de dados podem ser manipulados pela mesma função. Quando declaramos uma função dentro de uma estrutura de dados esta rotina recebe um ponteiro com o endereço do conjunto de dados que deve tratar toda vez que for invocada pelo programa. Assim, sempre acessará os dados através deste ponteiro, o this. Como todos os objetos precisam ser identificados por esse ponteiro, ele é definido para qualquer objeto com o mesmo nome: `this`. "
   ]
  },
  {
   "cell_type": "markdown",
   "metadata": {},
   "source": [
    "## Vetores"
   ]
  },
  {
   "cell_type": "markdown",
   "metadata": {},
   "source": [
    "### Vetores e matrizes\n",
    "\n",
    "Façamos uma pequena revisão de conceitos:\n",
    "\n",
    "- Vetores e matrizes são variáveis compostas homogêneas, ou seja, são agrupamentos de dados que individualmente ocupam o mesmo tamanho na memória e são referenciados pelo mesmo nome, geralmente são individualizadas usando-se índices.\n",
    "- Vetores distinguem-se das matrizes apenas pela característica de ter dimensão (1 x n) ou (n x 1), essencialmente vetores são matrizes linha ou matrizes coluna.\n",
    "\n",
    "Em linguagem \"C\" vetores e matrizes são usados abundantemente para compor estruturas de dados necessárias para composição de diversos recursos. Esta usa, mais explicitamente, vetores de caracteres para definir cadeias de texto, o que é conhecido como o mais trivial uso de vetores. Além deste recurso, o \"C\" também define meio de criação de matrizes tipo (n x m), provendo, desta forma os recursos necessários para criação destes conjuntos de dados.\n",
    "\n",
    "A linguagem \"C++\" suporta os mesmos recursos e permite a criação de matrizes de objetos. Uma vez que um objeto é essencialmente um tipo de dado criado pelo programador, todas as características básicas legadas aos \"tipos\" em geral são observados nos tipos criados (classes de objetos). "
   ]
  },
  {
   "cell_type": "markdown",
   "metadata": {},
   "source": [
    "### Vetores\n",
    "\n",
    "Os vetores em C++ seguem a mesma notação da linguagem \"C\", via de regra declara-se o tipo seguido de um asterisco. Para acessar o valor apontado pela variável usa-se um asterisco de forma semelhante, como pode ser visto no trecho de código abaixo:"
   ]
  },
  {
   "cell_type": "code",
   "execution_count": 1,
   "metadata": {},
   "outputs": [
    {
     "name": "stdout",
     "output_type": "stream",
     "text": [
      "O valor do conteúdo da posição 0x0x7fb7ff876028 de memória é 3\n"
     ]
    },
    {
     "data": {
      "text/plain": [
       "@0x7fb7ffa2ab60"
      ]
     },
     "execution_count": 1,
     "metadata": {},
     "output_type": "execute_result"
    }
   ],
   "source": [
    "#include <iostream>\n",
    "using namespace std;\n",
    "\n",
    "int *xx;\n",
    "int aa = 3;\n",
    "\n",
    "xx = &aa;\n",
    "\n",
    "cout << \"O valor do conteúdo da posição 0x\";        // O valor da posição 0x...\n",
    "cout << hex << xx << \" de memória é \" << *xx << endl; // de memória é 3"
   ]
  },
  {
   "cell_type": "markdown",
   "metadata": {},
   "source": [
    "### Matrizes\n",
    "\n",
    "Podemos imaginar que uma matriz é um conjunto de vetores que ocupam uma determinada área de memória referenciada por um nome comum. Matrizes de tipos primitivos são conseguidas através de associações do operador `[` `]`, como por exemplo:\n",
    "\n",
    "```cpp\n",
    "char A[32][16];\n",
    "int B[12][26][10];\n",
    "```\n",
    "\n",
    "Definindo nossas classes de objetos poderemos declarar matrizes de objetos:\n",
    "\n",
    "```cpp\n",
    "class Record { \n",
    "  int D;\n",
    "  float X,Y;\n",
    "  char desc[12];\n",
    "\n",
    "  public:\n",
    "   Record();\n",
    "\n",
    "   void addFData(float A, float B);\n",
    "   float getFDataX();\n",
    "   float getFDataY();\n",
    "   ...\n",
    "   ...\n",
    "   ...\n",
    "};\n",
    "\n",
    "void function() {\n",
    " Record A[32][16];\n",
    " ...\n",
    " ...\n",
    " ...\n",
    "```\n",
    "\n",
    "Ou seja, podemos adotar a mesma sintaxe para criar matrizes de objetos. Este procedimento pode ser usado com o cuidado de se avaliar antes a quantidade de memória disponível para que a matriz não ultrapasse esse limite físico, muitas vezes delimitada pelo hardware ou pelo sistema operacional. Lembremos que, um objeto precisa do espaço equivalente a soma de suas variáveis internas para ser alocado na memória. "
   ]
  },
  {
   "cell_type": "markdown",
   "metadata": {},
   "source": [
    "### Exemplos de arranjos"
   ]
  },
  {
   "cell_type": "code",
   "execution_count": 6,
   "metadata": {},
   "outputs": [],
   "source": [
    "#include <iostream>\n",
    "\n",
    "void doubleThem(int a[], int size) {\n",
    "    int i;\n",
    "    for (i = 0; i < size; i++) {\n",
    "        a[i] = 2 * a[i];\n",
    "    }\n",
    "}"
   ]
  },
  {
   "cell_type": "code",
   "execution_count": null,
   "metadata": {},
   "outputs": [],
   "source": [
    "using namespace std;\n",
    "    int a;\n",
    "    int myInts[10] = {1,2,3,4,5,6,7,8,9,10};\n",
    "    doubleThem(myInts, 10);  // passei o array base\n",
    "    for (a=0; a<10; a++) {\n",
    "        cout << myInts[a] << \"\\t\";\n",
    "    }"
   ]
  },
  {
   "cell_type": "markdown",
   "metadata": {},
   "source": [
    "## Exemplos"
   ]
  },
  {
   "cell_type": "markdown",
   "metadata": {},
   "source": [
    "### *Header* de exemplo"
   ]
  },
  {
   "cell_type": "code",
   "execution_count": 1,
   "metadata": {},
   "outputs": [],
   "source": [
    "// in myclass.h\n",
    "#ifndef MYCLASS_H\n",
    "#define MYCLASS_H\n",
    "\n",
    "class MyClass {\n",
    "  public:\n",
    "    void foo();\n",
    "    float bar;\n",
    "};\n",
    "\n",
    "#endif"
   ]
  },
  {
   "cell_type": "markdown",
   "metadata": {},
   "source": [
    "### *Source* de exemplo"
   ]
  },
  {
   "cell_type": "code",
   "execution_count": 2,
   "metadata": {},
   "outputs": [],
   "source": [
    "// in myclass.cpp\n",
    "// #include \"myclass.h\"  // descomentar esta linha\n",
    "#include <iostream>\n",
    "\n",
    "void MyClass::foo() {\n",
    "    std::cout << \"Olá, mundo!\" << std::endl;\n",
    "}"
   ]
  },
  {
   "cell_type": "markdown",
   "metadata": {},
   "source": [
    "### Exemplos de instanciação e ponteiros"
   ]
  },
  {
   "cell_type": "code",
   "execution_count": 3,
   "metadata": {},
   "outputs": [],
   "source": [
    "int main_exemplo() {\n",
    "    MyClass* a = new MyClass();\n",
    "    a->foo();\n",
    "    return 0;\n",
    "}"
   ]
  },
  {
   "cell_type": "code",
   "execution_count": 4,
   "metadata": {},
   "outputs": [
    {
     "name": "stdout",
     "output_type": "stream",
     "text": [
      "Olá, mundo!\n",
      "Olá, mundo!\n",
      "Olá, mundo!\n"
     ]
    }
   ],
   "source": [
    "MyClass A;\n",
    "A.foo();  // primeira exibiçãoo de 'Olá, mundo!'\n",
    "\n",
    "MyClass* a;\n",
    "a = new MyClass();\n",
    "a->foo();  // segunda exibiçãoo de 'Olá, mundo!'\n",
    "(*a).foo();  // terceira exibiçãoo de 'Olá, mundo!'"
   ]
  },
  {
   "cell_type": "code",
   "execution_count": 5,
   "metadata": {},
   "outputs": [
    {
     "data": {
      "text/plain": [
       "@0x7ffe52a489a8"
      ]
     },
     "execution_count": 5,
     "metadata": {},
     "output_type": "execute_result"
    }
   ],
   "source": [
    "a"
   ]
  },
  {
   "cell_type": "code",
   "execution_count": 6,
   "metadata": {},
   "outputs": [
    {
     "data": {
      "text/plain": [
       "@0x7fded64a2028"
      ]
     },
     "execution_count": 6,
     "metadata": {},
     "output_type": "execute_result"
    }
   ],
   "source": [
    "A"
   ]
  },
  {
   "cell_type": "markdown",
   "metadata": {},
   "source": [
    "### Exemplo de uso do `define` para macros"
   ]
  },
  {
   "cell_type": "code",
   "execution_count": 7,
   "metadata": {},
   "outputs": [],
   "source": [
    "#define getmax(a,b) ((a)>(b)?(a):(b))\n",
    "\n",
    "// ...\n",
    "int x = 10;\n",
    "int y = getmax(x,15); // y vale 15"
   ]
  },
  {
   "cell_type": "code",
   "execution_count": 8,
   "metadata": {},
   "outputs": [
    {
     "data": {
      "text/plain": [
       "15"
      ]
     },
     "execution_count": 8,
     "metadata": {},
     "output_type": "execute_result"
    }
   ],
   "source": [
    "y"
   ]
  },
  {
   "cell_type": "markdown",
   "metadata": {},
   "source": [
    "### Exemplo de uso de `namespace`"
   ]
  },
  {
   "cell_type": "code",
   "execution_count": 9,
   "metadata": {},
   "outputs": [],
   "source": [
    "// in myclass.hpp\n",
    "#include <iostream>\n",
    "\n",
    "namespace meuespaco {\n",
    "\n",
    "template <class T>\n",
    "class MyClass {\n",
    "  public:\n",
    "    void foo() {\n",
    "        std::cout << \"Oi, mundo!\" << std::endl;\n",
    "    }\n",
    "    T bar;\n",
    "};\n",
    "    \n",
    "}"
   ]
  },
  {
   "cell_type": "code",
   "execution_count": 10,
   "metadata": {},
   "outputs": [
    {
     "name": "stderr",
     "output_type": "stream",
     "text": [
      "\u001b[1minput_line_25:8:8: \u001b[0m\u001b[0;1;31merror: \u001b[0m\u001b[1mexpected unqualified-id\u001b[0m\n",
      "MyClass<int>* b2; // ambiguidade\n",
      "\u001b[0;1;32m       ^\n",
      "\u001b[0m"
     ]
    },
    {
     "ename": "Interpreter Error",
     "evalue": "",
     "output_type": "error",
     "traceback": [
      "Interpreter Error: "
     ]
    }
   ],
   "source": [
    "// in main.cpp\n",
    "// #include \"myclass.h\"  // defines MyClass\n",
    "// #include \"myclass.hpp\"  // defines MyClass\n",
    "\n",
    "using namespace std;\n",
    "\n",
    "// ...\n",
    "MyClass* a2; // ambiguidade\n",
    "MyClass<int>* b2; // ambiguidade"
   ]
  },
  {
   "cell_type": "code",
   "execution_count": 11,
   "metadata": {},
   "outputs": [],
   "source": [
    "meuespaco::MyClass<int>* b2;"
   ]
  },
  {
   "cell_type": "markdown",
   "metadata": {},
   "source": [
    "### Exemplo de uso de `typedef`"
   ]
  },
  {
   "cell_type": "code",
   "execution_count": 15,
   "metadata": {},
   "outputs": [],
   "source": [
    "using namespace std;\n",
    "\n",
    "typedef meuespaco::MyClass<int> MinhaClasseInteira;\n",
    "\n",
    "// ...\n",
    "MyClass* a3;\n",
    "MinhaClasseInteira* b3;"
   ]
  },
  {
   "cell_type": "code",
   "execution_count": null,
   "metadata": {},
   "outputs": [],
   "source": []
  }
 ],
 "metadata": {
  "kernelspec": {
   "display_name": "C++14",
   "language": "C++14",
   "name": "xcpp14"
  },
  "language_info": {
   "codemirror_mode": "text/x-c++src",
   "file_extension": ".cpp",
   "mimetype": "text/x-c++src",
   "name": "c++",
   "version": "14"
  }
 },
 "nbformat": 4,
 "nbformat_minor": 2
}
