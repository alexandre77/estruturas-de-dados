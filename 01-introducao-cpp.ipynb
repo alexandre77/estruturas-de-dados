{
 "cells": [
  {
   "cell_type": "markdown",
   "metadata": {},
   "source": [
    "# Aula 01 - Introdução à C++\n",
    "\n",
    "- Pré-requisito: disciplina de orientação a objetos\n",
    "- Referência do material: baseado no *wikilivro* [Programar em C++](https://pt.wikibooks.org/wiki/Programar_em_C%2B%2B)\n",
    "\n",
    "## Índice\n",
    "\n",
    "1. **[Sobre o conteúdo](#Sobre-o-conteúdo)** <br>\n",
    "- **[Iniciando o estudo](#Iniciando-o-estudo)** <br>\n",
    "- **[Objetos - básico](#Objetos---básico)**<br>\n",
    "- **[Objetos - avançado](#Objetos---avançado)** <br>\n",
    "- **[Conceitos avançados](#Conceitos-avançados)**<br>\n",
    "- **[Ligações externas](#Ligações-externas)** <br>\n",
    "- **[Repositório](https://github.com/alexandre77/estruturas-de-dados)** <br>"
   ]
  },
  {
   "cell_type": "markdown",
   "metadata": {},
   "source": [
    "## Sobre o conteúdo"
   ]
  },
  {
   "cell_type": "markdown",
   "metadata": {},
   "source": [
    "### Objetivo\n",
    "Este material tem por objetivo apresentar os fundamentos desta linguagem, de modo que o estudante possa desenvolver diferentes tipos de softwares em alto e baixo nível para os diversos ambientes existentes, desde aplicações para GNU/Linux ou Windows até programas para microcontroladores, além de fornecer a base para os estudos avançados de C++. Espera-se que este material aborde:\n",
    "\n",
    "- Aspectos teóricos\n",
    "- Aspectos práticos\n",
    "- Os erros comuns\n",
    "\n",
    "Para tanto, cada tópico deverá ter uma explicação teórica, citar os erros mais comuns e exercícios.\n",
    "\n",
    "### Por que C++?\n",
    "Imagine que um programa para fazer a máquina de um pequeno relógio de pulso funcionar deva ser feito, então você pensa:\n",
    "\n",
    "- Bom, isso pode ser feito com Assembly...\n",
    "- Porém, pensando melhor, você decide mudar de linguagem quando você pondera.\n",
    "- O problema maior é que se eu tiver que mudar o processador do relógio, vou ter que refazer o programa. É melhor usar linguagem \"C\".\n",
    "- Depois você termina por avaliar outra possibilidade:\n",
    "- Bem, se eu já estou pensando em \"C\" é melhor usar \"C++\", depois vai ser mais fácil de entender o código, reaproveitar em outras coisas e ainda vai ser mais fácil de expandir para outros modelos de relógio.\n",
    "\n",
    "E assim é o que podemos perceber como C++ é poderosa, flexível e abrangente. Ela pode ser usada para programar qualquer tipo de hardware, desde os mais simples até os mais complexos. Além disso, C++ é uma linguagem que gera programas em código de máquina, que funcionam com ou sem a participação de sistemas operacionais no dispositivo.\n",
    "\n",
    "Alguns profissionais afirmam que C++ é a linguagem mais poderosa que existe. Veja algumas de suas características:\n",
    "\n",
    "- É um superconjunto da linguagem C, e contém vários melhoramentos;\n",
    "- Deu origem a grandes linguagens como Java e D;\n",
    "- É a porta para a programação orientada a objetos;\n",
    "- C++ pode virtualmente ser efetivamente aplicado a qualquer tarefa de programação;\n",
    "- Há vários compiladores para diversas plataformas, tornando a linguagem uma opção para programas multiplataforma.\n",
    "\n",
    "A linguagem C++ é utilizada em projetos como:\n",
    "\n",
    "- Compiladores;\n",
    "- Editores;\n",
    "- Ferramentas de programação;\n",
    "- Jogos;\n",
    "- Programas de redes.\n",
    "\n",
    "Padronização:\n",
    "\n",
    "| Ano  | Padronização       | Nome informal |\n",
    "|------|--------------------|----------------|\n",
    "| 1998 | ISO/IEC 14882:1998 | C++98          |\n",
    "| 2003 | ISO/IEC 14882:2003 | C++03          |\n",
    "| 2011 | ISO/IEC 14882:2011 | C++11          |\n",
    "| 2014 | ISO/IEC 14882:2014 | C++14          |\n",
    "| 2017 | ISO/IEC 14882:2017 | C++17          |\n",
    "| 2020 | a ser determinado  | C++20          |\n",
    "\n",
    "C++ é considerada uma linguagem que está entre linguagem de alto nível (em inglês, *high level language*) e linguagem de baixo nível (em inglês, *low level language*). Dito de outra forma, é uma linguagem que está próxima da linguagem humana (linguagem de alto nível), mas ao mesmo tempo permite estar próximo da maneira como o computador processa, próximo do Assembly (uma linguagem de baixo nível).\n",
    "\n",
    "### Diferenças entre C e C++\n",
    "\n",
    "Quem sabe programar em C++, é capaz de programar C, devido à semelhança entre as linguagens e o fato do C++ ser uma extensão do C. Contudo o C não é completamente um subconjunto do C++. Grande parte de código C pode ser perfeitamente compilado em C++, mas existem algumas pequenas diferenças sintáticas e semânticas entre as linguagens que tornam alguns trechos de código C válidos em código C++ inválido, ou códigos que exibem comportamentos diferentes em cada linguagem.\n",
    "\n",
    "Algumas diferenças básicas:\n",
    "\n",
    "- O C permite a conversão implícita entre o tipo de dado `void *` para ponteiros para outros tipos, algo que o C++ não permite;\n",
    "- O C permite que constantes de caracteres sejam inseridas em chamadas de funções com parâmetros tipo `char *`, em C++ é preciso declarar o parâmetro como `const char *;`.\n",
    "\n",
    "Além destas pequenas diferenças, C++ tem um conjunto de características que a torna fundamentalmente diferente de \"C\". Esse conjunto torna possível programar em C++ de um modo totalmente diferente do modo de programar da linguagem \"C\". O que traz a diferença é o modo da orientação na montagem do código.\n",
    "\n",
    "Chamamos o modo de programar em \"C\" de orientado a procedimentos e chamamos o modo do \"C++\" de orientado a objetos. Muitas pessoas confundem as coisas quando começam a programar usando um compilador C++, pois esta linguagem permite programar nos dois modos. Essa é uma das características que a torna mais flexível.\n",
    "\n",
    "Apesar de C++ permitir programar em modo orientado a procedimentos, podemos dizer que, nestes casos, estamos programando em \"C\", usando um compilador C++. Quando usamos C++, programamos em modo orientado a objetos. Devido a estas características, o C++ permite programar em modo misto, ou seja, escrevendo partes do código orientadas a procedimentos e outras orientadas a objetos. Usar estes dois modos de programar ao mesmo tempo é uma das facilidades que o C++ permite, enquanto que outras linguagens orientadas a objetos como Java, Eifel, etc, não permitem. "
   ]
  },
  {
   "cell_type": "markdown",
   "metadata": {},
   "source": [
    "## Iniciando o estudo"
   ]
  },
  {
   "cell_type": "markdown",
   "metadata": {},
   "source": [
    "### Introdução\n",
    "\n",
    "#### Pensando no código\n",
    "Considerando o conjunto de operações e eventos que nosso programa deve executar temos diversas maneiras de criar o código, porém o mais difícil é criar um código eficiente, rápido e compacto. Na verdade, diversos fatores podem interferir nestes aspectos da programação, entre eles, a escolha do compilador, o método de estruturar o código, a orientação do mesmo, etc... Em termos gerais, um código torna-se mais próximo do ideal a medida que suas partes tornam-se mais simples de se analisar e quando todos os processos estão bem definidos e especializados. Quando temos um código que contém muito mais exceções do que regras, este precisa de uma reestruturação.\n",
    "\n",
    "Podemos definir C++ como um \"superconjunto\" da linguagem C, ou seja, uma linguagem com mais funcionalidades que a linguagem C. Embora este seja o ponto de vista de quem já tem um conhecimento da linguagem C, ela é muito mais que isto. Podemos mudar completamente a forma de criar o programa quando usamos os recursos avançados da linguagem, as estruturas de decisão (por exemplo, `if-else` ou `switch`) podem ser simplificadas e a organização do código pode ser bem mais globalizada e genérica, possibilitando a reutilização do código em diversas situações diferentes.\n",
    "\n",
    "#### Um pouco sobre orientação a objetos\n",
    "A programação orientada a objetos é um paradigma de programação que visa organização, produtividade e sustentabilidade.\n",
    "\n",
    "A apresentação dos conceitos de orientação a objetos é bastante abrangente, o que implica na abordagem de diversos aspectos, como modelagem, estudo de performance de modelos, aplicabilidade de técnicas, estruturação de objetos, otimização, manutenção do código, entre outros. Por este motivo, nosso objetivo aqui não é apresentar a orientação a objetos em sua totalidade. Para um estudo mais detalhado do tema sugerimos o livro POO, que trata especificamente deste tema. O objetivo aqui é apresentar como a orientação a objetos se aplica na linguagem C++, porém os conceitos aqui apresentados devem ser suficientes para a estruturação de programas de bom nível.\n",
    "\n",
    "A ideia principal por trás do modelo de programação orientado a objetos está em transformar entidades do mundo real em identificadores dentro do programa (objetos), trabalhando-os como entidades da linguagem que possuem características e operações próprias. Esta abordagem transforma o programa em um meio de simulação de situações virtuais por meio de entidades de código que têm comportamento predefinido. Esta abstração é uma aliada do programador por permitir idealizar sistemas mais sofisticados de uma maneira bastante intuitiva.\n",
    "\n",
    "Todas as linguagens orientadas a objetos contêm os princípios de:\n",
    "\n",
    "- **Encapsulamento**\n",
    "  - É um mecanismo para esconder os detalhes envolvidos no processamento de uma ação. Por exemplo, quando usamos um telefone, não precisamos lidar diretamente com o circuito interno; a interface do telefone cuida desse problema.\n",
    "- **Polimorfismo**\n",
    "  - Isso permite o uso de uma única interface ― uma única forma de uso ― para objetos de tipos diferentes; em particular, a mesma interface para objetos de uma classe e objetos de classes derivadas dessa.\n",
    "- **Herança**\n",
    "  - Como o nome sugere, isso permite que uma classe herde de outra suas características, podendo também introduzir suas próprias ou alterar as características herdadas. O uso de herança acaba poupando trabalho e melhorando a organização do código.\n",
    "\n",
    "#### Objetos\n",
    "Objeto é, genericamente, uma entidade de armazenamento e manipulação de dados. O mesmo deve ser criado para processar os dados que armazena e recebe, sendo sensível a entradas do programa principal para fornecer as saídas esperadas pelo mesmo. Por estes motivos o objeto deve ser pensado como uma entidade de dados autônoma, encarregada de processar todos os dados que mantém.\n",
    "\n",
    "Da mesma forma que podemos usar tipos de dados nativos da linguagem podemos criar nossos tipos de dados. Na linguagem C podemos criar tipos de dados compostos que chamamos de **estruturas**, estes são criados com a palavra chave `struct`. C++ possibilita o uso de estruturas de dados e introduz um novo tipo chamado de **classe**. Como o nome sugere, uma classe refere-se a um conjunto de características dadas a um grupo de \"indivíduos\", ou seja, grupo de objetos. Por este motivo, classe é a definição de tipo de objeto.\n",
    "\n",
    "Em C++, as classes de objetos são criadas através da palavra chave `class`. Tal processo segue a sequência:\n",
    "\n",
    "- Definir os dados e procedimentos que a classe deve conter;\n",
    "- Criar a classe de objetos;\n",
    "- Declarar (instanciar) o objeto.\n",
    "\n",
    "A definição de uma classe de objetos deve ser feita de forma a tornar, preferencialmente, todos os dados protegidos de interferências de códigos externos ao objeto. Por este motivo um objeto deve ser uma parte do código do programa com uma certa autonomia. Este deve ter controle sobre seus dados e ser capaz de provê-los e lidar com eventos a eles relacionados. Dentro de seu escopo de responsabilidades, a entidade deve essencialmente \"ter vida própria\". "
   ]
  },
  {
   "cell_type": "markdown",
   "metadata": {},
   "source": [
    "### Olá, Mundo!\n",
    "É comum, no aprendizado de uma linguagem de programação, que seu primeiro programa faça com que o computador exiba \"Olá, mundo!\". Em C++, este primeiro programa já introduz muitos conceitos sobre a linguagem. Veja o código do nosso primeiro programa:"
   ]
  },
  {
   "cell_type": "code",
   "execution_count": 1,
   "metadata": {},
   "outputs": [],
   "source": [
    "#include <iostream>\n",
    "\n",
    "int main() {\n",
    "  std::cout << \"Olá, mundo!\"; \n",
    "  return 0;\n",
    "}"
   ]
  },
  {
   "cell_type": "markdown",
   "metadata": {},
   "source": [
    "Assim como, para começar a dirigir, não é necessário saber toda a mecânica do carro, para programar não precisamos logo de início nos prender a todos os detalhes. No programa acima, vamos dar atenção apenas à instrução `cout`: "
   ]
  },
  {
   "cell_type": "code",
   "execution_count": 2,
   "metadata": {},
   "outputs": [
    {
     "name": "stdout",
     "output_type": "stream",
     "text": [
      "Olá, mundo!"
     ]
    }
   ],
   "source": [
    "std::cout << \"Olá, mundo!\";"
   ]
  },
  {
   "cell_type": "markdown",
   "metadata": {},
   "source": [
    "- `std::cout << \"Olá, mundo!\";`\n",
    "\n",
    "A palavra `cout` vem de *Console OUT* (saída do console), onde geralmente temos a saída no monitor. O `cout` é seguido do operador `<<` e da frase que se quer informar entre aspas: \"Olá, mundo!\". Intuitivamente, isso nos leva a ideia de que a sequência de caracteres será levada ao `cout`. O `std::` posicionado antes indica que `cout` está no contexto deste *namespace*. Uma alternativa seria carregar este *namespace* antes. O código se tornaria o seguinte:\n",
    "\n",
    "   ```cpp\n",
    "   using namespace std;\n",
    "   cout << \"Olá, mundo!\";```\n",
    "\n",
    "- `return 0;`\n",
    "\n",
    "Este comando termina o programa, retornando um inteiro, conforme a especificação padrão da função `main`. Estudaremos melhor no capítulo sobre funções e retornos. "
   ]
  },
  {
   "cell_type": "markdown",
   "metadata": {},
   "source": [
    "### Entrada de dados e comentários no código\n",
    "\n",
    "Comentário é um recurso muito útil em programação. Ele permite que o programador adicione texto ao programa para facilitar o entendimento do programa por parte de outros programadores, ou até dele mesmo. Os comentários são usados para explicar trechos de código, adicionar cláusulas e qualquer texto em geral.\n",
    "\n",
    "Vamos agora para um trecho de programa mais completo com entrada de dados e comentários dentro do código: "
   ]
  },
  {
   "cell_type": "code",
   "execution_count": 3,
   "metadata": {},
   "outputs": [
    {
     "name": "stdout",
     "output_type": "stream",
     "text": [
      "Digite um número: 10\n",
      "\n",
      "Você digitou o número: 10\n"
     ]
    }
   ],
   "source": [
    "// Este é um comentário de uma linha\n",
    "\n",
    "/*\n",
    "  Este é \n",
    "  um comentário\n",
    "  de várias\n",
    "  linhas \n",
    "*/\n",
    "\n",
    "using namespace std;\n",
    "\n",
    "int x;\n",
    "cout << \"Digite um número: \";\n",
    "cin >> x;\n",
    "cout << \"\\nVocê digitou o número: \" << x << endl;"
   ]
  },
  {
   "cell_type": "markdown",
   "metadata": {},
   "source": [
    "#### Comentários no programa\n",
    "\n",
    "continuar aqui https://pt.wikibooks.org/wiki/Programar_em_C%2B%2B/Al%C3%B4,_Mundo!"
   ]
  },
  {
   "cell_type": "markdown",
   "metadata": {},
   "source": [
    "## Objetos - básico"
   ]
  },
  {
   "cell_type": "markdown",
   "metadata": {},
   "source": [
    "## Conceitos avançados"
   ]
  },
  {
   "cell_type": "markdown",
   "metadata": {},
   "source": [
    "## Ligações externas"
   ]
  },
  {
   "cell_type": "markdown",
   "metadata": {},
   "source": [
    "## Classe\n",
    "\n",
    "Exemplo de uso de classe"
   ]
  },
  {
   "cell_type": "code",
   "execution_count": 1,
   "metadata": {},
   "outputs": [],
   "source": [
    "#include <iostream>\n",
    "\n",
    "class MyClass {\n",
    "  public:\n",
    "    void foo();\n",
    "    float bar;\n",
    "};"
   ]
  },
  {
   "cell_type": "code",
   "execution_count": 2,
   "metadata": {},
   "outputs": [],
   "source": [
    "void MyClass::foo() {\n",
    "    std::cout << \"Hello World!\" << std::endl;\n",
    "}"
   ]
  },
  {
   "cell_type": "code",
   "execution_count": 3,
   "metadata": {},
   "outputs": [],
   "source": [
    "int main() {\n",
    "    MyClass* a = new MyClass();\n",
    "    a->foo();\n",
    "    return 0;\n",
    "}"
   ]
  },
  {
   "cell_type": "code",
   "execution_count": 4,
   "metadata": {},
   "outputs": [
    {
     "name": "stdout",
     "output_type": "stream",
     "text": [
      "Hello World!\n",
      "Hello World!\n",
      "Hello World!\n"
     ]
    },
    {
     "data": {
      "text/plain": [
       "@0x7fd0a7a45028"
      ]
     },
     "execution_count": 4,
     "metadata": {},
     "output_type": "execute_result"
    }
   ],
   "source": [
    "MyClass A;\n",
    "A.foo();\n",
    "\n",
    "MyClass* a;\n",
    "a = new MyClass();\n",
    "a->foo();\n",
    "(*a).foo();\n",
    "\n",
    "a;\n",
    "A"
   ]
  },
  {
   "cell_type": "markdown",
   "metadata": {},
   "source": [
    "## Template\n",
    "\n",
    "Exemplo de uso de template."
   ]
  },
  {
   "cell_type": "code",
   "execution_count": 1,
   "metadata": {},
   "outputs": [],
   "source": [
    "#include <iostream>\n",
    "\n",
    "template <class T>\n",
    "class MyClass2 {\n",
    "  public:\n",
    "    MyClass2(T bar) {\n",
    "        std::cout << \"Hello World!\" << std::endl << bar << std::endl;\n",
    "    }\n",
    "    void foo(T bar) {\n",
    "        std::cout<<\"Hello World!\"<<std::endl << bar << std::endl;\n",
    "    }\n",
    "};"
   ]
  },
  {
   "cell_type": "code",
   "execution_count": 2,
   "metadata": {},
   "outputs": [
    {
     "name": "stdout",
     "output_type": "stream",
     "text": [
      "Hello World!\n",
      "101\n",
      "Hello World!\n",
      "102\n",
      "Hello World!\n",
      "101.01\n",
      "Hello World!\n",
      "102.02\n"
     ]
    }
   ],
   "source": [
    "MyClass2<int>* a = new MyClass2<int>(101);\n",
    "a->foo(102);\n",
    "\n",
    "MyClass2<float>* b = new MyClass2<float>(101.01);\n",
    "b->foo(102.02);"
   ]
  },
  {
   "cell_type": "code",
   "execution_count": 3,
   "metadata": {},
   "outputs": [
    {
     "name": "stdout",
     "output_type": "stream",
     "text": [
      "Hello World!\n",
      "201\n",
      "Hello World!\n",
      "202\n"
     ]
    }
   ],
   "source": [
    "MyClass2<int> A(201);\n",
    "A.foo(202);"
   ]
  },
  {
   "cell_type": "markdown",
   "metadata": {},
   "source": [
    "## Continuar daqui... !!!"
   ]
  },
  {
   "cell_type": "code",
   "execution_count": 1,
   "metadata": {},
   "outputs": [],
   "source": [
    "#include <string>\n",
    "#include <fstream>\n",
    "#include \"xcpp/xdisplay.hpp\"\n",
    "#include \"xeus/xjson.hpp\"\n",
    "\n",
    "namespace ht {\n",
    "    struct html {\n",
    "        inline html(const std::string& filename) {\n",
    "            std::ifstream myfile(filename);\n",
    "            m_buffer << myfile.rdbuf();\n",
    "        }\n",
    "        // inline html(const std::string& content) {\n",
    "        //    m_content = content;\n",
    "        // }\n",
    "        std::stringstream m_buffer;\n",
    "    };\n",
    "    xeus::xjson mime_bundle_repr(const html& a) {\n",
    "        auto bundle = xeus::xjson::object();\n",
    "        bundle[\"text/html\"] = a.m_buffer.str();\n",
    "        return bundle;\n",
    "    }\n",
    "}\n",
    "\n",
    "ht::html circle(\"fig/circle.svg\");"
   ]
  },
  {
   "cell_type": "code",
   "execution_count": 2,
   "metadata": {},
   "outputs": [
    {
     "data": {
      "text/html": [
       "<?xml version=\"1.0\" encoding=\"UTF-8\" standalone=\"no\"?>\n",
       "<!-- Created with Inkscape (http://www.inkscape.org/) -->\n",
       "\n",
       "<svg\n",
       "   xmlns:dc=\"http://purl.org/dc/elements/1.1/\"\n",
       "   xmlns:cc=\"http://creativecommons.org/ns#\"\n",
       "   xmlns:rdf=\"http://www.w3.org/1999/02/22-rdf-syntax-ns#\"\n",
       "   xmlns:svg=\"http://www.w3.org/2000/svg\"\n",
       "   xmlns=\"http://www.w3.org/2000/svg\"\n",
       "   xmlns:sodipodi=\"http://sodipodi.sourceforge.net/DTD/sodipodi-0.dtd\"\n",
       "   xmlns:inkscape=\"http://www.inkscape.org/namespaces/inkscape\"\n",
       "   width=\"43.01873mm\"\n",
       "   height=\"43.01873mm\"\n",
       "   viewBox=\"0 0 152.42857 152.42857\"\n",
       "   id=\"svg2\"\n",
       "   version=\"1.1\"\n",
       "   inkscape:version=\"0.91 r13725\"\n",
       "   sodipodi:docname=\"circle.svg\">\n",
       "  <defs\n",
       "     id=\"defs4\" />\n",
       "  <sodipodi:namedview\n",
       "     id=\"base\"\n",
       "     pagecolor=\"#ffffff\"\n",
       "     bordercolor=\"#666666\"\n",
       "     borderopacity=\"1.0\"\n",
       "     inkscape:pageopacity=\"0.0\"\n",
       "     inkscape:pageshadow=\"2\"\n",
       "     inkscape:zoom=\"0.35\"\n",
       "     inkscape:cx=\"249.78571\"\n",
       "     inkscape:cy=\"131.92857\"\n",
       "     inkscape:document-units=\"px\"\n",
       "     inkscape:current-layer=\"layer1\"\n",
       "     showgrid=\"false\"\n",
       "     fit-margin-top=\"0\"\n",
       "     fit-margin-left=\"0\"\n",
       "     fit-margin-right=\"0\"\n",
       "     fit-margin-bottom=\"0\"\n",
       "     inkscape:window-width=\"1375\"\n",
       "     inkscape:window-height=\"876\"\n",
       "     inkscape:window-x=\"65\"\n",
       "     inkscape:window-y=\"24\"\n",
       "     inkscape:window-maximized=\"1\" />\n",
       "  <metadata\n",
       "     id=\"metadata7\">\n",
       "    <rdf:RDF>\n",
       "      <cc:Work\n",
       "         rdf:about=\"\">\n",
       "        <dc:format>image/svg+xml</dc:format>\n",
       "        <dc:type\n",
       "           rdf:resource=\"http://purl.org/dc/dcmitype/StillImage\" />\n",
       "        <dc:title></dc:title>\n",
       "      </cc:Work>\n",
       "    </rdf:RDF>\n",
       "  </metadata>\n",
       "  <g\n",
       "     inkscape:label=\"Camada 1\"\n",
       "     inkscape:groupmode=\"layer\"\n",
       "     id=\"layer1\"\n",
       "     transform=\"translate(-125.21429,-169.00506)\">\n",
       "    <circle\n",
       "       style=\"fill:#ff0000;fill-rule:evenodd;stroke:#000000;stroke-width:1px;stroke-linecap:butt;stroke-linejoin:miter;stroke-opacity:1\"\n",
       "       id=\"path3336\"\n",
       "       cx=\"201.42857\"\n",
       "       cy=\"245.21935\"\n",
       "       r=\"75.714287\" />\n",
       "  </g>\n",
       "</svg>\n"
      ]
     },
     "metadata": {},
     "output_type": "display_data"
    }
   ],
   "source": [
    "// xcpp::display(rect, \"some_display_id\");\n",
    "xcpp::display(circle, \"some_display_id\");"
   ]
  },
  {
   "cell_type": "markdown",
   "metadata": {},
   "source": [
    "## Polymorphism"
   ]
  },
  {
   "cell_type": "code",
   "execution_count": 18,
   "metadata": {},
   "outputs": [],
   "source": [
    "class Bar : public Foo\n",
    "{\n",
    "public:\n",
    "\n",
    "    virtual ~Bar() {}\n",
    "    \n",
    "    virtual void print(double value) const\n",
    "    {\n",
    "        std::cout << \"Bar value = \" << 2 * value << std::endl;\n",
    "    }\n",
    "};"
   ]
  },
  {
   "cell_type": "code",
   "execution_count": 19,
   "metadata": {},
   "outputs": [
    {
     "name": "stdout",
     "output_type": "stream",
     "text": [
      "Bar value = 2.4\n"
     ]
    }
   ],
   "source": [
    "Foo* bar2 = new Bar;\n",
    "bar2->print(1.2);\n",
    "delete bar2;"
   ]
  },
  {
   "cell_type": "markdown",
   "metadata": {},
   "source": [
    "## Templates"
   ]
  },
  {
   "cell_type": "code",
   "execution_count": 20,
   "metadata": {},
   "outputs": [],
   "source": [
    "#include <typeinfo>\n",
    "\n",
    "template <class T>\n",
    "class FooT\n",
    "{\n",
    "public:\n",
    "    \n",
    "    explicit FooT(const T& t) : m_t(t) {}\n",
    "    \n",
    "    void print() const\n",
    "    {\n",
    "        std::cout << typeid(T).name() << \" m_t = \" << m_t << std::endl;\n",
    "    }\n",
    "    \n",
    "private:\n",
    "    \n",
    "    T m_t;\n",
    "};\n",
    "\n",
    "template <>\n",
    "class FooT<int>\n",
    "{\n",
    "public:\n",
    "    \n",
    "    explicit FooT(const int& t) : m_t(t) {}\n",
    "    \n",
    "    void print() const\n",
    "    {\n",
    "        std::cout << \"m_t = \" << m_t << std::endl;\n",
    "    }\n",
    "    \n",
    "private:\n",
    "    \n",
    "    int m_t;\n",
    "};"
   ]
  },
  {
   "cell_type": "code",
   "execution_count": 21,
   "metadata": {},
   "outputs": [
    {
     "name": "stdout",
     "output_type": "stream",
     "text": [
      "d m_t = 1.2\n"
     ]
    }
   ],
   "source": [
    "FooT<double> foot1(1.2);\n",
    "foot1.print();"
   ]
  },
  {
   "cell_type": "code",
   "execution_count": 22,
   "metadata": {},
   "outputs": [
    {
     "name": "stdout",
     "output_type": "stream",
     "text": [
      "m_t = 4\n"
     ]
    }
   ],
   "source": [
    "FooT<int> foot2(4);\n",
    "foot2.print();"
   ]
  }
 ],
 "metadata": {
  "kernelspec": {
   "display_name": "C++14",
   "language": "C++14",
   "name": "xcpp14"
  },
  "language_info": {
   "codemirror_mode": "text/x-c++src",
   "file_extension": ".cpp",
   "mimetype": "text/x-c++src",
   "name": "c++",
   "version": "14"
  }
 },
 "nbformat": 4,
 "nbformat_minor": 2
}
