{
 "cells": [
  {
   "cell_type": "markdown",
   "metadata": {},
   "source": [
    "# Aula 01 - Introdução à C++\n",
    "\n",
    "- Pré-requisito: disciplina de orientação a objetos\n",
    "- Referência: baseado no *wikilivro* [Programar em C++](https://pt.wikibooks.org/wiki/Programar_em_C%2B%2B)\n",
    "\n",
    "## Índice\n",
    "\n",
    "1. **[Introdução](#Introdução)** <br>\n",
    "- **[Olá, mundo!](#Olá,-mundo!)** <br>\n",
    "- **[Variáveis e constantes](#Variáveis-e-constantes)** <br>\n",
    "- **[Ponteiros](#Ponteiros)** <br>\n",
    "- **[Vetores](#Vetores)** <br>\n",
    "- **[Estruturas](#Estruturas)** <br>\n",
    "- **[Operadores](#Operadores)** <br>\n",
    "- **[Controles de fluxo](#Controles-de-fluxo)** <br>\n",
    "- **[Funções](#Funções)** <br>\n",
    "- **[Passagem de parâmetros](#Passagem-de-parâmetros)** <br>\n",
    "- **[Entrada e saída](#Entrada-e-saída)** <br>\n",
    "- **[Arquivos](#Arquivos)** <br>\n",
    "- **[Strings](#Strings)** <br>\n",
    "- **[Ligações externas](https://pt.wikibooks.org/wiki/Programar_em_C%2B%2B#Liga%C3%A7%C3%B5es_externas)** <br>\n",
    "- **[Repositório](https://github.com/alexandre77/estruturas-de-dados)** <br>"
   ]
  },
  {
   "cell_type": "markdown",
   "metadata": {},
   "source": [
    "## Introdução"
   ]
  },
  {
   "cell_type": "markdown",
   "metadata": {},
   "source": [
    "### Objetivo\n",
    "Este material tem por objetivo apresentar os fundamentos desta linguagem, de modo que o estudante possa desenvolver diferentes tipos de softwares em alto e baixo nível para os diversos ambientes existentes, desde aplicações para GNU/Linux ou Windows até programas para microcontroladores, além de fornecer a base para os estudos avançados de C++. Espera-se que este material aborde:\n",
    "\n",
    "- Aspectos teóricos\n",
    "- Aspectos práticos\n",
    "- Os erros comuns\n",
    "\n",
    "Para tanto, cada tópico deverá ter uma explicação teórica, citar os erros mais comuns e exercícios.\n",
    "\n",
    "### Por que C++?\n",
    "Imagine que um programa para fazer a máquina de um pequeno relógio de pulso funcionar deva ser feito, então você pensa:\n",
    "\n",
    "- Bom, isso pode ser feito com Assembly...\n",
    "- Porém, pensando melhor, você decide mudar de linguagem quando você pondera.\n",
    "- O problema maior é que se eu tiver que mudar o processador do relógio, vou ter que refazer o programa. É melhor usar linguagem \"C\".\n",
    "- Depois você termina por avaliar outra possibilidade:\n",
    "- Bem, se eu já estou pensando em \"C\" é melhor usar \"C++\", depois vai ser mais fácil de entender o código, reaproveitar em outras coisas e ainda vai ser mais fácil de expandir para outros modelos de relógio.\n",
    "\n",
    "E assim é o que podemos perceber como C++ é poderosa, flexível e abrangente. Ela pode ser usada para programar qualquer tipo de hardware, desde os mais simples até os mais complexos. Além disso, C++ é uma linguagem que gera programas em código de máquina, que funcionam com ou sem a participação de sistemas operacionais no dispositivo.\n",
    "\n",
    "Alguns profissionais afirmam que C++ é a linguagem mais poderosa que existe. Veja algumas de suas características:\n",
    "\n",
    "- É um superconjunto da linguagem C, e contém vários melhoramentos;\n",
    "- Deu origem a grandes linguagens como Java e D;\n",
    "- É a porta para a programação orientada a objetos;\n",
    "- C++ pode virtualmente ser efetivamente aplicado a qualquer tarefa de programação;\n",
    "- Há vários compiladores para diversas plataformas, tornando a linguagem uma opção para programas multiplataforma.\n",
    "\n",
    "A linguagem C++ é utilizada em projetos como:\n",
    "\n",
    "- Compiladores;\n",
    "- Editores;\n",
    "- Ferramentas de programação;\n",
    "- Jogos;\n",
    "- Programas de redes.\n",
    "\n",
    "Padronização:\n",
    "\n",
    "| Ano  | Padronização       | Nome informal |\n",
    "|------|--------------------|----------------|\n",
    "| 1998 | ISO/IEC 14882:1998 | C++98          |\n",
    "| 2003 | ISO/IEC 14882:2003 | C++03          |\n",
    "| 2011 | ISO/IEC 14882:2011 | C++11          |\n",
    "| 2014 | ISO/IEC 14882:2014 | C++14          |\n",
    "| 2017 | ISO/IEC 14882:2017 | C++17          |\n",
    "| 2020 | a ser determinado  | C++20          |\n",
    "\n",
    "C++ é considerada uma linguagem que está entre linguagem de alto nível (em inglês, *high level language*) e linguagem de baixo nível (em inglês, *low level language*). Dito de outra forma, é uma linguagem que está próxima da linguagem humana (linguagem de alto nível), mas ao mesmo tempo permite estar próximo da maneira como o computador processa, próximo do Assembly (uma linguagem de baixo nível).\n",
    "\n",
    "### Diferenças entre C e C++\n",
    "\n",
    "Quem sabe programar em C++, é capaz de programar C, devido à semelhança entre as linguagens e o fato do C++ ser uma extensão do C. Contudo o C não é completamente um subconjunto do C++. Grande parte de código C pode ser perfeitamente compilado em C++, mas existem algumas pequenas diferenças sintáticas e semânticas entre as linguagens que tornam alguns trechos de código C válidos em código C++ inválido, ou códigos que exibem comportamentos diferentes em cada linguagem.\n",
    "\n",
    "Algumas diferenças básicas:\n",
    "\n",
    "- O C permite a conversão implícita entre o tipo de dado `void *` para ponteiros para outros tipos, algo que o C++ não permite;\n",
    "- O C permite que constantes de caracteres sejam inseridas em chamadas de funções com parâmetros tipo `char *`, em C++ é preciso declarar o parâmetro como `const char *;`.\n",
    "\n",
    "Além destas pequenas diferenças, C++ tem um conjunto de características que a torna fundamentalmente diferente de \"C\". Esse conjunto torna possível programar em C++ de um modo totalmente diferente do modo de programar da linguagem \"C\". O que traz a diferença é o modo da orientação na montagem do código.\n",
    "\n",
    "Chamamos o modo de programar em \"C\" de orientado a procedimentos e chamamos o modo do \"C++\" de orientado a objetos. Muitas pessoas confundem as coisas quando começam a programar usando um compilador C++, pois esta linguagem permite programar nos dois modos. Essa é uma das características que a torna mais flexível.\n",
    "\n",
    "Apesar de C++ permitir programar em modo orientado a procedimentos, podemos dizer que, nestes casos, estamos programando em \"C\", usando um compilador C++. Quando usamos C++, programamos em modo orientado a objetos. Devido a estas características, o C++ permite programar em modo misto, ou seja, escrevendo partes do código orientadas a procedimentos e outras orientadas a objetos. Usar estes dois modos de programar ao mesmo tempo é uma das facilidades que o C++ permite, enquanto que outras linguagens orientadas a objetos como Java, Eifel, etc, não permitem. "
   ]
  },
  {
   "cell_type": "markdown",
   "metadata": {},
   "source": [
    "## Olá, mundo!"
   ]
  },
  {
   "cell_type": "markdown",
   "metadata": {},
   "source": [
    "### Introdução\n",
    "\n",
    "#### Pensando no código\n",
    "Considerando o conjunto de operações e eventos que nosso programa deve executar temos diversas maneiras de criar o código, porém o mais difícil é criar um código eficiente, rápido e compacto. Na verdade, diversos fatores podem interferir nestes aspectos da programação, entre eles, a escolha do compilador, o método de estruturar o código, a orientação do mesmo, etc... Em termos gerais, um código torna-se mais próximo do ideal a medida que suas partes tornam-se mais simples de se analisar e quando todos os processos estão bem definidos e especializados. Quando temos um código que contém muito mais exceções do que regras, este precisa de uma reestruturação.\n",
    "\n",
    "Podemos definir C++ como um \"superconjunto\" da linguagem C, ou seja, uma linguagem com mais funcionalidades que a linguagem C. Embora este seja o ponto de vista de quem já tem um conhecimento da linguagem C, ela é muito mais que isto. Podemos mudar completamente a forma de criar o programa quando usamos os recursos avançados da linguagem, as estruturas de decisão (por exemplo, `if-else` ou `switch`) podem ser simplificadas e a organização do código pode ser bem mais globalizada e genérica, possibilitando a reutilização do código em diversas situações diferentes.\n",
    "\n",
    "#### Um pouco sobre orientação a objetos\n",
    "A programação orientada a objetos é um paradigma de programação que visa organização, produtividade e sustentabilidade.\n",
    "\n",
    "A apresentação dos conceitos de orientação a objetos é bastante abrangente, o que implica na abordagem de diversos aspectos, como modelagem, estudo de performance de modelos, aplicabilidade de técnicas, estruturação de objetos, otimização, manutenção do código, entre outros. Por este motivo, nosso objetivo aqui não é apresentar a orientação a objetos em sua totalidade. Para um estudo mais detalhado do tema sugerimos o livro POO, que trata especificamente deste tema. O objetivo aqui é apresentar como a orientação a objetos se aplica na linguagem C++, porém os conceitos aqui apresentados devem ser suficientes para a estruturação de programas de bom nível.\n",
    "\n",
    "A ideia principal por trás do modelo de programação orientado a objetos está em transformar entidades do mundo real em identificadores dentro do programa (objetos), trabalhando-os como entidades da linguagem que possuem características e operações próprias. Esta abordagem transforma o programa em um meio de simulação de situações virtuais por meio de entidades de código que têm comportamento predefinido. Esta abstração é uma aliada do programador por permitir idealizar sistemas mais sofisticados de uma maneira bastante intuitiva.\n",
    "\n",
    "Todas as linguagens orientadas a objetos contêm os princípios de:\n",
    "\n",
    "- **Encapsulamento**\n",
    "  - É um mecanismo para esconder os detalhes envolvidos no processamento de uma ação. Por exemplo, quando usamos um telefone, não precisamos lidar diretamente com o circuito interno; a interface do telefone cuida desse problema.\n",
    "- **Polimorfismo**\n",
    "  - Isso permite o uso de uma única interface ― uma única forma de uso ― para objetos de tipos diferentes; em particular, a mesma interface para objetos de uma classe e objetos de classes derivadas dessa.\n",
    "- **Herança**\n",
    "  - Como o nome sugere, isso permite que uma classe herde de outra suas características, podendo também introduzir suas próprias ou alterar as características herdadas. O uso de herança acaba poupando trabalho e melhorando a organização do código.\n",
    "\n",
    "#### Objetos\n",
    "Objeto é, genericamente, uma entidade de armazenamento e manipulação de dados. O mesmo deve ser criado para processar os dados que armazena e recebe, sendo sensível a entradas do programa principal para fornecer as saídas esperadas pelo mesmo. Por estes motivos o objeto deve ser pensado como uma entidade de dados autônoma, encarregada de processar todos os dados que mantém.\n",
    "\n",
    "Da mesma forma que podemos usar tipos de dados nativos da linguagem podemos criar nossos tipos de dados. Na linguagem C podemos criar tipos de dados compostos que chamamos de **estruturas**, estes são criados com a palavra chave `struct`. C++ possibilita o uso de estruturas de dados e introduz um novo tipo chamado de **classe**. Como o nome sugere, uma classe refere-se a um conjunto de características dadas a um grupo de \"indivíduos\", ou seja, grupo de objetos. Por este motivo, classe é a definição de tipo de objeto.\n",
    "\n",
    "Em C++, as classes de objetos são criadas através da palavra chave `class`. Tal processo segue a sequência:\n",
    "\n",
    "- Definir os dados e procedimentos que a classe deve conter;\n",
    "- Criar a classe de objetos;\n",
    "- Declarar (instanciar) o objeto.\n",
    "\n",
    "A definição de uma classe de objetos deve ser feita de forma a tornar, preferencialmente, todos os dados protegidos de interferências de códigos externos ao objeto. Por este motivo um objeto deve ser uma parte do código do programa com uma certa autonomia. Este deve ter controle sobre seus dados e ser capaz de provê-los e lidar com eventos a eles relacionados. Dentro de seu escopo de responsabilidades, a entidade deve essencialmente \"ter vida própria\". "
   ]
  },
  {
   "cell_type": "markdown",
   "metadata": {},
   "source": [
    "### Olá, Mundo!\n",
    "É comum, no aprendizado de uma linguagem de programação, que seu primeiro programa faça com que o computador exiba \"Olá, mundo!\". Em C++, este primeiro programa já introduz muitos conceitos sobre a linguagem. Veja o código do nosso primeiro programa:"
   ]
  },
  {
   "cell_type": "code",
   "execution_count": 1,
   "metadata": {},
   "outputs": [],
   "source": [
    "#include <iostream>\n",
    "\n",
    "int main() {\n",
    "  std::cout << \"Olá, mundo!\"; \n",
    "  return 0;\n",
    "}"
   ]
  },
  {
   "cell_type": "markdown",
   "metadata": {},
   "source": [
    "Assim como, para começar a dirigir, não é necessário saber toda a mecânica do carro, para programar não precisamos logo de início nos prender a todos os detalhes. No programa acima, vamos dar atenção apenas à instrução `cout`: "
   ]
  },
  {
   "cell_type": "code",
   "execution_count": 2,
   "metadata": {},
   "outputs": [
    {
     "name": "stdout",
     "output_type": "stream",
     "text": [
      "Olá, mundo!"
     ]
    }
   ],
   "source": [
    "std::cout << \"Olá, mundo!\";"
   ]
  },
  {
   "cell_type": "markdown",
   "metadata": {},
   "source": [
    "- Instrução `std::cout << \"Olá, mundo!\";`\n",
    "\n",
    "A palavra `cout` vem de *Console OUT* (saída do console), onde geralmente temos a saída no monitor. O `cout` é seguido do operador `<<` e da frase que se quer informar entre aspas: \"Olá, mundo!\". Intuitivamente, isso nos leva a ideia de que a sequência de caracteres será levada ao `cout`. O `std::` posicionado antes indica que `cout` está no contexto deste *namespace*. Uma alternativa seria carregar este *namespace* antes. O código se tornaria o seguinte:\n",
    "\n",
    "   ```cpp\n",
    "   using namespace std;\n",
    "   cout << \"Olá, mundo!\";```\n",
    "\n",
    "- Instrução `return 0;`\n",
    "\n",
    "Este comando termina o programa, retornando um inteiro, conforme a especificação padrão da função `main`. Estudaremos melhor no capítulo sobre funções e retornos. "
   ]
  },
  {
   "cell_type": "markdown",
   "metadata": {},
   "source": [
    "### Entrada de dados e comentários no código\n",
    "\n",
    "Comentário é um recurso muito útil em programação. Ele permite que o programador adicione texto ao programa para facilitar o entendimento do programa por parte de outros programadores, ou até dele mesmo. Os comentários são usados para explicar trechos de código, adicionar cláusulas e qualquer texto em geral.\n",
    "\n",
    "Vamos agora para um trecho de programa mais completo com entrada de dados e comentários dentro do código: "
   ]
  },
  {
   "cell_type": "code",
   "execution_count": 3,
   "metadata": {},
   "outputs": [
    {
     "name": "stdout",
     "output_type": "stream",
     "text": [
      "Digite um número: \n",
      "\n",
      "11\n",
      "\n",
      "Você digitou o número: 11\n"
     ]
    }
   ],
   "source": [
    "// Este é um comentário de uma linha\n",
    "\n",
    "/*\n",
    "  Este é \n",
    "  um comentário\n",
    "  de várias\n",
    "  linhas \n",
    "*/\n",
    "\n",
    "using namespace std;\n",
    "\n",
    "int x;\n",
    "cout << \"Digite um número: \";\n",
    "cin >> x;\n",
    "cout << \"\\nVocê digitou o número: \" << x << endl;"
   ]
  },
  {
   "cell_type": "markdown",
   "metadata": {},
   "source": [
    "#### Comentários no programa\n",
    "\n",
    "Observemos esta linha:\n",
    "\n",
    "```cpp\n",
    "// Este é um comentário de uma linha```\n",
    "\n",
    "Trata-se de comando para o preprocessador (ou precompilador).\n",
    "\n",
    "O que é o preprocessador? Durante o processo de montagem do programa em formato binário existem três fases principais: O preprocessamento, a compilação e a fase de ligação (link). O preprocessador é um programa invocado pelo compilador para remover comentários e substituir certas partes do programa conforme a necessidade do código criado pelo programador.\n",
    "\n",
    "O preprocessador faz algumas alterações no texto fonte, que basicamente consistem em eliminar pedaços de código e/ou substituí-los por outros (*copy-paste*). Enfim, o mesmo altera o código fonte contendo comandos iniciados com `#` e outros comandos específicos, por outro código sem comandos de preprocessamento, puramente em linguagem C++.\n",
    "\n",
    "Ao analisar o código, o preprocessador encontra a sequência `//` e vai eliminar o texto que está a seguir até ao fim da linha.\n",
    "\n",
    "Mais uma forma de adicionar comentários:\n",
    "\n",
    "```cpp\n",
    "/*\n",
    " Este é \n",
    " um comentário\n",
    " de várias\n",
    " linhas \n",
    "*/ ```\n",
    "\n",
    "A linguagem C++ permite também fazer comentários por mais do que uma linha. Chama-se comentário por bloco e o que faz é eliminar tudo o que encontrar entre a sequência inicial `/*` e o final `*/`.\n",
    "\n",
    "A vantagem de termos esta possibilidade é poder comentar o nosso código. Existem algumas regras de boa conduta para comentários que foram criadas por pessoas que já têm muito tempo nisto:\n",
    "\n",
    "- Criar, logo no topo, um comentário a dizer o que é o nosso programa, e o que faz numa forma geral;\n",
    "- Fazer comentários a cada função que aparece no código a explicar;\n",
    "- Comentar linhas mais obscuras, mais difíceis de entender."
   ]
  },
  {
   "cell_type": "markdown",
   "metadata": {},
   "source": [
    "#### Incluindo cabeçalhos\n",
    "\n",
    "**`#include <iostream>`**\n",
    "\n",
    "O símbolo `#` é uma chamada de atenção ao compilador a dizer que aquela linha é para o preprocessador, depois temos o \"include\" (que basicamente diz para incluir código). Incluir o quê?\n",
    "\n",
    "Deve incluir o arquivo `iostream`. (*i*n+*o*ut+*stream*, \"fluxo de entrada e saída\", padrão) (na maioria das vezes, como entrada padrão temos o teclado e como saída temos o monitor) (este arquivo contém declarações das funções e definições que o nosso código fonte irá necessitar)\n",
    "\n",
    "Este código que será incluído é chamado de cabeçalho devido a uma característica evidente, o fato de ser código de declaração inicial do programa, que deve estar no topo do arquivo.\n",
    "\n",
    "Existem outros arquivos (ficheiros cabeçalho), o `iostream` é para fluxos de entrada e saída, mas temos muitos mais para matemática, manipulação de tempo, tratamento de caracteres, etc...\n",
    "\n",
    "Na maioria das vezes, os arquivos de cabeçalho fazem parte de uma biblioteca. Podemos ver na parte dos anexos, algumas bibliotecas que existem juntamente com as funções de cada uma. Nós próprios podemos criar uma biblioteca com código e nosso próprio cabeçalho. E até podemos comprar bibliotecas existentes comercialmente, através de empresas especializadas em desenvolvimento, que também terão seus arquivos de cabeçalhos.\n",
    "\n",
    "Mas, o que são bibliotecas? São arquivos com um conjunto de códigos que alguém fez antes. As que enunciamos antes são as \"standard\", são aquelas que têm as funcionalidades básicas, pertencentes aos padrões da linguagem. Repare-se que precisamos da biblioteca até para escrever na tela (*stream* + *out*) que nos permite utilizar o `cout`.\n",
    "\n",
    "O arquivo `iostream` está envolvido em `<` `>`, isto significa que o preprocessador deve procurar o arquivo no diretório usual (que é onde o compilador usa como padrão para os \"includes\"). Se tivéssemos o arquivo `iostream` envolvido em `\"` `\"` significaria que o preprocessador deveria procurá-lo dentro de uma lista de diretórios de inclusão, \"includes\", iniciando pelo diretório atual.\n",
    "\n",
    "As bibliotecas são compostas por duas partes: um índice de todas as funções e definições e declarações, o cabeçalho, e depois a definição de todas as funções existentes no índice, arquivos de código.\n",
    "\n",
    "As diretivas de preprocessamento não terminam com o ponto e vírgula como nas instruções. "
   ]
  },
  {
   "cell_type": "markdown",
   "metadata": {},
   "source": [
    "#### Usando `namespace`\n",
    "\n",
    "**`using namespace std;`**\n",
    "\n",
    "Observando esta linha, alguns tradicionais programadores, em linguagem C, têm uma novidade: *namespaces* são espaços de nomes dentro do código, eles funcionam, entre outras coisas, como um meio de evitar duplicação de nomes dentro de um projeto extenso, que geralmente contam com inúmeros arquivos.\n",
    "\n",
    "O C++ usa os *namespaces* para organizar os diferentes nomes usados nos programas. Cada nome usado no arquivo biblioteca \"standard iostream\" faz parte do \"namespace\" chamado de `std`.\n",
    "\n",
    "O objeto de saída padrão, `cout`, está definido dentro do \"namespace\" `std`, ele é um objeto da classe \"ostream\" \"output stream\", para acessá-lo temos que referenciá-lo como \"std::cout\". Para evitar que tenhamos que informar \"std::\" todas as vezes que precisarmos usar os recursos deste \"namespace\", podemos informar que estamos usando-o dentro do arquivo atual, conforme vemos na linha declarada no início deste tópico.\n",
    "\n",
    "O \"namespace\" permite que as variáveis sejam localizadas em certas regiões do código. Declarar o \"namespace std\" permite que todos os objetos e funções da biblioteca \"standard input-output\" possam ser usados sem qualquer qualificações específicas, desta maneira, não é mais necessário o uso de \"std::\"."
   ]
  },
  {
   "cell_type": "markdown",
   "metadata": {},
   "source": [
    "#### Função `main()`\n",
    "\n",
    "**`int main() { //corpo da função }`**\n",
    "\n",
    "Como na linguagem C, a função principal de entrada do programa a partir do sistema operacional é a função `main()`. Por isso mesmo ela é obrigatória em qualquer programa. Se não existisse uma \"main function\", não haveria entrada para que o sistema iniciasse o programa.\n",
    "\n",
    "Todas as funções são declaradas e usadas com o operador `(` `)`, assim é que o compilador reconhece que estas são funções. A ideia de ter funções é permitir o encapsulamento de uma ideia ou operação, dar um nome a isso e depois chamar essa operação de várias partes do programa simplesmente usando o seu nome. As funções declaradas como membros de uma classe de objetos podem ser chamadas de métodos.\n",
    "\n",
    "Do ponto de vista funcional, um código dentro de uma função executa operações em outra parte do programa, que não é aquela de onde foi chamada, por este motivo as mesmas contam com um mecanismo de passagem de dados, ao declarar uma função indicamos quais os dados que entram e o que ela deve fornecer a quem lhe chamou. Pode-se dizer que, tal qual uma função matemática, a função em C/C++ poderá ser substituída, depois de sua execução, pelo valor que ela **retorna**, este valor será especificado antes do nome da função na declaração da mesma, conforme vemos no início deste tópico.\n",
    "\n",
    "O `int` significa que a função vai retornar um inteiro. Seguem alguns tipos de dados:\n",
    "\n",
    "- **`int`** que é a abreviatura de inteiro;\n",
    "- **`char`** que é a abreviatura de caratere;\n",
    "- **`float`** que é a abreviatura de \"floating point number\", ou seja, uma representação para número real.\n",
    "\n",
    "Vejamos um exemplo:\n",
    "\n",
    "Quando criamos uma função `soma()`, obviamente só para ilustração pois isso não é necessário, podemos fazer: "
   ]
  },
  {
   "cell_type": "code",
   "execution_count": 4,
   "metadata": {},
   "outputs": [],
   "source": [
    "int soma(int a, int b) {\n",
    "    return a + b;\n",
    "}"
   ]
  },
  {
   "cell_type": "markdown",
   "metadata": {},
   "source": [
    "Agora imagine que tenhamos que somar 7 e 3, colocando o resultado em outra variável chamada valor, para isto faremos: "
   ]
  },
  {
   "cell_type": "code",
   "execution_count": 5,
   "metadata": {},
   "outputs": [
    {
     "name": "stdout",
     "output_type": "stream",
     "text": [
      "10"
     ]
    }
   ],
   "source": [
    "int valor = soma(7, 3);\n",
    "cout << valor;"
   ]
  },
  {
   "cell_type": "markdown",
   "metadata": {},
   "source": [
    "#### Final de instruções por `;`\n",
    "\n",
    "O ponto e vírgula funciona como ponto final, separa as instruções e contextos. Repare que apenas as funções, ou melhor, as definições de funções e as diretivas de preprocessamento é que não têm o \";\"\n",
    "\n",
    "É importante notar que o código poderia ser todo escrito quase numa linha tipo:\n",
    "\n",
    "```cpp\n",
    "int main() {int a; cout << \"Olá, mundo! Digite um número:\\n\"; cin >> a;cout <<\n",
    " \"Você digitou o número: \" << a <<\"\\n\";return 0;}```\n",
    "\n",
    "É realmente o \";\" que faz a terminação das instruções.\n",
    "\n",
    "Ao encontrar as chaves \"{}\", o compilador reconhece como um delimitador de bloco, ou \"body\", corpo. O corpo de uma função ou bloco de código começa com \"{\" e termina com \"}\", como temos as instruções agrupadas, já não há necessidade de colocar o \";\" no final para indicar onde é o fim do bloco.\n",
    "\n",
    "No nosso exemplo, existem duas instruções no corpo da função. As instruções são executadas por ordem: do topo até ao fim a menos que existam funções que alterem o fluxo da leitura ou que existam códigos de controle de execução \"**execution control codes**\", que alteram o caminho de execução. "
   ]
  },
  {
   "cell_type": "markdown",
   "metadata": {},
   "source": [
    "#### Entrada e saída (`cin`/`cout`)\n",
    "\n",
    "**`cout << \"Olá, mundo! Digite um número:\\n\";`**\n",
    "\n",
    "- (c+out): Podemos utilizar este objeto porque pusemos o *header* e o *namespace std*. As informações serão direcionadas através do `iostream`, um subsistema de entrada e saída da biblioteca padrão. O que este objeto nos permite é enviar o que temos entre aspas para a saída (*out*), que é o monitor neste caso.\n",
    "\n",
    "Quem já conhece a linguagem C, certamente está familiarizado com os *streams* da biblioteca padrão, o \"stdin\", o \"stdout\" e o \"stderr\"... A linguagem C++ implementa os mesmos dispositivos sob a forma de objetos.\n",
    "\n",
    "O `cout` envia dados para o \"**standard output device**\", que é usualmente o monitor, a abstração do elemento de saída padrão é observada na presença de um objeto que representa a saída física de dados para o meio externo.\n",
    "\n",
    "Observa-se que temos o operador `<<`, neste caso podemos verificar mais uma das funcionalidades da linguagem, pois este operador é usado para deslocamento de bits na sua funcionalidade padrão, neste caso a sua função foi substituída por outra, transferir os dados a sua direita para o \"output stream\" do seu lado esquerdo.\n",
    "\n",
    "O `cout` é um objeto da biblioteca \"standard C++\" que tem como uma de suas funções imprimir strings no \"standard output\" (que normalmente é a tela).\n",
    "\n",
    "Da mesma forma que podemos formatar o texto enviado a saída padrão na linguagem C, também podemos fazê-lo com os objetos do C++, por exemplo, se acrescentássemos \"**<< hex <<**\" entre uma variável e a saída: "
   ]
  },
  {
   "cell_type": "code",
   "execution_count": 6,
   "metadata": {},
   "outputs": [
    {
     "name": "stdout",
     "output_type": "stream",
     "text": [
      "a"
     ]
    }
   ],
   "source": [
    "cout << hex << valor;"
   ]
  },
  {
   "cell_type": "markdown",
   "metadata": {},
   "source": [
    "O resultado seria impresso em hexadecimal;\n",
    "\n",
    "Para entrada de dados, temos:"
   ]
  },
  {
   "cell_type": "code",
   "execution_count": 7,
   "metadata": {},
   "outputs": [
    {
     "name": "stdout",
     "output_type": "stream",
     "text": [
      "150\n"
     ]
    }
   ],
   "source": [
    "int numero;\n",
    "cin >> numero;"
   ]
  },
  {
   "cell_type": "markdown",
   "metadata": {},
   "source": [
    "O que esta linha faz é colocar o valor que foi digitado numa área de memória que foi chamada de \"numero\".\n",
    "\n",
    "Da mesma forma que o cout existe para saída de dados, temos outro objeto para entrada através do teclado, este objeto é chamado de \"**C**onsole **IN**\" - `cin`, seguindo a mesma analogia. Observe que o operador `>>` é usado para dar ideia de que os dados estão vindo do `cin` para a variável \"numero\". "
   ]
  },
  {
   "cell_type": "code",
   "execution_count": 9,
   "metadata": {},
   "outputs": [
    {
     "name": "stdout",
     "output_type": "stream",
     "text": [
      "Você digitou o número: 150\n"
     ]
    }
   ],
   "source": [
    "cout << \"Você digitou o número: \" << dec << numero << \"\\n\";"
   ]
  },
  {
   "cell_type": "markdown",
   "metadata": {},
   "source": [
    "Aqui voltamos a utilizar o objeto cout primeiro para imprimir, na tela, a frase \"Você digitou o número: \", depois vai buscar o valor que está naquela área de memória a que chamamos de \"numero\" e, por fim, coloca um caractere de mudança de linha através de \"\\n\", em C++ podemos usar um finalizador de linha chamado `endl`, o uso do mesmo é mais eficiente pois descarrega os dados do *stream* logo após a finalização da linha. "
   ]
  },
  {
   "cell_type": "markdown",
   "metadata": {},
   "source": [
    "#### Retornando valor\n",
    "\n",
    "**`return 0;`**\n",
    "\n",
    "Faz com que a função retorne o valor zero. Como esta função é a principal do programa, por onde o sistema operacional iniciou a execução do mesmo, este retorno é recebido pelo sistema. É comum que valores diferentes de zero sejam interpretados como erro do programa.\n",
    "\n",
    "Esta instrução manda retornar o valor zero para o sistema operacional (Windows, Unix, ...). Este zero representa dizer que o programa finalizou normalmente. Pode acontecer que o programa não finalize como seria de esperar, ocorrendo um *crash* (ou porque ficou com falta de memória). O sistema operacional necessita lidar com estas terminações anormais de uma forma diferente das normais. Por isso é que o programa diz ao sistema operacional que terminou normalmente."
   ]
  },
  {
   "cell_type": "markdown",
   "metadata": {},
   "source": [
    "## Variáveis e constantes"
   ]
  },
  {
   "cell_type": "markdown",
   "metadata": {},
   "source": [
    "[https://pt.wikibooks.org/wiki/Programar_em_C%2B%2B/Vari%C3%A1veis_e_constantes](https://pt.wikibooks.org/wiki/Programar_em_C%2B%2B/Vari%C3%A1veis_e_constantes)"
   ]
  },
  {
   "cell_type": "markdown",
   "metadata": {},
   "source": [
    "## Ponteiros"
   ]
  },
  {
   "cell_type": "markdown",
   "metadata": {},
   "source": [
    "[https://pt.wikibooks.org/wiki/Programar_em_C%2B%2B/Ponteiros](https://pt.wikibooks.org/wiki/Programar_em_C%2B%2B/Ponteiros)"
   ]
  },
  {
   "cell_type": "markdown",
   "metadata": {},
   "source": [
    "## Vetores"
   ]
  },
  {
   "cell_type": "markdown",
   "metadata": {},
   "source": [
    "[https://pt.wikibooks.org/wiki/Programar_em_C%2B%2B/Vetores](https://pt.wikibooks.org/wiki/Programar_em_C%2B%2B/Vetores)"
   ]
  },
  {
   "cell_type": "markdown",
   "metadata": {},
   "source": [
    "## Estruturas"
   ]
  },
  {
   "cell_type": "markdown",
   "metadata": {},
   "source": [
    "[https://pt.wikibooks.org/wiki/Programar_em_C%2B%2B/Estruturas](https://pt.wikibooks.org/wiki/Programar_em_C%2B%2B/Estruturas)"
   ]
  },
  {
   "cell_type": "markdown",
   "metadata": {},
   "source": [
    "## Operadores"
   ]
  },
  {
   "cell_type": "markdown",
   "metadata": {},
   "source": [
    "[https://pt.wikibooks.org/wiki/Programar_em_C%2B%2B/Operadores](https://pt.wikibooks.org/wiki/Programar_em_C%2B%2B/Operadores)"
   ]
  },
  {
   "cell_type": "markdown",
   "metadata": {},
   "source": [
    "## Controles de fluxo"
   ]
  },
  {
   "cell_type": "markdown",
   "metadata": {},
   "source": [
    "[https://pt.wikibooks.org/wiki/Programar_em_C%2B%2B/Decis%C3%A3o_e_controle_de_fluxo](https://pt.wikibooks.org/wiki/Programar_em_C%2B%2B/Decis%C3%A3o_e_controle_de_fluxo)\n",
    "\n",
    "[https://pt.wikibooks.org/wiki/Programar_em_C%2B%2B/Estruturas_de_repeti%C3%A7%C3%A3o](https://pt.wikibooks.org/wiki/Programar_em_C%2B%2B/Estruturas_de_repeti%C3%A7%C3%A3o)"
   ]
  },
  {
   "cell_type": "markdown",
   "metadata": {},
   "source": [
    "## Funções"
   ]
  },
  {
   "cell_type": "markdown",
   "metadata": {},
   "source": [
    "[https://pt.wikibooks.org/wiki/Programar_em_C%2B%2B/Fun%C3%A7%C3%B5es](https://pt.wikibooks.org/wiki/Programar_em_C%2B%2B/Fun%C3%A7%C3%B5es)"
   ]
  },
  {
   "cell_type": "markdown",
   "metadata": {},
   "source": [
    "## Passagem de parâmetros"
   ]
  },
  {
   "cell_type": "markdown",
   "metadata": {},
   "source": [
    "[https://pt.wikibooks.org/wiki/Programar_em_C%2B%2B/Refer%C3%AAncias_de_dados](https://pt.wikibooks.org/wiki/Programar_em_C%2B%2B/Refer%C3%AAncias_de_dados)"
   ]
  },
  {
   "cell_type": "markdown",
   "metadata": {},
   "source": [
    "## Entrada e saída"
   ]
  },
  {
   "cell_type": "markdown",
   "metadata": {},
   "source": [
    "[https://pt.wikibooks.org/wiki/Programar_em_C%2B%2B/Entrada_e_sa%C3%ADda_de_dados](https://pt.wikibooks.org/wiki/Programar_em_C%2B%2B/Entrada_e_sa%C3%ADda_de_dados)"
   ]
  },
  {
   "cell_type": "markdown",
   "metadata": {},
   "source": [
    "## Arquivos"
   ]
  },
  {
   "cell_type": "markdown",
   "metadata": {},
   "source": [
    "[https://pt.wikibooks.org/wiki/Programar_em_C%2B%2B/Entrada_e_sa%C3%ADda_de_dados_2](https://pt.wikibooks.org/wiki/Programar_em_C%2B%2B/Entrada_e_sa%C3%ADda_de_dados_2)"
   ]
  },
  {
   "cell_type": "markdown",
   "metadata": {},
   "source": [
    "## Strings"
   ]
  },
  {
   "cell_type": "markdown",
   "metadata": {},
   "source": [
    "[https://pt.wikibooks.org/wiki/Programar_em_C%2B%2B/Manipulando_strings](https://pt.wikibooks.org/wiki/Programar_em_C%2B%2B/Manipulando_strings)"
   ]
  }
 ],
 "metadata": {
  "kernelspec": {
   "display_name": "C++14",
   "language": "C++14",
   "name": "xcpp14"
  },
  "language_info": {
   "codemirror_mode": "text/x-c++src",
   "file_extension": ".cpp",
   "mimetype": "text/x-c++src",
   "name": "c++",
   "version": "14"
  }
 },
 "nbformat": 4,
 "nbformat_minor": 2
}
