{
 "cells": [
  {
   "cell_type": "markdown",
   "metadata": {},
   "source": [
    "# Lista em vetor\n",
    "\n",
    "Implementação de lista em vetor.\n",
    "\n",
    "## Índice\n",
    "\n",
    "1. **[Declarações](#Declarações)** <br>\n",
    "2. **[Exemplos](#Exemplos)** <br>\n",
    "3. **[Exercício: lista de vetores](#Exercício:-lista-de-vetores)** <br>"
   ]
  },
  {
   "cell_type": "markdown",
   "metadata": {},
   "source": [
    "## Declarações"
   ]
  },
  {
   "cell_type": "code",
   "execution_count": 1,
   "metadata": {},
   "outputs": [],
   "source": [
    "namespace structures {\n",
    "\n",
    "template<typename T>\n",
    "class ArrayList {\n",
    " public:\n",
    "    ArrayList();\n",
    "    explicit ArrayList(std::size_t max_size);\n",
    "    ~ArrayList();\n",
    "\n",
    "    void clear();\n",
    "    void push_back(const T& data);\n",
    "    void push_front(const T& data);\n",
    "    void insert(const T& data, std::size_t index);\n",
    "    void insert_sorted(const T& data);\n",
    "    T pop(std::size_t index);\n",
    "    T pop_back();\n",
    "    T pop_front();\n",
    "    void remove(const T& data);\n",
    "    bool full() const;\n",
    "    bool empty() const;\n",
    "    bool contains(const T& data) const;\n",
    "    std::size_t find(const T& data) const;\n",
    "    std::size_t size() const;\n",
    "    std::size_t max_size() const;\n",
    "    T& at(std::size_t index);\n",
    "    T& operator[](std::size_t index);\n",
    "    const T& at(std::size_t index) const;\n",
    "    const T& operator[](std::size_t index) const;\n",
    "\n",
    " private:\n",
    "    T* contents;\n",
    "    std::size_t size_;\n",
    "    std::size_t max_size_;\n",
    "\n",
    "    static const auto DEFAULT_MAX = 10u;\n",
    "};\n",
    "\n",
    "}  // namespace structures"
   ]
  },
  {
   "cell_type": "markdown",
   "metadata": {},
   "source": [
    "## Exemplos"
   ]
  },
  {
   "cell_type": "code",
   "execution_count": 2,
   "metadata": {},
   "outputs": [
    {
     "name": "stdout",
     "output_type": "stream",
     "text": [
      "lista[2]  = 27\n",
      "lista.at(2)  = 27\n",
      "lista.contains(33)  = 1\n",
      "lista.contains(77)  = 0\n",
      "lista.find(33)  = 3\n",
      "lista.find(77)  = 4\t(não achou: devolve primeiro índice positivo inválido = tamanho)\n",
      "p1 = 2\n",
      "a  = 11\n",
      "b  = 33\n",
      "p2 = 2\n",
      "c  = 27\n",
      "d  = 22\n"
     ]
    }
   ],
   "source": [
    "#include <iostream>\n",
    "#pragma cling load(\"libs/libarray_list.so\")\n",
    "\n",
    "int a, b, c, d;\n",
    "try {\n",
    "    structures::ArrayList<int> lista(5);\n",
    "    lista.push_back(11);\n",
    "    lista.push_back(22);\n",
    "    std::size_t p1 = lista.size();\n",
    "    lista.push_back(33);\n",
    "    lista.insert_sorted(27);\n",
    "    std::cout << \"lista[2]  = \" << lista[2] << std::endl;\n",
    "    std::cout << \"lista.at(2)  = \" << lista.at(2) << std::endl;\n",
    "    std::cout << \"lista.contains(33)  = \" << lista.contains(33) << std::endl;\n",
    "    std::cout << \"lista.contains(77)  = \" << lista.contains(77) << std::endl;\n",
    "    std::cout << \"lista.find(33)  = \" << lista.find(33) << std::endl;\n",
    "    std::cout << \"lista.find(77)  = \" << lista.find(77) << \"\\t(não achou: devolve primeiro índice positivo inválido = tamanho)\" << std::endl;\n",
    "    //lista.push_back(44);\n",
    "    a = lista.pop_front();\n",
    "    b = lista.pop_back();\n",
    "    std::size_t p2 = lista.size();\n",
    "    std::cout << \"p1 = \" << p1 << std::endl;\n",
    "    std::cout << \"a  = \" << a << std::endl;\n",
    "    std::cout << \"b  = \" << b << std::endl;\n",
    "    std::cout << \"p2 = \" << p2 << std::endl;\n",
    "    c = lista.pop_back();\n",
    "    d = lista.pop_front();\n",
    "    std::cout << \"c  = \" << c << std::endl;\n",
    "    std::cout << \"d  = \" << d << std::endl;\n",
    "} catch (std::exception const& ex) {\n",
    "    std::cerr << \"Exception: \" << ex.what() << std::endl;\n",
    "}"
   ]
  },
  {
   "cell_type": "markdown",
   "metadata": {},
   "source": [
    "![Lista em vetor](figs/lista-em-vetor.png)"
   ]
  },
  {
   "cell_type": "markdown",
   "metadata": {},
   "source": [
    "## Exercício: lista de vetores"
   ]
  },
  {
   "cell_type": "code",
   "execution_count": 3,
   "metadata": {},
   "outputs": [],
   "source": [
    "const int H = 4, W = 7;"
   ]
  },
  {
   "cell_type": "code",
   "execution_count": 4,
   "metadata": {},
   "outputs": [],
   "source": [
    "structures::ArrayList<int*> *lista_vetores(int matriz[H][W]) {\n",
    "    structures::ArrayList<int*> *lista = new structures::ArrayList<int*>(H);\n",
    "    for (int i=0; i < H; i++) {\n",
    "        int *vetor = new int(W);\n",
    "        for (int j=0; j < W; j++) {\n",
    "            vetor[j] = matriz[i][j];\n",
    "        }\n",
    "        //lista->push_back(1);\n",
    "    }\n",
    "    return lista;\n",
    "}"
   ]
  },
  {
   "cell_type": "code",
   "execution_count": 5,
   "metadata": {},
   "outputs": [
    {
     "name": "stderr",
     "output_type": "stream",
     "text": [
      "IncrementalExecutor::executeFunction: symbol '_ZN10structures9ArrayListIfED1Ev' unresolved while linking function '_GLOBAL__sub_I_cling_module_10'!\n",
      "You are probably missing the definition of structures::ArrayList<float>::~ArrayList()\n",
      "Maybe you need to load the corresponding shared library?\n",
      "IncrementalExecutor::executeFunction: symbol '_ZN10structures9ArrayListIfEC1Em' unresolved while linking function '_GLOBAL__sub_I_cling_module_10'!\n",
      "You are probably missing the definition of structures::ArrayList<float>::ArrayList(unsigned long)\n",
      "Maybe you need to load the corresponding shared library?\n",
      "IncrementalExecutor::executeFunction: symbol '_ZN10structures9ArrayListIfE9push_backERKf' unresolved while linking function '_GLOBAL__sub_I_cling_module_10'!\n",
      "You are probably missing the definition of structures::ArrayList<float>::push_back(float const&)\n",
      "Maybe you need to load the corresponding shared library?\n"
     ]
    }
   ],
   "source": [
    "#include <iostream>\n",
    "#pragma cling load(\"libs/libarray_list.so\")\n",
    "\n",
    "int mat[H][W] = {{0,0,0,0,1,0,0},{0,2,0,0,0,0,0},{0,0,0,0,0,0,0},{3,0,0,0,4,0,0}};\n",
    "structures::ArrayList<int*> *lv;\n",
    "// structures::ArrayList<int *> *lv = new structures::ArrayList<int *>(H);\n",
    "// lv = lista_vetores(mat);\n",
    "// int *v = new int(10);\n",
    "lv = lista_vetores(mat);"
   ]
  },
  {
   "cell_type": "code",
   "execution_count": null,
   "metadata": {},
   "outputs": [],
   "source": []
  }
 ],
 "metadata": {
  "kernelspec": {
   "display_name": "C++14",
   "language": "C++14",
   "name": "xcpp14"
  },
  "language_info": {
   "codemirror_mode": "text/x-c++src",
   "file_extension": ".cpp",
   "mimetype": "text/x-c++src",
   "name": "c++",
   "version": "14"
  }
 },
 "nbformat": 4,
 "nbformat_minor": 2
}
