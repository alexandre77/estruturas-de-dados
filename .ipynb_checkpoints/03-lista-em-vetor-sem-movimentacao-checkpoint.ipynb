{
 "cells": [
  {
   "cell_type": "markdown",
   "metadata": {},
   "source": [
    "# Lista em vetor (sem movimentação de dados)\n",
    "\n",
    "Implementação de lista em vetor.\n",
    "\n",
    "## Índice\n",
    "\n",
    "1. **[Declarações](#Declarações)** <br>\n",
    "2. **[Exemplos](#Exemplos)** <br>\n",
    "3. **[Avaliação de desempenho](#Avaliação-de-desempenho)** <br>"
   ]
  },
  {
   "cell_type": "markdown",
   "metadata": {},
   "source": [
    "## Declarações"
   ]
  },
  {
   "cell_type": "code",
   "execution_count": 1,
   "metadata": {},
   "outputs": [],
   "source": [
    "template <typename T>\n",
    "struct ListElement{\n",
    "    int nextIndex;  // id do proximo objeto da lista\n",
    "    T object;  // objeto da lista\n",
    "};\n",
    "\n",
    "namespace structures2 {\n",
    "\n",
    "template<typename T>\n",
    "class ArrayList {\n",
    " public:\n",
    "    ArrayList();\n",
    "    explicit ArrayList(std::size_t max_size);\n",
    "    ~ArrayList();\n",
    "    void clear();\n",
    "    void push_back(const T& data);\n",
    "    void push_front(const T& data);\n",
    "    void insert(const T& data, std::size_t index);\n",
    "    void insert_sorted(const T& data);\n",
    "    T pop(std::size_t index);\n",
    "    T pop_back();\n",
    "    T pop_front();\n",
    "    void remove(const T& data);\n",
    "    bool full() const;\n",
    "    bool empty() const;\n",
    "    bool contains(const T& data) const;\n",
    "    std::size_t find(const T& data) const;\n",
    "    std::size_t size() const;\n",
    "    std::size_t max_size() const;\n",
    "    T& at(std::size_t index);\n",
    "    T& operator[](std::size_t index);\n",
    "    const T& at(std::size_t index) const;\n",
    "    const T& operator[](std::size_t index) const;\n",
    "\n",
    " private:\n",
    "    ListElement<T>* contents;\n",
    "    int _first_list, _first_open;\n",
    "    std::size_t size_;\n",
    "    std::size_t max_size_;\n",
    "    static const auto DEFAULT_MAX = 10u;\n",
    "};\n",
    "\n",
    "}  // namespace structures2"
   ]
  },
  {
   "cell_type": "markdown",
   "metadata": {},
   "source": [
    "## Exemplos"
   ]
  },
  {
   "cell_type": "code",
   "execution_count": 2,
   "metadata": {},
   "outputs": [],
   "source": [
    "#include <iostream>\n",
    "#pragma cling load(\"libs/libarray_list2.so\")\n",
    "\n",
    "structures2::ArrayList<int> lista(5);\n",
    "\n",
    "lista.push_back(11);\n",
    "lista.push_back(22);\n",
    "lista.push_back(33);\n",
    "lista.insert_sorted(27);"
   ]
  },
  {
   "cell_type": "markdown",
   "metadata": {},
   "source": [
    "![Lista em vetor](figs/lista-em-vetor-2a.png)"
   ]
  },
  {
   "cell_type": "code",
   "execution_count": 3,
   "metadata": {},
   "outputs": [
    {
     "name": "stdout",
     "output_type": "stream",
     "text": [
      "11 33 27 22\n"
     ]
    }
   ],
   "source": [
    "int a, b, c, d;\n",
    "a = lista.pop_front();\n",
    "b = lista.pop_back();\n",
    "c = lista.pop_back();\n",
    "d = lista.pop_front();\n",
    "std::cout << a << ' ' << b << ' ' << c << ' ' << d << std::endl;"
   ]
  },
  {
   "cell_type": "markdown",
   "metadata": {},
   "source": [
    "![Lista em vetor](figs/lista-em-vetor-2b.png)"
   ]
  },
  {
   "cell_type": "markdown",
   "metadata": {},
   "source": [
    "## Avaliação de desempenho"
   ]
  },
  {
   "cell_type": "code",
   "execution_count": 4,
   "metadata": {},
   "outputs": [],
   "source": [
    "namespace structures {\n",
    "\n",
    "template<typename T>\n",
    "class ArrayList {\n",
    " public:\n",
    "    ArrayList();\n",
    "    explicit ArrayList(std::size_t max_size);\n",
    "    ~ArrayList();\n",
    "\n",
    "    void clear();\n",
    "    void push_back(const T& data);\n",
    "    void push_front(const T& data);\n",
    "    void insert(const T& data, std::size_t index);\n",
    "    void insert_sorted(const T& data);\n",
    "    T pop(std::size_t index);\n",
    "    T pop_back();\n",
    "    T pop_front();\n",
    "    void remove(const T& data);\n",
    "    bool full() const;\n",
    "    bool empty() const;\n",
    "    bool contains(const T& data) const;\n",
    "    std::size_t find(const T& data) const;\n",
    "    std::size_t size() const;\n",
    "    std::size_t max_size() const;\n",
    "    T& at(std::size_t index);\n",
    "    T& operator[](std::size_t index);\n",
    "    const T& at(std::size_t index) const;\n",
    "    const T& operator[](std::size_t index) const;\n",
    "\n",
    " private:\n",
    "    T* contents;\n",
    "    std::size_t size_;\n",
    "    std::size_t max_size_;\n",
    "\n",
    "    static const auto DEFAULT_MAX = 10u;\n",
    "};\n",
    "\n",
    "}  // namespace structures"
   ]
  },
  {
   "cell_type": "code",
   "execution_count": 5,
   "metadata": {},
   "outputs": [
    {
     "name": "stdout",
     "output_type": "stream",
     "text": [
      "1000\n",
      "0\n"
     ]
    }
   ],
   "source": [
    "#pragma cling load(\"libs/libarray_list.so\")\n",
    "#include <ctime>\n",
    "const int TAM = 1000;\n",
    "\n",
    "clock_t t0 = clock();\n",
    "\n",
    "structures::ArrayList<int> lista_v1(TAM);  // namespace structures\n",
    "for (int i=0; i<TAM; i++) {\n",
    "    lista_v1.push_front(i);\n",
    "}\n",
    "std::cout << lista_v1.size() << std::endl;\n",
    "\n",
    "for (int i=0; i<TAM; i++) {\n",
    "    lista_v1.pop_front();\n",
    "}\n",
    "std::cout << lista_v1.size() << std::endl;\n",
    "\n",
    "float tempo_v1 = float(clock() - t0) /  CLOCKS_PER_SEC;"
   ]
  },
  {
   "cell_type": "code",
   "execution_count": 6,
   "metadata": {},
   "outputs": [
    {
     "name": "stdout",
     "output_type": "stream",
     "text": [
      "1000\n",
      "0\n"
     ]
    }
   ],
   "source": [
    "t0 = clock();\n",
    "\n",
    "structures2::ArrayList<int> lista_v2(TAM);  // namespace structures2\n",
    "for (int i=0; i<TAM; i++) {\n",
    "    lista_v2.push_front(i);\n",
    "}\n",
    "std::cout << lista_v2.size() << std::endl;\n",
    "\n",
    "for (int i=0; i<TAM; i++) {\n",
    "    lista_v2.pop_front();\n",
    "}\n",
    "std::cout << lista_v2.size() << std::endl;\n",
    "\n",
    "float tempo_v2 = float(clock() - t0) /  CLOCKS_PER_SEC;"
   ]
  },
  {
   "cell_type": "code",
   "execution_count": 7,
   "metadata": {},
   "outputs": [
    {
     "name": "stdout",
     "output_type": "stream",
     "text": [
      "Tempo COM movimentação de dados: 0.0068\n",
      "Tempo SEM movimentação de dados: 0.000475\n",
      "Diferença percentual: 93.0147%"
     ]
    }
   ],
   "source": [
    "std::cout << \"Tempo COM movimentação de dados: \" << tempo_v1 << std::endl;\n",
    "std::cout << \"Tempo SEM movimentação de dados: \" << tempo_v2 << std::endl;\n",
    "std::cout << \"Diferença percentual: \" << 100 * (tempo_v1 - tempo_v2) / tempo_v1 << \"%\";"
   ]
  },
  {
   "cell_type": "code",
   "execution_count": null,
   "metadata": {},
   "outputs": [],
   "source": []
  }
 ],
 "metadata": {
  "kernelspec": {
   "display_name": "C++14",
   "language": "C++14",
   "name": "xcpp14"
  },
  "language_info": {
   "codemirror_mode": "text/x-c++src",
   "file_extension": ".cpp",
   "mimetype": "text/x-c++src",
   "name": "c++",
   "version": "14"
  }
 },
 "nbformat": 4,
 "nbformat_minor": 2
}
