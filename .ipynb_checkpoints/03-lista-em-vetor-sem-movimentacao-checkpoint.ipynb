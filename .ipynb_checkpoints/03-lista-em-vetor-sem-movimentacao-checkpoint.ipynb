{
 "cells": [
  {
   "cell_type": "markdown",
   "metadata": {},
   "source": [
    "# Lista em vetor (sem movimentação de dados)\n",
    "\n",
    "Implementação de lista em vetor.\n",
    "\n",
    "## Índice\n",
    "\n",
    "1. **[Declarações](#Declarações)** <br>\n",
    "2. **[Exemplos](#Exemplos)** <br>"
   ]
  },
  {
   "cell_type": "markdown",
   "metadata": {},
   "source": [
    "## Declarações"
   ]
  },
  {
   "cell_type": "code",
   "execution_count": 1,
   "metadata": {},
   "outputs": [],
   "source": [
    "template <typename T>\n",
    "struct ListElement{\n",
    "    int nextIndex;  // id do proximo objeto da lista\n",
    "    T object;  // objeto da lista\n",
    "};\n",
    "\n",
    "namespace structures2 {\n",
    "\n",
    "template<typename T>\n",
    "class ArrayList {\n",
    " public:\n",
    "    ArrayList();\n",
    "    explicit ArrayList(std::size_t max_size);\n",
    "    ~ArrayList();\n",
    "    void clear();\n",
    "    void push_back(const T& data);\n",
    "    void push_front(const T& data);\n",
    "    void insert(const T& data, std::size_t index);\n",
    "    void insert_sorted(const T& data);\n",
    "    T pop(std::size_t index);\n",
    "    T pop_back();\n",
    "    T pop_front();\n",
    "    void remove(const T& data);\n",
    "    bool full() const;\n",
    "    bool empty() const;\n",
    "    bool contains(const T& data) const;\n",
    "    std::size_t find(const T& data) const;\n",
    "    std::size_t size() const;\n",
    "    std::size_t max_size() const;\n",
    "    T& at(std::size_t index);\n",
    "    T& operator[](std::size_t index);\n",
    "    const T& at(std::size_t index) const;\n",
    "    const T& operator[](std::size_t index) const;\n",
    "\n",
    " private:\n",
    "    ListElement<T>* contents;\n",
    "    int _first_list, _first_open;\n",
    "    std::size_t size_;\n",
    "    std::size_t max_size_;\n",
    "    static const auto DEFAULT_MAX = 10u;\n",
    "};\n",
    "\n",
    "}  // namespace structures2"
   ]
  },
  {
   "cell_type": "markdown",
   "metadata": {},
   "source": [
    "## Exemplos"
   ]
  },
  {
   "cell_type": "code",
   "execution_count": 2,
   "metadata": {},
   "outputs": [],
   "source": [
    "#include <iostream>\n",
    "#pragma cling load(\"libs/libarray_list2.so\")\n",
    "\n",
    "structures2::ArrayList<int> lista(5);\n",
    "lista.push_back(11);\n",
    "lista.push_back(22);\n",
    "lista.push_back(33);\n",
    "lista.insert_sorted(27);"
   ]
  },
  {
   "cell_type": "markdown",
   "metadata": {},
   "source": [
    "![Lista em vetor](figs/lista-em-vetor-2a.png)"
   ]
  },
  {
   "cell_type": "code",
   "execution_count": 3,
   "metadata": {},
   "outputs": [
    {
     "name": "stderr",
     "output_type": "stream",
     "text": [
      "\u001b[1minput_line_10:2:2: \u001b[0m\u001b[0;1;31merror: \u001b[0m\u001b[1muse of undeclared identifier 'a'\u001b[0m\n",
      " a = lista.pop_front();\n",
      "\u001b[0;1;32m ^\n",
      "\u001b[0m\u001b[1minput_line_10:3:1: \u001b[0m\u001b[0;1;31merror: \u001b[0m\u001b[1muse of undeclared identifier 'b'\u001b[0m\n",
      "b = lista.pop_back();\n",
      "\u001b[0;1;32m^\n",
      "\u001b[0m\u001b[1minput_line_10:4:1: \u001b[0m\u001b[0;1;31merror: \u001b[0m\u001b[1muse of undeclared identifier 'c'\u001b[0m\n",
      "c = lista.pop_back();\n",
      "\u001b[0;1;32m^\n",
      "\u001b[0m\u001b[1minput_line_10:5:1: \u001b[0m\u001b[0;1;31merror: \u001b[0m\u001b[1muse of undeclared identifier 'd'\u001b[0m\n",
      "d = lista.pop_front();\n",
      "\u001b[0;1;32m^\n",
      "\u001b[0m\u001b[1minput_line_10:6:14: \u001b[0m\u001b[0;1;31merror: \u001b[0m\u001b[1muse of undeclared identifier 'a'\u001b[0m\n",
      "std::cout << a << ' ' << b << ' ' << c << ' ' << d << std::endl;\n",
      "\u001b[0;1;32m             ^\n",
      "\u001b[0m\u001b[1minput_line_10:6:26: \u001b[0m\u001b[0;1;31merror: \u001b[0m\u001b[1muse of undeclared identifier 'b'\u001b[0m\n",
      "std::cout << a << ' ' << b << ' ' << c << ' ' << d << std::endl;\n",
      "\u001b[0;1;32m                         ^\n",
      "\u001b[0m\u001b[1minput_line_10:6:38: \u001b[0m\u001b[0;1;31merror: \u001b[0m\u001b[1muse of undeclared identifier 'c'\u001b[0m\n",
      "std::cout << a << ' ' << b << ' ' << c << ' ' << d << std::endl;\n",
      "\u001b[0;1;32m                                     ^\n",
      "\u001b[0m\u001b[1minput_line_10:6:50: \u001b[0m\u001b[0;1;31merror: \u001b[0m\u001b[1muse of undeclared identifier 'd'\u001b[0m\n",
      "std::cout << a << ' ' << b << ' ' << c << ' ' << d << std::endl;\n",
      "\u001b[0;1;32m                                                 ^\n",
      "\u001b[0m"
     ]
    },
    {
     "ename": "Interpreter Error",
     "evalue": "",
     "output_type": "error",
     "traceback": [
      "Interpreter Error: "
     ]
    }
   ],
   "source": [
    "int a, b, c, d;\n",
    "a = lista.pop_front();\n",
    "b = lista.pop_back();\n",
    "c = lista.pop_back();\n",
    "d = lista.pop_front();\n",
    "std::cout << a << ' ' << b << ' ' << c << ' ' << d << std::endl;"
   ]
  },
  {
   "cell_type": "markdown",
   "metadata": {},
   "source": [
    "![Lista em vetor](figs/lista-em-vetor-2b.png)"
   ]
  },
  {
   "cell_type": "code",
   "execution_count": null,
   "metadata": {},
   "outputs": [],
   "source": []
  }
 ],
 "metadata": {
  "kernelspec": {
   "display_name": "C++14",
   "language": "C++14",
   "name": "xcpp14"
  },
  "language_info": {
   "codemirror_mode": "text/x-c++src",
   "file_extension": ".cpp",
   "mimetype": "text/x-c++src",
   "name": "c++",
   "version": "14"
  }
 },
 "nbformat": 4,
 "nbformat_minor": 2
}
