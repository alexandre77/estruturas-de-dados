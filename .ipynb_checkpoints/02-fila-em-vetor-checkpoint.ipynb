{
 "cells": [
  {
   "cell_type": "markdown",
   "metadata": {},
   "source": [
    "# Fila em vetor\n",
    "\n",
    "Implementação de fila em vetor.\n",
    "\n",
    "## Índice\n",
    "\n",
    "1. **[Declarações](#Declarações)** <br>\n",
    "2. **[Exemplos](#Exemplos)** <br>\n",
    "3. **[Exercício: fura fila](#Exercício:-fura-fila)** <br>"
   ]
  },
  {
   "cell_type": "markdown",
   "metadata": {},
   "source": [
    "## Declarações"
   ]
  },
  {
   "cell_type": "code",
   "execution_count": 1,
   "metadata": {},
   "outputs": [],
   "source": [
    "// Copyright [2020] Alexandre G. Silva\n",
    "\n",
    "namespace structures {\n",
    "\n",
    "template<typename T>\n",
    "//! classe ArrayQueue\n",
    "class ArrayQueue {\n",
    " public:\n",
    "    //! construtor padrao\n",
    "    ArrayQueue();\n",
    "    //! construtor com parametro\n",
    "    explicit ArrayQueue(std::size_t max);\n",
    "    //! destrutor padrao\n",
    "    ~ArrayQueue();\n",
    "    //! metodo enfileirar\n",
    "    void enqueue(const T& data);\n",
    "    //! metodo desenfileirar\n",
    "    T dequeue();\n",
    "    //! metodo retorna o ultimo\n",
    "    T& back();\n",
    "    //! metodo limpa a fila\n",
    "    void clear();\n",
    "    //! metodo retorna tamanho atual\n",
    "    std::size_t size();\n",
    "    //! metodo retorna tamanho maximo\n",
    "    std::size_t max_size();\n",
    "    //! metodo verifica se vazio\n",
    "    bool empty();\n",
    "    //! metodo verifica se esta cheio\n",
    "    bool full();\n",
    "\n",
    " private:\n",
    "    T* contents;\n",
    "    std::size_t size_;\n",
    "    std::size_t max_size_;\n",
    "    int begin_;  // indice do inicio (para fila circular)\n",
    "    int end_;  // indice do fim (para fila circular)\n",
    "    static const auto DEFAULT_SIZE = 10u;\n",
    "};\n",
    "\n",
    "}  // namespace structures"
   ]
  },
  {
   "cell_type": "markdown",
   "metadata": {},
   "source": [
    "## Exemplos"
   ]
  },
  {
   "cell_type": "code",
   "execution_count": 2,
   "metadata": {},
   "outputs": [
    {
     "name": "stdout",
     "output_type": "stream",
     "text": [
      "11\n",
      "22\n",
      "33\n"
     ]
    }
   ],
   "source": [
    "#include <iostream>\n",
    "#pragma cling load(\"libs/libarray_queue.so\")\n",
    "\n",
    "structures::ArrayQueue<int> fila(5);\n",
    "fila.enqueue(11);\n",
    "fila.enqueue(22);\n",
    "fila.enqueue(33);\n",
    "fila.enqueue(44);\n",
    "fila.enqueue(55);\n",
    "std::cout << fila.dequeue() << std::endl;\n",
    "std::cout << fila.dequeue() << std::endl;\n",
    "std::cout << fila.dequeue() << std::endl;\n",
    "fila.enqueue(66);\n",
    "fila.enqueue(77);"
   ]
  },
  {
   "cell_type": "markdown",
   "metadata": {},
   "source": [
    "![Fila em vetor](figs/fila-em-vetor.png)"
   ]
  },
  {
   "cell_type": "markdown",
   "metadata": {},
   "source": [
    "## Exercício: fura fila"
   ]
  },
  {
   "cell_type": "markdown",
   "metadata": {},
   "source": [
    "Considerando a fila em vetor (circular) acima, implemente uma funcionalidade de aplicação (sem alterar a classe `ArrayQueue`) para a inserção de um `novo` elemento (inteiro) no início da fila (de modo que tenha a mais alta prioridade de atendimento)."
   ]
  },
  {
   "cell_type": "code",
   "execution_count": 3,
   "metadata": {},
   "outputs": [],
   "source": [
    "void fura_fila(structures::ArrayQueue<int>& fila, int novo) {\n",
    "    int aux;\n",
    "    structures::ArrayQueue<int> fila_aux(fila.max_size());\n",
    "    while (!fila.empty()) {  // passa todos para uma fila auxiliar\n",
    "        aux = fila.dequeue();\n",
    "        fila_aux.enqueue(aux);\n",
    "    }\n",
    "    fila.enqueue(novo);  // insere novo na fila original\n",
    "    while (!fila_aux.empty()) {  // recompoe fila com elementos originais\n",
    "        aux = fila_aux.dequeue();\n",
    "        fila.enqueue(aux);\n",
    "    }    \n",
    "}"
   ]
  },
  {
   "cell_type": "code",
   "execution_count": 4,
   "metadata": {},
   "outputs": [
    {
     "name": "stdout",
     "output_type": "stream",
     "text": [
      "77\n",
      "11\n"
     ]
    }
   ],
   "source": [
    "structures::ArrayQueue<int> fila_prioridade(5);\n",
    "fila_prioridade.enqueue(11);\n",
    "fila_prioridade.enqueue(22);\n",
    "fila_prioridade.enqueue(33);\n",
    "fura_fila(fila_prioridade, 77);\n",
    "std::cout << fila_prioridade.dequeue() << std::endl;\n",
    "std::cout << fila_prioridade.dequeue() << std::endl;"
   ]
  },
  {
   "cell_type": "code",
   "execution_count": null,
   "metadata": {},
   "outputs": [],
   "source": []
  }
 ],
 "metadata": {
  "kernelspec": {
   "display_name": "C++14",
   "language": "C++14",
   "name": "xcpp14"
  },
  "language_info": {
   "codemirror_mode": "text/x-c++src",
   "file_extension": ".cpp",
   "mimetype": "text/x-c++src",
   "name": "c++",
   "version": "14"
  }
 },
 "nbformat": 4,
 "nbformat_minor": 2
}
