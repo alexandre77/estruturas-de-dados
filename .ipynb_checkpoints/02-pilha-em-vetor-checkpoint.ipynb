{
 "cells": [
  {
   "cell_type": "markdown",
   "metadata": {},
   "source": [
    "# Pilha em vetor\n",
    "\n",
    "Implementação de pilha em vetor."
   ]
  },
  {
   "cell_type": "code",
   "execution_count": 1,
   "metadata": {},
   "outputs": [],
   "source": [
    "// Copyright [2019] <COLOQUE SEU NOME AQUI...>\n",
    "\n",
    "namespace structures {\n",
    "\n",
    "template<typename T>\n",
    "//! CLASSE PILHA\n",
    "class ArrayStack {\n",
    " public:\n",
    "    //! construtor simples\n",
    "    ArrayStack();\n",
    "    //! construtor com parametro tamanho\n",
    "    explicit ArrayStack(std::size_t max);\n",
    "    //! destrutor\n",
    "    ~ArrayStack();\n",
    "    //! metodo empilha\n",
    "    void push(const T& data);\n",
    "    //! metodo desempilha\n",
    "    T pop();\n",
    "    //! metodo retorna o topo\n",
    "    T& top();\n",
    "    //! metodo limpa pilha\n",
    "    void clear();\n",
    "    //! metodo retorna tamanho\n",
    "    std::size_t size();\n",
    "    //! metodo retorna capacidade maxima\n",
    "    std::size_t max_size();\n",
    "    //! verifica se esta vazia\n",
    "    bool empty();\n",
    "    //! verifica se esta cheia\n",
    "    bool full();\n",
    "\n",
    " private:\n",
    "    T* contents;\n",
    "    int top_;\n",
    "    std::size_t max_size_;\n",
    "\n",
    "    static const auto DEFAULT_SIZE = 10u;\n",
    "};\n",
    "\n",
    "}  // namespace structures"
   ]
  },
  {
   "cell_type": "markdown",
   "metadata": {},
   "source": [
    "### Construtor (padrão)"
   ]
  },
  {
   "cell_type": "code",
   "execution_count": 2,
   "metadata": {},
   "outputs": [],
   "source": [
    "template<typename T>\n",
    "structures::ArrayStack<T>::ArrayStack() {\n",
    "    ArrayStack(DEFAULT_SIZE);\n",
    "}"
   ]
  },
  {
   "cell_type": "markdown",
   "metadata": {},
   "source": [
    "### Construtor (alternativo com parâmetros)"
   ]
  },
  {
   "cell_type": "code",
   "execution_count": 3,
   "metadata": {},
   "outputs": [],
   "source": [
    "template<typename T>\n",
    "structures::ArrayStack<T>::ArrayStack(std::size_t max) {\n",
    "    max_size_ = max;\n",
    "    contents = new T[max_size_];\n",
    "    top_ = -1;\n",
    "}"
   ]
  },
  {
   "cell_type": "markdown",
   "metadata": {},
   "source": [
    "### Destrutor\n",
    "\n",
    "O programador é responsável por desalocar toda a área de memória ocupada pelo objeto que foi alocada dinamicamente."
   ]
  },
  {
   "cell_type": "code",
   "execution_count": 4,
   "metadata": {},
   "outputs": [],
   "source": [
    "template<typename T>\n",
    "structures::ArrayStack<T>::~ArrayStack() {\n",
    "    delete [] contents;\n",
    "}"
   ]
  },
  {
   "cell_type": "markdown",
   "metadata": {},
   "source": [
    "### Empilha"
   ]
  },
  {
   "cell_type": "code",
   "execution_count": 5,
   "metadata": {},
   "outputs": [],
   "source": [
    "template<typename T>\n",
    "void structures::ArrayStack<T>::push(const T& data) {\n",
    "    if (full())\n",
    "        throw std::out_of_range(\"pilha cheia\");\n",
    "    top_++;\n",
    "    contents[top_] = data;\n",
    "}"
   ]
  },
  {
   "cell_type": "markdown",
   "metadata": {},
   "source": [
    "### Desempilha"
   ]
  },
  {
   "cell_type": "code",
   "execution_count": 6,
   "metadata": {},
   "outputs": [],
   "source": [
    "template<typename T>\n",
    "T structures::ArrayStack<T>::pop() {\n",
    "    if (empty())\n",
    "        throw std::out_of_range(\"pilha vazia\");\n",
    "    T aux;\n",
    "    aux = contents[top_];\n",
    "    top_--;\n",
    "    return aux;\n",
    "}"
   ]
  },
  {
   "cell_type": "markdown",
   "metadata": {},
   "source": [
    "### Consulta o topo"
   ]
  },
  {
   "cell_type": "code",
   "execution_count": 7,
   "metadata": {},
   "outputs": [],
   "source": [
    "template<typename T>\n",
    "T& structures::ArrayStack<T>::top() {\n",
    "    if (empty())\n",
    "        throw std::out_of_range(\"pilha vazia\");\n",
    "    return contents[top_];\n",
    "}"
   ]
  },
  {
   "cell_type": "markdown",
   "metadata": {},
   "source": [
    "### Limpa a pilha"
   ]
  },
  {
   "cell_type": "code",
   "execution_count": 8,
   "metadata": {},
   "outputs": [],
   "source": [
    "template<typename T>\n",
    "void structures::ArrayStack<T>::clear() {\n",
    "    top_ = -1;\n",
    "}"
   ]
  },
  {
   "cell_type": "markdown",
   "metadata": {},
   "source": [
    "### Quantidade de elementos"
   ]
  },
  {
   "cell_type": "code",
   "execution_count": 9,
   "metadata": {},
   "outputs": [],
   "source": [
    "template<typename T>\n",
    "std::size_t structures::ArrayStack<T>::size() {\n",
    "    return top_ + 1;\n",
    "}"
   ]
  },
  {
   "cell_type": "markdown",
   "metadata": {},
   "source": [
    "### Consulta o tamanho do vetor"
   ]
  },
  {
   "cell_type": "code",
   "execution_count": 10,
   "metadata": {},
   "outputs": [],
   "source": [
    "template<typename T>\n",
    "std::size_t structures::ArrayStack<T>::max_size() {\n",
    "    return max_size_;\n",
    "}"
   ]
  },
  {
   "cell_type": "markdown",
   "metadata": {},
   "source": [
    "### Verifica se pilha vazia"
   ]
  },
  {
   "cell_type": "code",
   "execution_count": 11,
   "metadata": {},
   "outputs": [],
   "source": [
    "template<typename T>\n",
    "bool structures::ArrayStack<T>::empty() {\n",
    "    return (top_ == -1);\n",
    "}"
   ]
  },
  {
   "cell_type": "markdown",
   "metadata": {},
   "source": [
    "### Verifica se pilha cheia"
   ]
  },
  {
   "cell_type": "code",
   "execution_count": 12,
   "metadata": {},
   "outputs": [],
   "source": [
    "template<typename T>\n",
    "bool structures::ArrayStack<T>::full() {\n",
    "    return (top_ == max_size()-1);\n",
    "}"
   ]
  },
  {
   "cell_type": "markdown",
   "metadata": {},
   "source": [
    "## Teste do 'push' e 'size'\n",
    "\n",
    "Empilhando 5 inteiros (10, 20, 30, 40 e 50), e mostrando o tamanho final da pilha."
   ]
  },
  {
   "cell_type": "code",
   "execution_count": 13,
   "metadata": {},
   "outputs": [
    {
     "name": "stdout",
     "output_type": "stream",
     "text": [
      "5\n"
     ]
    }
   ],
   "source": [
    "#include <iostream>\n",
    "using namespace structures;\n",
    "ArrayStack<int> p(10);\n",
    "\n",
    "for (int i=10; i<=50; i=i+10) {\n",
    "    p.push(i);\n",
    "}\n",
    "\n",
    "std::cout << p.size() << std::endl;"
   ]
  },
  {
   "cell_type": "markdown",
   "metadata": {},
   "source": [
    "![Pilha em vetor](figs/pilha-em-vetor.svg)\n",
    "\n",
    "[Visualização da execução no C++ Tutor](http://pythontutor.com/cpp.html#code=//%20Copyright%20%5B2019%5D%20%3CCOLOQUE%20SEU%20NOME%20AQUI...%3E%0A%23ifndef%20STRUCTURES_ARRAY_STACK_H%0A%23define%20STRUCTURES_ARRAY_STACK_H%0A%0A%23include%20%3Ccstdint%3E%20%20//%20std%3A%3Asize_t%0A%23include%20%3Cstdexcept%3E%20%20//%20C%2B%2B%20exceptions%0A%0Anamespace%20structures%20%7B%0A%0Atemplate%3Ctypename%20T%3E%0A//!%20CLASSE%20PILHA%0Aclass%20ArrayStack%20%7B%0A%20public%3A%0A%20%20%20%20//!%20construtor%20simples%0A%20%20%20%20ArrayStack%28%29%3B%0A%20%20%20%20//!%20construtor%20com%20parametro%20tamanho%0A%20%20%20%20explicit%20ArrayStack%28std%3A%3Asize_t%20max%29%3B%0A%20%20%20%20//!%20destrutor%0A%20%20%20%20~ArrayStack%28%29%3B%0A%20%20%20%20//!%20metodo%20empilha%0A%20%20%20%20void%20push%28const%20T%26%20data%29%3B%0A%20%20%20%20//!%20metodo%20desempilha%0A%20%20%20%20T%20pop%28%29%3B%0A%20%20%20%20//!%20metodo%20retorna%20o%20topo%0A%20%20%20%20T%26%20top%28%29%3B%0A%20%20%20%20//!%20metodo%20limpa%20pilha%0A%20%20%20%20void%20clear%28%29%3B%0A%20%20%20%20//!%20metodo%20retorna%20tamanho%0A%20%20%20%20std%3A%3Asize_t%20size%28%29%3B%0A%20%20%20%20//!%20metodo%20retorna%20capacidade%20maxima%0A%20%20%20%20std%3A%3Asize_t%20max_size%28%29%3B%0A%20%20%20%20//!%20verifica%20se%20esta%20vazia%0A%20%20%20%20bool%20empty%28%29%3B%0A%20%20%20%20//!%20verifica%20se%20esta%20cheia%0A%20%20%20%20bool%20full%28%29%3B%0A%0A%20private%3A%0A%20%20%20%20T*%20contents%3B%0A%20%20%20%20int%20top_%3B%0A%20%20%20%20std%3A%3Asize_t%20max_size_%3B%0A%0A%20%20%20%20static%20const%20auto%20DEFAULT_SIZE%20%3D%2010u%3B%0A%7D%3B%0A%0A%7D%20%20//%20namespace%20structures%0A%0A%23endif%0A%0A//-----------------------------------------------------------------------------%0A%0Atemplate%3Ctypename%20T%3E%0Astructures%3A%3AArrayStack%3CT%3E%3A%3AArrayStack%28%29%20%7B%0A%20%20%20%20ArrayStack%28DEFAULT_SIZE%29%3B%0A%7D%0A%0Atemplate%3Ctypename%20T%3E%0Astructures%3A%3AArrayStack%3CT%3E%3A%3AArrayStack%28std%3A%3Asize_t%20max%29%20%7B%0A%20%20%20%20max_size_%20%3D%20max%3B%0A%20%20%20%20contents%20%3D%20new%20T%5Bmax_size_%5D%3B%0A%20%20%20%20top_%20%3D%20-1%3B%0A%7D%0A%0Atemplate%3Ctypename%20T%3E%0Astructures%3A%3AArrayStack%3CT%3E%3A%3A~ArrayStack%28%29%20%7B%0A%20%20%20%20delete%20%5B%5D%20contents%3B%0A%7D%0A%0Atemplate%3Ctypename%20T%3E%0Avoid%20structures%3A%3AArrayStack%3CT%3E%3A%3Apush%28const%20T%26%20data%29%20%7B%0A%20%20%20%20if%20%28full%28%29%29%0A%20%20%20%20%20%20%20%20throw%20std%3A%3Aout_of_range%28%22pilha%20cheia%22%29%3B%0A%20%20%20%20top_%2B%2B%3B%0A%20%20%20%20contents%5Btop_%5D%20%3D%20data%3B%0A%7D%0A%0Atemplate%3Ctypename%20T%3E%0AT%20structures%3A%3AArrayStack%3CT%3E%3A%3Apop%28%29%20%7B%0A%20%20%20%20if%20%28empty%28%29%29%0A%20%20%20%20%20%20%20%20throw%20std%3A%3Aout_of_range%28%22pilha%20vazia%22%29%3B%0A%20%20%20%20T%20aux%3B%0A%20%20%20%20aux%20%3D%20contents%5Btop_%5D%3B%0A%20%20%20%20top_--%3B%0A%20%20%20%20return%20aux%3B%0A%7D%0A%0Atemplate%3Ctypename%20T%3E%0AT%26%20structures%3A%3AArrayStack%3CT%3E%3A%3Atop%28%29%20%7B%0A%20%20%20%20if%20%28empty%28%29%29%0A%20%20%20%20%20%20%20%20throw%20std%3A%3Aout_of_range%28%22pilha%20vazia%22%29%3B%0A%20%20%20%20return%20contents%5Btop_%5D%3B%0A%7D%0A%0Atemplate%3Ctypename%20T%3E%0Avoid%20structures%3A%3AArrayStack%3CT%3E%3A%3Aclear%28%29%20%7B%0A%20%20%20%20top_%20%3D%20-1%3B%0A%7D%0A%0Atemplate%3Ctypename%20T%3E%0Astd%3A%3Asize_t%20structures%3A%3AArrayStack%3CT%3E%3A%3Asize%28%29%20%7B%0A%20%20%20%20return%20top_%20%2B%201%3B%0A%7D%0A%0Atemplate%3Ctypename%20T%3E%0Astd%3A%3Asize_t%20structures%3A%3AArrayStack%3CT%3E%3A%3Amax_size%28%29%20%7B%0A%20%20%20%20return%20max_size_%3B%0A%7D%0A%0Atemplate%3Ctypename%20T%3E%0Abool%20structures%3A%3AArrayStack%3CT%3E%3A%3Aempty%28%29%20%7B%0A%20%20%20%20return%20%28top_%20%3D%3D%20-1%29%3B%0A%7D%0A%0Atemplate%3Ctypename%20T%3E%0Abool%20structures%3A%3AArrayStack%3CT%3E%3A%3Afull%28%29%20%7B%0A%20%20%20%20return%20%28top_%20%3D%3D%20max_size%28%29-1%29%3B%0A%7D%0A%0A//-----------------------------------------------------------------------------%0A%0Aint%20main%28%29%20%7B%0A%20%20%20%20using%20namespace%20structures%3B%0A%20%20%20%20ArrayStack%3Cint%3E%20p%2810%29%3B%0A%0A%20%20%20%20for%20%28int%20i%3D10%3B%20i%3C%3D50%3B%20i%3Di%2B10%29%20%7B%0A%20%20%20%20%20%20%20%20p.push%28i%29%3B%0A%20%20%20%20%7D%0A%0A%20%20%20%20return%200%3B%0A%7D&curInstr=85&mode=display&origin=opt-frontend.js&py=cpp&rawInputLstJSON=%5B%5D)"
   ]
  },
  {
   "cell_type": "markdown",
   "metadata": {},
   "source": [
    "## Teste do 'pop'\n",
    "\n",
    "Desempilhando até que a pilha se torne vazia."
   ]
  },
  {
   "cell_type": "code",
   "execution_count": 14,
   "metadata": {},
   "outputs": [
    {
     "name": "stdout",
     "output_type": "stream",
     "text": [
      "50 \n",
      "40 \n",
      "30 \n",
      "20 \n",
      "10 \n"
     ]
    }
   ],
   "source": [
    "while (!p.empty()) {\n",
    "    std::cout << p.pop() << \" \" << std::endl;\n",
    "}"
   ]
  },
  {
   "cell_type": "code",
   "execution_count": 15,
   "metadata": {},
   "outputs": [
    {
     "name": "stdout",
     "output_type": "stream",
     "text": [
      "0\n",
      "1"
     ]
    }
   ],
   "source": [
    "std::cout << p.size() << \"\\n\";\n",
    "p.push(77);\n",
    "std::cout << p.size();"
   ]
  },
  {
   "cell_type": "code",
   "execution_count": null,
   "metadata": {},
   "outputs": [],
   "source": []
  }
 ],
 "metadata": {
  "kernelspec": {
   "display_name": "C++14",
   "language": "C++14",
   "name": "xcpp14"
  },
  "language_info": {
   "codemirror_mode": "text/x-c++src",
   "file_extension": ".cpp",
   "mimetype": "text/x-c++src",
   "name": "c++",
   "version": "14"
  }
 },
 "nbformat": 4,
 "nbformat_minor": 2
}
