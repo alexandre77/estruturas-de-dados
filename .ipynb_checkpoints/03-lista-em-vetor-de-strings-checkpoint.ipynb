{
 "cells": [
  {
   "cell_type": "markdown",
   "metadata": {},
   "source": [
    "# Lista (em vetor) de strings\n",
    "\n",
    "Implementação de lista (em vetor) de strings.\n",
    "\n",
    "## Índice\n",
    "\n",
    "1. **[Declarações](#Declarações)** <br>\n",
    "2. **[Exemplos](#Exemplos)** <br>"
   ]
  },
  {
   "cell_type": "markdown",
   "metadata": {},
   "source": [
    "## Declarações"
   ]
  },
  {
   "cell_type": "code",
   "execution_count": 1,
   "metadata": {},
   "outputs": [],
   "source": [
    "namespace structures {\n",
    "\n",
    "template<typename T>\n",
    "class ArrayList {\n",
    " public:\n",
    "    ArrayList();\n",
    "    explicit ArrayList(std::size_t max_size);\n",
    "    ~ArrayList();\n",
    "\n",
    "    void clear();\n",
    "    void push_back(const T& data);\n",
    "    void push_front(const T& data);\n",
    "    void insert(const T& data, std::size_t index);\n",
    "    void insert_sorted(const T& data);\n",
    "    T pop(std::size_t index);\n",
    "    T pop_back();\n",
    "    T pop_front();\n",
    "    void remove(const T& data);\n",
    "    bool full() const;\n",
    "    bool empty() const;\n",
    "    bool contains(const T& data) const;\n",
    "    std::size_t find(const T& data) const;\n",
    "    std::size_t size() const;\n",
    "    std::size_t max_size() const;\n",
    "    T& at(std::size_t index);\n",
    "    T& operator[](std::size_t index);\n",
    "    const T& at(std::size_t index) const;\n",
    "    const T& operator[](std::size_t index) const;\n",
    "\n",
    " private:\n",
    "    T* contents;\n",
    "    std::size_t size_;\n",
    "    std::size_t max_size_;\n",
    "\n",
    "    static const auto DEFAULT_MAX = 10u;\n",
    "};\n",
    "\n",
    "\n",
    "//-------------------------------------\n",
    "\n",
    "\n",
    "class ArrayListString : public ArrayList<char *> {\n",
    " public:\n",
    "    ArrayListString() : ArrayList() {};\n",
    "    explicit ArrayListString(std::size_t max_size) : ArrayList(max_size) {};\n",
    "    ~ArrayListString();\n",
    "    void clear();\n",
    "    void push_back(const char *data);\n",
    "    void push_front(const char *data);\n",
    "    void insert(const char *data, std::size_t index);\n",
    "    void insert_sorted(const char *data);\n",
    "    char *pop(std::size_t index);  // idem superclasse\n",
    "    char *pop_back();  // idem superclasse\n",
    "    char *pop_front();  // idem superclasse\n",
    "    void remove(const char *data);\n",
    "    // bool full() const;  // idem superclasse\n",
    "    // bool empty() const;  // idem superclasse\n",
    "    bool contains(const char *data);\n",
    "    std::size_t find(const char *data);\n",
    "    // std::size_t size() const;  // idem superclasse\n",
    "    // std::size_t max_size() const;  // idem superclasse\n",
    "    // char *at(std::size_t index);  // idem superclasse\n",
    "    // char *operator[](std::size_t index);  // idem superclasse\n",
    "    // const char *at(std::size_t index) const;  // idem superclasse\n",
    "    // const char *operator[](std::size_t index) const;  // idem superclasse\n",
    "};\n",
    "\n",
    "}  // namespace structures"
   ]
  },
  {
   "cell_type": "markdown",
   "metadata": {},
   "source": [
    "## Exemplos"
   ]
  },
  {
   "cell_type": "code",
   "execution_count": 2,
   "metadata": {},
   "outputs": [
    {
     "name": "stdout",
     "output_type": "stream",
     "text": [
      "lista[2]  = ine\n",
      "lista.at(2)  = ine\n",
      "lista.contains(\"2018\")  = 1\n",
      "lista.contains(\"2017\")  = 0\n",
      "lista.find(\"2018\")  = 0\n",
      "lista.find(\"2017\")  = 4\n"
     ]
    }
   ],
   "source": [
    "#include <iostream>\n",
    "#pragma cling load(\"libs/libstring_list.so\")\n",
    "\n",
    "try {\n",
    "    structures::ArrayListString lista(5);\n",
    "    lista.push_back(\"2018\");\n",
    "    lista.push_back(\"florianopolis\");\n",
    "    lista.push_back(\"ufsc\");\n",
    "    lista.insert_sorted(\"ine\");\n",
    "\n",
    "    std::cout << \"lista[2]  = \" << lista[2] << std::endl;\n",
    "    std::cout << \"lista.at(2)  = \" << lista.at(2) << std::endl;\n",
    "    std::cout << \"lista.contains(\\\"2018\\\")  = \" << lista.contains(\"2018\") << std::endl;\n",
    "    std::cout << \"lista.contains(\\\"2017\\\")  = \" << lista.contains(\"2017\") << std::endl;\n",
    "    std::cout << \"lista.find(\\\"2018\\\")  = \" << lista.find(\"2018\") << std::endl;\n",
    "    std::cout << \"lista.find(\\\"2017\\\")  = \" << lista.find(\"2017\") << std::endl;\n",
    "\n",
    "} catch (std::exception const& ex) {\n",
    "    std::cerr << \"Exception: \" << ex.what() << std::endl;\n",
    "    return -1;\n",
    "}"
   ]
  }
 ],
 "metadata": {
  "kernelspec": {
   "display_name": "C++14",
   "language": "C++14",
   "name": "xcpp14"
  },
  "language_info": {
   "codemirror_mode": "text/x-c++src",
   "file_extension": ".cpp",
   "mimetype": "text/x-c++src",
   "name": "c++",
   "version": "14"
  }
 },
 "nbformat": 4,
 "nbformat_minor": 2
}
