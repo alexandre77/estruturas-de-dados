{
 "cells": [
  {
   "cell_type": "markdown",
   "metadata": {},
   "source": [
    "# Lista em vetor\n",
    "\n",
    "Implementação de lista em vetor.\n",
    "\n",
    "## Índice\n",
    "\n",
    "1. **[Declarações](#Declarações)** <br>\n",
    "2. **[Exemplos](#Exemplos)** <br>\n",
    "3. **[Exercício: lista de listas para matriz esparsa](#Exercício:-lista-de-listas-para-matriz-esparsa)** <br>"
   ]
  },
  {
   "cell_type": "markdown",
   "metadata": {},
   "source": [
    "## Declarações"
   ]
  },
  {
   "cell_type": "code",
   "execution_count": 1,
   "metadata": {},
   "outputs": [],
   "source": [
    "namespace structures {\n",
    "\n",
    "template<typename T>\n",
    "class LinkedList {\n",
    " public:\n",
    "    LinkedList();\n",
    "    ~LinkedList();\n",
    "    void clear();\n",
    "    void push_back(const T& data);\n",
    "    void push_front(const T& data);\n",
    "    void insert(const T& data, std::size_t index);\n",
    "    void insert_sorted(const T& data);\n",
    "    T& at(std::size_t index);\n",
    "    T pop(std::size_t index);\n",
    "    T pop_back();\n",
    "    T pop_front();\n",
    "    void remove(const T& data);\n",
    "    bool empty() const;\n",
    "    bool contains(const T& data) const;\n",
    "    std::size_t find(const T& data) const;\n",
    "    std::size_t size() const;\n",
    "\n",
    " private:\n",
    "    class Node {\n",
    "     public:\n",
    "        explicit Node(const T& data):\n",
    "            data_{data}\n",
    "        {}\n",
    "\n",
    "        Node(const T& data, Node* next):\n",
    "            data_{data},\n",
    "            next_{next}\n",
    "        {}\n",
    "\n",
    "        T& data() {\n",
    "            return data_;\n",
    "        }\n",
    "\n",
    "        const T& data() const {\n",
    "            return data_;\n",
    "        }\n",
    "\n",
    "        Node* next() {\n",
    "            return next_;\n",
    "        }\n",
    "\n",
    "        const Node* next() const {\n",
    "            return next_;\n",
    "        }\n",
    "\n",
    "        void next(Node* node) {\n",
    "            next_ = node;\n",
    "        }\n",
    "\n",
    "     private:\n",
    "        T data_;\n",
    "        Node* next_{nullptr};\n",
    "    };\n",
    "\n",
    "    Node* end() {\n",
    "        auto it = head;\n",
    "        for (auto i = 1u; i < size(); ++i) {\n",
    "            it = it->next();\n",
    "        }\n",
    "        return it;\n",
    "    }\n",
    "\n",
    "    Node* head{nullptr};\n",
    "    std::size_t size_{0u};\n",
    "};\n",
    "\n",
    "}  // namespace structures"
   ]
  },
  {
   "cell_type": "markdown",
   "metadata": {},
   "source": [
    "## Exemplos"
   ]
  },
  {
   "cell_type": "code",
   "execution_count": 2,
   "metadata": {},
   "outputs": [],
   "source": [
    "#include <iostream>\n",
    "#pragma cling load(\"libs/liblinked_list.so\")\n",
    "\n",
    "using namespace structures;\n",
    "\n",
    "int a, b, c, d;\n",
    "LinkedList<int> lista;\n",
    "\n",
    "lista.push_back(11);\n",
    "lista.push_back(22);\n",
    "lista.push_back(33);\n",
    "lista.insert_sorted(27);"
   ]
  },
  {
   "cell_type": "markdown",
   "metadata": {},
   "source": [
    "![Lista em vetor](figs/lista-dinamica.png)"
   ]
  },
  {
   "cell_type": "code",
   "execution_count": 3,
   "metadata": {},
   "outputs": [
    {
     "name": "stdout",
     "output_type": "stream",
     "text": [
      "11 33 27 22\n"
     ]
    }
   ],
   "source": [
    "a = lista.pop_front();\n",
    "b = lista.pop_back();\n",
    "c = lista.pop_back();\n",
    "d = lista.pop_front();\n",
    "std::cout << a << ' ' << b << ' ' << c << ' ' << d << std::endl;"
   ]
  },
  {
   "cell_type": "markdown",
   "metadata": {},
   "source": [
    "## Exercício: lista de listas para matriz esparsa"
   ]
  },
  {
   "cell_type": "code",
   "execution_count": 4,
   "metadata": {},
   "outputs": [],
   "source": [
    "typedef float TIPO;\n",
    "struct ColunaValor {\n",
    "    int col;\n",
    "    TIPO val;\n",
    "};"
   ]
  },
  {
   "cell_type": "code",
   "execution_count": 5,
   "metadata": {},
   "outputs": [],
   "source": [
    "auto lista_esparsa(TIPO **mat, int H, int W) {\n",
    "    LinkedList< LinkedList<ColunaValor>* > *lista = new LinkedList< LinkedList<ColunaValor>* >;\n",
    "    for (int i=0; i<H; i++) {\n",
    "        LinkedList<ColunaValor>* lista_linha = new LinkedList<ColunaValor>;\n",
    "        for (int j=0; j<W; j++) {\n",
    "            if (mat[i][j] != 0) {\n",
    "                ColunaValor aux;\n",
    "                aux.col = j;\n",
    "                aux.val = mat[i][j];\n",
    "                lista_linha->push_back(aux);\n",
    "            }\n",
    "        }\n",
    "        lista->push_back(lista_linha);\n",
    "    }\n",
    "    return lista;\n",
    "}"
   ]
  },
  {
   "cell_type": "code",
   "execution_count": 6,
   "metadata": {},
   "outputs": [],
   "source": [
    "int H = 4, W = 7;\n",
    "TIPO **matriz;\n",
    "matriz = new TIPO*[H];\n",
    "for (int i=0; i<H; i++) {\n",
    "    matriz[i] = new TIPO[W];\n",
    "    for (int j=0; j<W; j++) {\n",
    "        matriz[i][j] = 0.0;\n",
    "    }\n",
    "}\n",
    "matriz[0][3] = 1.1;\n",
    "matriz[1][1] = 2.2;\n",
    "matriz[2][1] = 3.3; matriz[2][4] = 4.4;\n",
    "matriz[3][0] = 5.5; matriz[3][3] = 6.6;"
   ]
  },
  {
   "cell_type": "code",
   "execution_count": 7,
   "metadata": {},
   "outputs": [],
   "source": [
    "LinkedList< LinkedList<ColunaValor>* > *le = lista_esparsa(matriz, H, W);"
   ]
  },
  {
   "cell_type": "code",
   "execution_count": 8,
   "metadata": {},
   "outputs": [
    {
     "name": "stderr",
     "output_type": "stream",
     "text": [
      "\u001b[1minput_line_15:6:52: \u001b[0m\u001b[0;1;35mwarning: \u001b[0m\u001b[1mmulti-character character constant [-Wmultichar]\u001b[0m\n",
      "        std::cout << '(' << i << ',' << aux.col << ')=' << aux.val << ' ';\n",
      "\u001b[0;1;32m                                                   ^\n",
      "\u001b[0m"
     ]
    },
    {
     "name": "stdout",
     "output_type": "stream",
     "text": [
      "(0,3105571.1 \n",
      "(1,1105572.2 \n",
      "(2,1105573.3 (2,4105574.4 \n",
      "(3,0105575.5 (3,3105576.6 \n"
     ]
    }
   ],
   "source": [
    "for (int i=0; i<le->size(); i++) {\n",
    "    LinkedList<ColunaValor>* le_linha = le->at(i);\n",
    "    for (int j=0; j<le_linha->size(); j++) {\n",
    "        ColunaValor aux = le_linha->at(j);\n",
    "        std::cout << '(' << i << ',' << aux.col << \")=\" << aux.val << ' ';\n",
    "    }\n",
    "    std::cout << std::endl;\n",
    "}"
   ]
  }
 ],
 "metadata": {
  "kernelspec": {
   "display_name": "C++14",
   "language": "C++14",
   "name": "xcpp14"
  },
  "language_info": {
   "codemirror_mode": "text/x-c++src",
   "file_extension": ".cpp",
   "mimetype": "text/x-c++src",
   "name": "c++",
   "version": "14"
  }
 },
 "nbformat": 4,
 "nbformat_minor": 2
}
