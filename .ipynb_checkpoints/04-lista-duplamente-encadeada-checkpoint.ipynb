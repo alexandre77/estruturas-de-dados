{
 "cells": [
  {
   "cell_type": "markdown",
   "metadata": {},
   "source": [
    "# Lista duplamente encadeada\n",
    "\n",
    "Implementação de lista duplamente encadeada.\n",
    "\n",
    "## Índice\n",
    "\n",
    "1. **[Declarações](#Declarações)** <br>\n",
    "2. **[Exemplos](#Exemplos)** <br>\n",
    "3. **[Avaliação de desempenho](#Avaliação-de-desempenho)** <br>"
   ]
  },
  {
   "cell_type": "markdown",
   "metadata": {},
   "source": [
    "## Declarações"
   ]
  },
  {
   "cell_type": "code",
   "execution_count": 1,
   "metadata": {},
   "outputs": [],
   "source": [
    "namespace structures {\n",
    "\n",
    "template<typename T>\n",
    "class DoublyLinkedList {\n",
    " public:\n",
    "    DoublyLinkedList();\n",
    "    ~DoublyLinkedList();\n",
    "    void clear();\n",
    "    void push_back(const T& data);\n",
    "    void push_front(const T& data);\n",
    "    void insert(const T& data, std::size_t index);\n",
    "    void insert_sorted(const T& data);\n",
    "    T pop(std::size_t index);\n",
    "    T pop_back();\n",
    "    T pop_front();\n",
    "    void remove(const T& data);\n",
    "    bool empty() const;\n",
    "    bool contains(const T& data) const;\n",
    "    T& at(std::size_t index);\n",
    "    const T& at(std::size_t index) const;\n",
    "    std::size_t find(const T& data) const;\n",
    "    std::size_t size() const;\n",
    "\n",
    " private:\n",
    "    class Node {\n",
    "     public:\n",
    "        explicit Node(const T& data):\n",
    "            data_{data}\n",
    "        {}\n",
    "        Node(const T& data, Node* next):\n",
    "            data_{data},\n",
    "            next_{next}\n",
    "        {}\n",
    "        Node(const T& data, Node* prev, Node* next):\n",
    "            data_{data},\n",
    "            next_{next},\n",
    "            prev_{prev}\n",
    "        {}\n",
    "        T& data() {\n",
    "            return data_;\n",
    "        }\n",
    "        const T& data() const {\n",
    "            return data_;\n",
    "        }\n",
    "        Node* prev() {\n",
    "            return prev_;\n",
    "        }\n",
    "        const Node* prev() const {\n",
    "            return prev_;\n",
    "        }\n",
    "        void prev(Node* node) {\n",
    "            prev_ = node;\n",
    "        }\n",
    "        Node* next() {\n",
    "            return next_;\n",
    "        }\n",
    "        const Node* next() const {\n",
    "            return next_;\n",
    "        }\n",
    "        void next(Node* node) {\n",
    "            next_ = node;\n",
    "        }\n",
    "\n",
    "     private:\n",
    "        T data_;\n",
    "        Node* prev_;\n",
    "        Node* next_;\n",
    "    };\n",
    "    Node* head;  // primeiro da lista\n",
    "    Node* tail;  // ultimo da lista\n",
    "    std::size_t size_;\n",
    "};\n",
    "\n",
    "}  // namespace structures"
   ]
  },
  {
   "cell_type": "markdown",
   "metadata": {},
   "source": [
    "## Exemplos"
   ]
  },
  {
   "cell_type": "code",
   "execution_count": 2,
   "metadata": {},
   "outputs": [],
   "source": [
    "#include <iostream>\n",
    "#pragma cling load(\"libs/libdoubly_linked_list.so\")\n",
    "\n",
    "using namespace structures;\n",
    "\n",
    "int a, b, c, d;\n",
    "DoublyLinkedList<int> lista;\n",
    "\n",
    "lista.push_back(11);\n",
    "lista.push_back(22);\n",
    "lista.push_back(33);\n",
    "lista.insert_sorted(27);"
   ]
  },
  {
   "cell_type": "markdown",
   "metadata": {},
   "source": [
    "![Lista em vetor](figs/lista-dinamica-dupla.png)"
   ]
  },
  {
   "cell_type": "code",
   "execution_count": 3,
   "metadata": {},
   "outputs": [
    {
     "name": "stdout",
     "output_type": "stream",
     "text": [
      "11 33 27 22\n"
     ]
    }
   ],
   "source": [
    "a = lista.pop_front();\n",
    "b = lista.pop_back();\n",
    "c = lista.pop_back();\n",
    "d = lista.pop_front();\n",
    "std::cout << a << ' ' << b << ' ' << c << ' ' << d << std::endl;"
   ]
  },
  {
   "cell_type": "markdown",
   "metadata": {},
   "source": [
    "## Avaliação de desempenho"
   ]
  },
  {
   "cell_type": "code",
   "execution_count": 4,
   "metadata": {},
   "outputs": [],
   "source": [
    "namespace structures {\n",
    "\n",
    "template<typename T>\n",
    "class LinkedList {\n",
    " public:\n",
    "    LinkedList();\n",
    "    ~LinkedList();\n",
    "    void clear();\n",
    "    void push_back(const T& data);\n",
    "    void push_front(const T& data);\n",
    "    void insert(const T& data, std::size_t index);\n",
    "    void insert_sorted(const T& data);\n",
    "    T& at(std::size_t index);\n",
    "    T pop(std::size_t index);\n",
    "    T pop_back();\n",
    "    T pop_front();\n",
    "    void remove(const T& data);\n",
    "    bool empty() const;\n",
    "    bool contains(const T& data) const;\n",
    "    std::size_t find(const T& data) const;\n",
    "    std::size_t size() const;\n",
    "\n",
    " private:\n",
    "    class Node {\n",
    "     public:\n",
    "        explicit Node(const T& data):\n",
    "            data_{data}\n",
    "        {}\n",
    "        Node(const T& data, Node* next):\n",
    "            data_{data},\n",
    "            next_{next}\n",
    "        {}\n",
    "        T& data() {\n",
    "            return data_;\n",
    "        }\n",
    "        const T& data() const {\n",
    "            return data_;\n",
    "        }\n",
    "        Node* next() {\n",
    "            return next_;\n",
    "        }\n",
    "        const Node* next() const {\n",
    "            return next_;\n",
    "        }\n",
    "        void next(Node* node) {\n",
    "            next_ = node;\n",
    "        }\n",
    "\n",
    "     private:\n",
    "        T data_;\n",
    "        Node* next_{nullptr};\n",
    "    };\n",
    "\n",
    "    Node* end() {\n",
    "        auto it = head;\n",
    "        for (auto i = 1u; i < size(); ++i) {\n",
    "            it = it->next();\n",
    "        }\n",
    "        return it;\n",
    "    }\n",
    "\n",
    "    Node* head{nullptr};\n",
    "    std::size_t size_{0u};\n",
    "};\n",
    "\n",
    "}  // namespace structures"
   ]
  },
  {
   "cell_type": "code",
   "execution_count": 7,
   "metadata": {},
   "outputs": [
    {
     "name": "stdout",
     "output_type": "stream",
     "text": [
      "1000\n",
      "0\n"
     ]
    }
   ],
   "source": [
    "#pragma cling load(\"libs/liblinked_list.so\")\n",
    "#include <ctime>\n",
    "const int TAM = 1000;\n",
    "\n",
    "clock_t t0 = clock();\n",
    "\n",
    "LinkedList<int> lista_v1;\n",
    "for (int i=0; i<TAM; i++) {\n",
    "    lista_v1.push_back(i);\n",
    "}\n",
    "std::cout << lista_v1.size() << std::endl;\n",
    "\n",
    "for (int i=0; i<TAM; i++) {\n",
    "    lista_v1.pop_back();\n",
    "}\n",
    "std::cout << lista_v1.size() << std::endl;\n",
    "\n",
    "float tempo_v1 = float(clock() - t0) /  CLOCKS_PER_SEC;"
   ]
  },
  {
   "cell_type": "code",
   "execution_count": 8,
   "metadata": {},
   "outputs": [
    {
     "name": "stdout",
     "output_type": "stream",
     "text": [
      "1000\n",
      "0\n"
     ]
    }
   ],
   "source": [
    "t0 = clock();\n",
    "\n",
    "DoublyLinkedList<int> lista_v2;\n",
    "for (int i=0; i<TAM; i++) {\n",
    "    lista_v2.push_back(i);\n",
    "}\n",
    "std::cout << lista_v2.size() << std::endl;\n",
    "\n",
    "for (int i=0; i<TAM; i++) {\n",
    "    lista_v2.pop_back();\n",
    "}\n",
    "std::cout << lista_v2.size() << std::endl;\n",
    "\n",
    "float tempo_v2 = float(clock() - t0) /  CLOCKS_PER_SEC;"
   ]
  },
  {
   "cell_type": "code",
   "execution_count": 9,
   "metadata": {},
   "outputs": [
    {
     "name": "stdout",
     "output_type": "stream",
     "text": [
      "Tempo com lista SIMPLESMENTE encadeada: 0.021176\n",
      "Tempo com lista DUPLAMENTE encadeada: 0.000477\n",
      "Diferença percentual: 97.7475%"
     ]
    }
   ],
   "source": [
    "std::cout << \"Tempo com lista SIMPLESMENTE encadeada: \" << tempo_v1 << std::endl;\n",
    "std::cout << \"Tempo com lista DUPLAMENTE encadeada: \" << tempo_v2 << std::endl;\n",
    "std::cout << \"Diferença percentual: \" << 100 * (tempo_v1 - tempo_v2) / tempo_v1 << \"%\";"
   ]
  },
  {
   "cell_type": "code",
   "execution_count": null,
   "metadata": {},
   "outputs": [],
   "source": []
  }
 ],
 "metadata": {
  "kernelspec": {
   "display_name": "C++14",
   "language": "C++14",
   "name": "xcpp14"
  }
 },
 "nbformat": 4,
 "nbformat_minor": 2
}
