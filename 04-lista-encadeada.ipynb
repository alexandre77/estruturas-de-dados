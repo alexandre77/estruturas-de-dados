{
 "cells": [
  {
   "cell_type": "markdown",
   "metadata": {},
   "source": [
    "# Lista em vetor\n",
    "\n",
    "Implementação de lista em vetor.\n",
    "\n",
    "## Índice\n",
    "\n",
    "1. **[Declarações](#Declarações)** <br>\n",
    "2. **[Exemplos](#Exemplos)** <br>\n",
    "3. **[Exercício: lista de listas para matriz esparsa](#Exercício:-lista-de-listas-para-matriz-esparsa)** <br>"
   ]
  },
  {
   "cell_type": "markdown",
   "metadata": {},
   "source": [
    "## Declarações"
   ]
  },
  {
   "cell_type": "code",
   "execution_count": 1,
   "metadata": {},
   "outputs": [],
   "source": [
    "namespace structures {\n",
    "\n",
    "template<typename T>\n",
    "class LinkedList {\n",
    " public:\n",
    "    LinkedList();\n",
    "    ~LinkedList();\n",
    "    void clear();\n",
    "    void push_back(const T& data);\n",
    "    void push_front(const T& data);\n",
    "    void insert(const T& data, std::size_t index);\n",
    "    void insert_sorted(const T& data);\n",
    "    T& at(std::size_t index);\n",
    "    T pop(std::size_t index);\n",
    "    T pop_back();\n",
    "    T pop_front();\n",
    "    void remove(const T& data);\n",
    "    bool empty() const;\n",
    "    bool contains(const T& data) const;\n",
    "    std::size_t find(const T& data) const;\n",
    "    std::size_t size() const;\n",
    "\n",
    " private:\n",
    "    class Node {\n",
    "     public:\n",
    "        explicit Node(const T& data):\n",
    "            data_{data}\n",
    "        {}\n",
    "\n",
    "        Node(const T& data, Node* next):\n",
    "            data_{data},\n",
    "            next_{next}\n",
    "        {}\n",
    "\n",
    "        T& data() {\n",
    "            return data_;\n",
    "        }\n",
    "\n",
    "        const T& data() const {\n",
    "            return data_;\n",
    "        }\n",
    "\n",
    "        Node* next() {\n",
    "            return next_;\n",
    "        }\n",
    "\n",
    "        const Node* next() const {\n",
    "            return next_;\n",
    "        }\n",
    "\n",
    "        void next(Node* node) {\n",
    "            next_ = node;\n",
    "        }\n",
    "\n",
    "     private:\n",
    "        T data_;\n",
    "        Node* next_{nullptr};\n",
    "    };\n",
    "\n",
    "    Node* end() {\n",
    "        auto it = head;\n",
    "        for (auto i = 1u; i < size(); ++i) {\n",
    "            it = it->next();\n",
    "        }\n",
    "        return it;\n",
    "    }\n",
    "\n",
    "    Node* head{nullptr};\n",
    "    std::size_t size_{0u};\n",
    "};\n",
    "\n",
    "}  // namespace structures"
   ]
  },
  {
   "cell_type": "markdown",
   "metadata": {},
   "source": [
    "## Exemplos"
   ]
  },
  {
   "cell_type": "code",
   "execution_count": 2,
   "metadata": {},
   "outputs": [],
   "source": [
    "#include <iostream>\n",
    "#pragma cling load(\"libs/liblinked_list.so\")\n",
    "\n",
    "using namespace structures;\n",
    "\n",
    "int a, b, c, d;\n",
    "LinkedList<int> lista;\n",
    "\n",
    "lista.push_back(11);\n",
    "lista.push_back(22);\n",
    "lista.push_back(33);\n",
    "lista.insert_sorted(27);"
   ]
  },
  {
   "cell_type": "markdown",
   "metadata": {},
   "source": [
    "![Lista em vetor](figs/lista-dinamica.png)"
   ]
  },
  {
   "cell_type": "code",
   "execution_count": 3,
   "metadata": {},
   "outputs": [
    {
     "name": "stdout",
     "output_type": "stream",
     "text": [
      "11 33 27 22\n"
     ]
    }
   ],
   "source": [
    "a = lista.pop_front();\n",
    "b = lista.pop_back();\n",
    "c = lista.pop_back();\n",
    "d = lista.pop_front();\n",
    "std::cout << a << ' ' << b << ' ' << c << ' ' << d << std::endl;"
   ]
  },
  {
   "cell_type": "markdown",
   "metadata": {},
   "source": [
    "## Exercício: lista de listas para matriz esparsa"
   ]
  },
  {
   "cell_type": "code",
   "execution_count": null,
   "metadata": {},
   "outputs": [],
   "source": []
  }
 ],
 "metadata": {
  "kernelspec": {
   "display_name": "C++14",
   "language": "C++14",
   "name": "xcpp14"
  },
  "language_info": {
   "codemirror_mode": "text/x-c++src",
   "file_extension": ".cpp",
   "mimetype": "text/x-c++src",
   "name": "c++",
   "version": "14"
  }
 },
 "nbformat": 4,
 "nbformat_minor": 2
}
