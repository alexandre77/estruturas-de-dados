{
 "cells": [
  {
   "cell_type": "markdown",
   "metadata": {},
   "source": [
    "# Pilha em vetor\n",
    "\n",
    "Implementação de pilha em vetor."
   ]
  },
  {
   "cell_type": "code",
   "execution_count": 1,
   "metadata": {},
   "outputs": [],
   "source": [
    "// Copyright [2019] <COLOQUE SEU NOME AQUI...>\n",
    "\n",
    "namespace structures {\n",
    "\n",
    "template<typename T>\n",
    "//! CLASSE PILHA\n",
    "class ArrayStack {\n",
    " public:\n",
    "    //! construtor simples\n",
    "    ArrayStack();\n",
    "    //! construtor com parametro tamanho\n",
    "    explicit ArrayStack(std::size_t max);\n",
    "    //! destrutor\n",
    "    ~ArrayStack();\n",
    "    //! metodo empilha\n",
    "    void push(const T& data);\n",
    "    //! metodo desempilha\n",
    "    T pop();\n",
    "    //! metodo retorna o topo\n",
    "    T& top();\n",
    "    //! metodo limpa pilha\n",
    "    void clear();\n",
    "    //! metodo retorna tamanho\n",
    "    std::size_t size();\n",
    "    //! metodo retorna capacidade maxima\n",
    "    std::size_t max_size();\n",
    "    //! verifica se esta vazia\n",
    "    bool empty();\n",
    "    //! verifica se esta cheia\n",
    "    bool full();\n",
    "\n",
    " private:\n",
    "    T* contents;\n",
    "    int top_;\n",
    "    std::size_t max_size_;\n",
    "\n",
    "    static const auto DEFAULT_SIZE = 10u;\n",
    "};\n",
    "\n",
    "}  // namespace structures"
   ]
  },
  {
   "cell_type": "markdown",
   "metadata": {},
   "source": [
    "### Construtor (padrão)"
   ]
  },
  {
   "cell_type": "code",
   "execution_count": 2,
   "metadata": {},
   "outputs": [],
   "source": [
    "template<typename T>\n",
    "structures::ArrayStack<T>::ArrayStack() {\n",
    "    ArrayStack(DEFAULT_SIZE);\n",
    "}"
   ]
  },
  {
   "cell_type": "markdown",
   "metadata": {},
   "source": [
    "### Construtor (alternativo com parâmetros)"
   ]
  },
  {
   "cell_type": "code",
   "execution_count": 3,
   "metadata": {},
   "outputs": [],
   "source": [
    "template<typename T>\n",
    "structures::ArrayStack<T>::ArrayStack(std::size_t max) {\n",
    "    max_size_ = max;\n",
    "    contents = new T[max_size_];\n",
    "    top_ = -1;\n",
    "}"
   ]
  },
  {
   "cell_type": "markdown",
   "metadata": {},
   "source": [
    "### Destrutor\n",
    "\n",
    "O programador é responsável por desalocar toda a área de memória ocupada pelo objeto que foi alocada dinamicamente."
   ]
  },
  {
   "cell_type": "code",
   "execution_count": 4,
   "metadata": {},
   "outputs": [],
   "source": [
    "template<typename T>\n",
    "structures::ArrayStack<T>::~ArrayStack() {\n",
    "    delete [] contents;\n",
    "}"
   ]
  },
  {
   "cell_type": "markdown",
   "metadata": {},
   "source": [
    "### Empilha"
   ]
  },
  {
   "cell_type": "code",
   "execution_count": 5,
   "metadata": {},
   "outputs": [],
   "source": [
    "template<typename T>\n",
    "void structures::ArrayStack<T>::push(const T& data) {\n",
    "    if (full())\n",
    "        throw std::out_of_range(\"pilha cheia\");\n",
    "    top_++;\n",
    "    contents[top_] = data;\n",
    "}"
   ]
  },
  {
   "cell_type": "markdown",
   "metadata": {},
   "source": [
    "### Desempilha"
   ]
  },
  {
   "cell_type": "code",
   "execution_count": 6,
   "metadata": {},
   "outputs": [],
   "source": [
    "template<typename T>\n",
    "T structures::ArrayStack<T>::pop() {\n",
    "    if (empty())\n",
    "        throw std::out_of_range(\"pilha vazia\");\n",
    "    T aux;\n",
    "    aux = contents[top_];\n",
    "    top_--;\n",
    "    return aux;\n",
    "}"
   ]
  },
  {
   "cell_type": "markdown",
   "metadata": {},
   "source": [
    "### Consulta o topo"
   ]
  },
  {
   "cell_type": "code",
   "execution_count": 7,
   "metadata": {},
   "outputs": [],
   "source": [
    "template<typename T>\n",
    "T& structures::ArrayStack<T>::top() {\n",
    "    if (empty())\n",
    "        throw std::out_of_range(\"pilha vazia\");\n",
    "    return contents[top_];\n",
    "}"
   ]
  },
  {
   "cell_type": "markdown",
   "metadata": {},
   "source": [
    "### Limpa a pilha"
   ]
  },
  {
   "cell_type": "code",
   "execution_count": 8,
   "metadata": {},
   "outputs": [],
   "source": [
    "template<typename T>\n",
    "void structures::ArrayStack<T>::clear() {\n",
    "    top_ = -1;\n",
    "}"
   ]
  },
  {
   "cell_type": "markdown",
   "metadata": {},
   "source": [
    "### Quantidade de elementos"
   ]
  },
  {
   "cell_type": "code",
   "execution_count": 9,
   "metadata": {},
   "outputs": [],
   "source": [
    "template<typename T>\n",
    "std::size_t structures::ArrayStack<T>::size() {\n",
    "    return top_ + 1;\n",
    "}"
   ]
  },
  {
   "cell_type": "markdown",
   "metadata": {},
   "source": [
    "### Consulta o tamanho do vetor"
   ]
  },
  {
   "cell_type": "code",
   "execution_count": 10,
   "metadata": {},
   "outputs": [],
   "source": [
    "template<typename T>\n",
    "std::size_t structures::ArrayStack<T>::max_size() {\n",
    "    return max_size_;\n",
    "}"
   ]
  },
  {
   "cell_type": "markdown",
   "metadata": {},
   "source": [
    "### Verifica se pilha vazia"
   ]
  },
  {
   "cell_type": "code",
   "execution_count": 11,
   "metadata": {},
   "outputs": [],
   "source": [
    "template<typename T>\n",
    "bool structures::ArrayStack<T>::empty() {\n",
    "    return (top_ == -1);\n",
    "}"
   ]
  },
  {
   "cell_type": "markdown",
   "metadata": {},
   "source": [
    "### Verifica se pilha cheia"
   ]
  },
  {
   "cell_type": "code",
   "execution_count": 12,
   "metadata": {},
   "outputs": [],
   "source": [
    "template<typename T>\n",
    "bool structures::ArrayStack<T>::full() {\n",
    "    return (top_ == max_size()-1);\n",
    "}"
   ]
  },
  {
   "cell_type": "markdown",
   "metadata": {},
   "source": [
    "## Teste do 'push' e 'size'\n",
    "\n",
    "Empilhando 5 inteiros (0, 1, 2, 3 e 4), e mostrando o tamanho final da pilha."
   ]
  },
  {
   "cell_type": "code",
   "execution_count": 13,
   "metadata": {},
   "outputs": [
    {
     "name": "stdout",
     "output_type": "stream",
     "text": [
      "5\n"
     ]
    }
   ],
   "source": [
    "#include <iostream>\n",
    "using namespace structures;\n",
    "ArrayStack<int> p(10);\n",
    "\n",
    "for (int i=0; i<5; i++) {\n",
    "    p.push(i);\n",
    "}\n",
    "\n",
    "std::cout << p.size() << std::endl;"
   ]
  },
  {
   "cell_type": "markdown",
   "metadata": {},
   "source": [
    "## Teste do 'pop'\n",
    "\n",
    "Desempilhando até que a pilha se torne vazia."
   ]
  },
  {
   "cell_type": "code",
   "execution_count": 14,
   "metadata": {},
   "outputs": [
    {
     "name": "stdout",
     "output_type": "stream",
     "text": [
      "4 \n",
      "3 \n",
      "2 \n",
      "1 \n",
      "0 \n"
     ]
    }
   ],
   "source": [
    "while (!p.empty()) {\n",
    "    std::cout << p.pop() << \" \" << std::endl;\n",
    "}"
   ]
  },
  {
   "cell_type": "code",
   "execution_count": null,
   "metadata": {},
   "outputs": [],
   "source": []
  }
 ],
 "metadata": {
  "kernelspec": {
   "display_name": "C++14",
   "language": "C++14",
   "name": "xcpp14"
  },
  "language_info": {
   "codemirror_mode": "text/x-c++src",
   "file_extension": ".cpp",
   "mimetype": "text/x-c++src",
   "name": "c++",
   "version": "14"
  }
 },
 "nbformat": 4,
 "nbformat_minor": 2
}
